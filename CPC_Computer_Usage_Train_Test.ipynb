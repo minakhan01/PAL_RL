{
  "nbformat": 4,
  "nbformat_minor": 0,
  "metadata": {
    "colab": {
      "name": "CPC_Computer_Usage_Train_Test",
      "provenance": [],
      "collapsed_sections": [],
      "authorship_tag": "ABX9TyM+lLtKN3igGwkPwCUGM45I",
      "include_colab_link": true
    },
    "kernelspec": {
      "name": "python3",
      "display_name": "Python 3"
    },
    "language_info": {
      "name": "python"
    },
    "accelerator": "GPU"
  },
  "cells": [
    {
      "cell_type": "markdown",
      "metadata": {
        "id": "view-in-github",
        "colab_type": "text"
      },
      "source": [
        "<a href=\"https://colab.research.google.com/github/minakhan01/PAL_RL/blob/main/CPC_Computer_Usage_Train_Test.ipynb\" target=\"_parent\"><img src=\"https://colab.research.google.com/assets/colab-badge.svg\" alt=\"Open In Colab\"/></a>"
      ]
    },
    {
      "cell_type": "markdown",
      "metadata": {
        "id": "soK1q3PCSkj3"
      },
      "source": [
        "## Mount Drive"
      ]
    },
    {
      "cell_type": "code",
      "metadata": {
        "id": "Mt7XGQ8ySkV1",
        "colab": {
          "base_uri": "https://localhost:8080/"
        },
        "outputId": "83a8c6c1-3e76-4586-e5a8-67ea6b0283e1"
      },
      "source": [
        "!pip install -U -q PyDrive\n",
        "!pip install httplib2==0.15.0\n",
        "import os\n",
        "from pydrive.auth import GoogleAuth\n",
        "from pydrive.drive import GoogleDrive\n",
        "from pydrive.files import GoogleDriveFileList\n",
        "from google.colab import auth\n",
        "from oauth2client.client import GoogleCredentials\n",
        "\n",
        "from getpass import getpass\n",
        "import urllib\n",
        "\n",
        "auth.authenticate_user()\n",
        "gauth = GoogleAuth()\n",
        "gauth.credentials = GoogleCredentials.get_application_default()\n",
        "drive = GoogleDrive(gauth)\n",
        "\n",
        "from google.colab import drive as gdrive \n",
        "gdrive.mount('/content/gdrive')"
      ],
      "execution_count": null,
      "outputs": [
        {
          "output_type": "stream",
          "text": [
            "Collecting httplib2==0.15.0\n",
            "\u001b[?25l  Downloading https://files.pythonhosted.org/packages/be/83/5e006e25403871ffbbf587c7aa4650158c947d46e89f2d50dcaf018464de/httplib2-0.15.0-py3-none-any.whl (94kB)\n",
            "\r\u001b[K     |███▌                            | 10kB 23.9MB/s eta 0:00:01\r\u001b[K     |███████                         | 20kB 15.7MB/s eta 0:00:01\r\u001b[K     |██████████▍                     | 30kB 13.7MB/s eta 0:00:01\r\u001b[K     |█████████████▉                  | 40kB 12.8MB/s eta 0:00:01\r\u001b[K     |█████████████████▎              | 51kB 7.9MB/s eta 0:00:01\r\u001b[K     |████████████████████▊           | 61kB 8.5MB/s eta 0:00:01\r\u001b[K     |████████████████████████▏       | 71kB 8.7MB/s eta 0:00:01\r\u001b[K     |███████████████████████████▋    | 81kB 9.0MB/s eta 0:00:01\r\u001b[K     |███████████████████████████████ | 92kB 9.2MB/s eta 0:00:01\r\u001b[K     |████████████████████████████████| 102kB 6.2MB/s \n",
            "\u001b[?25hInstalling collected packages: httplib2\n",
            "  Found existing installation: httplib2 0.17.4\n",
            "    Uninstalling httplib2-0.17.4:\n",
            "      Successfully uninstalled httplib2-0.17.4\n",
            "Successfully installed httplib2-0.15.0\n",
            "Mounted at /content/gdrive\n"
          ],
          "name": "stdout"
        }
      ]
    },
    {
      "cell_type": "markdown",
      "metadata": {
        "id": "Q4fddw7qSi7a"
      },
      "source": [
        "## Load data from Drive"
      ]
    },
    {
      "cell_type": "code",
      "metadata": {
        "id": "pTKlEAH6Sivi"
      },
      "source": [
        "def get_folder_id(drive, parent_folder_id, folder_name):\n",
        "  \"\"\" \n",
        "\tCheck if destination folder exists and return it's ID\n",
        "\t\"\"\"\n",
        "  folder_exists = False\n",
        "\n",
        "  # Auto-iterate through all files in the parent folder.\n",
        "  file_list = GoogleDriveFileList()\n",
        "  try:\n",
        "    file_list = drive.ListFile(\n",
        "        {'q': \"'{0}' in parents and trashed=false\".format(parent_folder_id)}\n",
        "        ).GetList()\n",
        "\t# Exit if the parent folder doesn't exist\n",
        "  except googleapiclient.errors.HttpError as err:\n",
        "  # Parse error message\n",
        "    message = ast.literal_eval(err.content)['error']['message']\n",
        "    if message == 'File not found: ':\n",
        "      exit(1)\n",
        "  # Exit with stacktrace in case of other error\n",
        "    else:\n",
        "      raise\n",
        "\n",
        "\t# Find the the destination folder in the parent folder's files\n",
        "  for file1 in file_list:\n",
        "    if file1['title'] == folder_name:\n",
        "      folder_exists = True\n",
        "      return file1['id'], folder_exists\n",
        "\n",
        "  return None, False"
      ],
      "execution_count": null,
      "outputs": []
    },
    {
      "cell_type": "code",
      "metadata": {
        "id": "9Om6ktUWS3QP"
      },
      "source": [
        "experiment_id = \"MinaData\"\n",
        "\n",
        "folder_name = experiment_id\n",
        "\n",
        "# Change parentid to match that of experiments root folder in gdrive\n",
        "parentid = '1fakqJ81EcE65gUtVfFWBagQfGEI9IC1j'\n",
        "\n",
        "# Initialize sepcific experiment folder in drive\n",
        "folderid, folder_exists = get_folder_id(drive, parentid, folder_name)\n"
      ],
      "execution_count": null,
      "outputs": []
    },
    {
      "cell_type": "markdown",
      "metadata": {
        "id": "Af-XX7CoSihI"
      },
      "source": [
        "## Read file and redact"
      ]
    },
    {
      "cell_type": "code",
      "metadata": {
        "id": "wJVPTaeISiVW",
        "colab": {
          "base_uri": "https://localhost:8080/"
        },
        "outputId": "cedd748b-5bc7-4e1f-d2c3-5e190d177bb3"
      },
      "source": [
        "!git clone https://github.com/minakhan01/ActivityWatchRedact"
      ],
      "execution_count": null,
      "outputs": [
        {
          "output_type": "stream",
          "text": [
            "Cloning into 'ActivityWatchRedact'...\n",
            "remote: Enumerating objects: 71, done.\u001b[K\n",
            "remote: Counting objects: 100% (71/71), done.\u001b[K\n",
            "remote: Compressing objects: 100% (43/43), done.\u001b[K\n",
            "remote: Total 71 (delta 24), reused 64 (delta 17), pack-reused 0\u001b[K\n",
            "Unpacking objects: 100% (71/71), done.\n"
          ],
          "name": "stdout"
        }
      ]
    },
    {
      "cell_type": "code",
      "metadata": {
        "id": "j7cW7ZaJTEHL",
        "colab": {
          "base_uri": "https://localhost:8080/",
          "height": 1000
        },
        "outputId": "9f224b42-e1ea-458c-b2ae-6ba22b66ffeb"
      },
      "source": [
        "%cd ActivityWatchRedact\n",
        "!pwd\n",
        "!pip install -r requirements.txt"
      ],
      "execution_count": null,
      "outputs": [
        {
          "output_type": "stream",
          "text": [
            "/content/ActivityWatchRedact\n",
            "/content/ActivityWatchRedact\n",
            "Collecting altgraph==0.17\n",
            "  Downloading https://files.pythonhosted.org/packages/ee/3d/bfca21174b162f6ce674953f1b7a640c1498357fa6184776029557c25399/altgraph-0.17-py2.py3-none-any.whl\n",
            "Collecting argcomplete==1.12.2\n",
            "  Downloading https://files.pythonhosted.org/packages/e3/d0/ee7fc6ceac8957196def9bfa3b955d02163058defd3edd51ef7b1ff2769e/argcomplete-1.12.2-py2.py3-none-any.whl\n",
            "Collecting astroid==2.1.0\n",
            "\u001b[?25l  Downloading https://files.pythonhosted.org/packages/fc/53/8809bc008bad0300897281a7b320b286dc0e84e836396c0cff6279841e8a/astroid-2.1.0-py3-none-any.whl (176kB)\n",
            "\u001b[K     |████████████████████████████████| 184kB 10.1MB/s \n",
            "\u001b[?25hCollecting autopep8==1.4.2\n",
            "\u001b[?25l  Downloading https://files.pythonhosted.org/packages/dd/35/85dc65305bd86ad78aefdb6247bd786ec85e3cb7d86357c5c7ba2e6ae099/autopep8-1.4.2.tar.gz (113kB)\n",
            "\u001b[K     |████████████████████████████████| 122kB 14.1MB/s \n",
            "\u001b[?25hCollecting bottle==0.12.19\n",
            "\u001b[?25l  Downloading https://files.pythonhosted.org/packages/bf/44/aeafdd6ca05a8e1c3f91eeeb272a202d5cb1b3b23730a5ca686a81c48d24/bottle-0.12.19-py3-none-any.whl (89kB)\n",
            "\u001b[K     |████████████████████████████████| 92kB 8.3MB/s \n",
            "\u001b[?25hCollecting bottle-websocket==0.2.9\n",
            "  Downloading https://files.pythonhosted.org/packages/17/8e/a22666b4bb0a6e31de579504077df2b1c2f1438136777c728e6cfabef295/bottle-websocket-0.2.9.tar.gz\n",
            "Requirement already satisfied: click==7.1.2 in /usr/local/lib/python3.7/dist-packages (from -r requirements.txt (line 7)) (7.1.2)\n",
            "Collecting Eel==0.14.0\n",
            "  Downloading https://files.pythonhosted.org/packages/b3/c2/7dc22cc9ea23f0339316d6d249392d3ce67190430f2b05a316f3471ae15d/Eel-0.14.0.tar.gz\n",
            "Collecting enum34==1.1.6\n",
            "  Downloading https://files.pythonhosted.org/packages/af/42/cb9355df32c69b553e72a2e28daee25d1611d2c0d9c272aa1d34204205b2/enum34-1.1.6-py3-none-any.whl\n",
            "Collecting future==0.18.2\n",
            "\u001b[?25l  Downloading https://files.pythonhosted.org/packages/45/0b/38b06fd9b92dc2b68d58b75f900e97884c45bedd2ff83203d933cf5851c9/future-0.18.2.tar.gz (829kB)\n",
            "\u001b[K     |████████████████████████████████| 829kB 14.5MB/s \n",
            "\u001b[?25hCollecting gevent==20.12.1\n",
            "\u001b[?25l  Downloading https://files.pythonhosted.org/packages/be/89/a530c22ad5e71d5ec8487ea3896987d5130718a3852ac83d37fdc4d52c5c/gevent-20.12.1-cp37-cp37m-manylinux2010_x86_64.whl (5.6MB)\n",
            "\u001b[K     |████████████████████████████████| 5.6MB 26.3MB/s \n",
            "\u001b[?25hCollecting gevent-websocket==0.10.1\n",
            "  Downloading https://files.pythonhosted.org/packages/7b/84/2dc373eb6493e00c884cc11e6c059ec97abae2678d42f06bf780570b0193/gevent_websocket-0.10.1-py3-none-any.whl\n",
            "Collecting greenlet==0.4.17\n",
            "\u001b[?25l  Downloading https://files.pythonhosted.org/packages/b4/34/2c4ea49f9d41aaf664f72abb10880a56d3560398b74b3936055579188836/greenlet-0.4.17-cp37-cp37m-manylinux1_x86_64.whl (45kB)\n",
            "\u001b[K     |████████████████████████████████| 51kB 9.0MB/s \n",
            "\u001b[?25hCollecting importlib-metadata==3.4.0\n",
            "  Downloading https://files.pythonhosted.org/packages/f3/ed/da40116a204abb5c4dd1d929346d33e0d29cedb2cedd18ea98f0385dcd92/importlib_metadata-3.4.0-py3-none-any.whl\n",
            "Collecting isort==4.3.4\n",
            "\u001b[?25l  Downloading https://files.pythonhosted.org/packages/1f/2c/22eee714d7199ae0464beda6ad5fedec8fee6a2f7ffd1e8f1840928fe318/isort-4.3.4-py3-none-any.whl (45kB)\n",
            "\u001b[K     |████████████████████████████████| 51kB 8.9MB/s \n",
            "\u001b[?25hCollecting joblib==1.0.0\n",
            "\u001b[?25l  Downloading https://files.pythonhosted.org/packages/34/5b/bd0f0fb5564183884d8e35b81d06d7ec06a20d1a0c8b4c407f1554691dce/joblib-1.0.0-py3-none-any.whl (302kB)\n",
            "\u001b[K     |████████████████████████████████| 307kB 53.6MB/s \n",
            "\u001b[?25hCollecting lazy-object-proxy==1.3.1\n",
            "  Downloading https://files.pythonhosted.org/packages/55/08/23c0753599bdec1aec273e322f277c4e875150325f565017f6280549f554/lazy-object-proxy-1.3.1.tar.gz\n",
            "Collecting macholib==1.14\n",
            "  Downloading https://files.pythonhosted.org/packages/3c/e1/c12f8d6af5d745ce88f270aeb243cb2bd6d8186320e5122df87fded29e4e/macholib-1.14-py2.py3-none-any.whl\n",
            "Collecting mccabe==0.6.1\n",
            "  Downloading https://files.pythonhosted.org/packages/87/89/479dc97e18549e21354893e4ee4ef36db1d237534982482c3681ee6e7b57/mccabe-0.6.1-py2.py3-none-any.whl\n",
            "Collecting msgpack==0.6.1\n",
            "\u001b[?25l  Downloading https://files.pythonhosted.org/packages/a8/7b/630049fc4af9e68a625738612edc264ce7cb586c5001a2d4d2209a4f61c1/msgpack-0.6.1-cp37-cp37m-manylinux1_x86_64.whl (245kB)\n",
            "\u001b[K     |████████████████████████████████| 245kB 48.0MB/s \n",
            "\u001b[?25hCollecting msgpack-numpy==0.4.4.3\n",
            "  Downloading https://files.pythonhosted.org/packages/c8/ab/09904a909bccc471f219fb8f5d0838cbcb10cc26089a2b29e84c893e216e/msgpack_numpy-0.4.4.3-py2.py3-none-any.whl\n",
            "Collecting nltk==3.5\n",
            "\u001b[?25l  Downloading https://files.pythonhosted.org/packages/92/75/ce35194d8e3022203cca0d2f896dbb88689f9b3fce8e9f9cff942913519d/nltk-3.5.zip (1.4MB)\n",
            "\u001b[K     |████████████████████████████████| 1.4MB 58.2MB/s \n",
            "\u001b[?25hCollecting phonenumbers==8.12.15\n",
            "\u001b[?25l  Downloading https://files.pythonhosted.org/packages/59/b2/97909573e16946c8512c6f996bbbd34c9419d48a0b34df1a88bcd6f58cb4/phonenumbers-8.12.15-py2.py3-none-any.whl (2.6MB)\n",
            "\u001b[K     |████████████████████████████████| 2.6MB 55.9MB/s \n",
            "\u001b[?25hCollecting pycodestyle==2.4.0\n",
            "\u001b[?25l  Downloading https://files.pythonhosted.org/packages/e5/c6/ce130213489969aa58610042dff1d908c25c731c9575af6935c2dfad03aa/pycodestyle-2.4.0-py2.py3-none-any.whl (62kB)\n",
            "\u001b[K     |████████████████████████████████| 71kB 11.5MB/s \n",
            "\u001b[?25hCollecting pyinstaller==4.1\n",
            "\u001b[?25l  Downloading https://files.pythonhosted.org/packages/9e/ed/fbdad7f5d8f794c901076b814b8e9f5ce31d32c0bc3b63ddd27b61db9530/pyinstaller-4.1.tar.gz (3.5MB)\n",
            "\u001b[K     |████████████████████████████████| 3.5MB 29.8MB/s \n",
            "\u001b[?25h  Installing build dependencies ... \u001b[?25l\u001b[?25hdone\n",
            "  Getting requirements to build wheel ... \u001b[?25l\u001b[?25hdone\n",
            "    Preparing wheel metadata ... \u001b[?25l\u001b[?25hdone\n",
            "Collecting pyinstaller-hooks-contrib==2020.11\n",
            "\u001b[?25l  Downloading https://files.pythonhosted.org/packages/a4/11/90ac24147907d9b7302983ec66ae46b045b47212906101cc82d9204c798d/pyinstaller_hooks_contrib-2020.11-py2.py3-none-any.whl (172kB)\n",
            "\u001b[K     |████████████████████████████████| 174kB 56.6MB/s \n",
            "\u001b[?25hCollecting pylint==2.2.2\n",
            "\u001b[?25l  Downloading https://files.pythonhosted.org/packages/a5/06/ecef826f319055e6b231716730d7f9047dd7524ffda224b521d989f085b6/pylint-2.2.2-py3-none-any.whl (750kB)\n",
            "\u001b[K     |████████████████████████████████| 757kB 54.5MB/s \n",
            "\u001b[?25hRequirement already satisfied: pyparsing==2.4.7 in /usr/local/lib/python3.7/dist-packages (from -r requirements.txt (line 28)) (2.4.7)\n",
            "Collecting regex==2020.11.13\n",
            "\u001b[?25l  Downloading https://files.pythonhosted.org/packages/61/b2/8f281520d9f08d0f6771b8160a87a4b487850cde9f1abe257da4d8bab599/regex-2020.11.13-cp37-cp37m-manylinux2014_x86_64.whl (719kB)\n",
            "\u001b[K     |████████████████████████████████| 727kB 54.9MB/s \n",
            "\u001b[?25hCollecting scrubadub==1.2.2\n",
            "  Downloading https://files.pythonhosted.org/packages/fe/55/1915309bec17c82a4549f381fac91e3b886658158c95922cd80f321a65c3/scrubadub-1.2.2-py3-none-any.whl\n",
            "Collecting six==1.11.0\n",
            "  Downloading https://files.pythonhosted.org/packages/67/4b/141a581104b1f6397bfa78ac9d43d8ad29a7ca43ea90a2d863fe3056e86a/six-1.11.0-py2.py3-none-any.whl\n",
            "Collecting tabulate==0.8.3\n",
            "\u001b[?25l  Downloading https://files.pythonhosted.org/packages/c2/fd/202954b3f0eb896c53b7b6f07390851b1fd2ca84aa95880d7ae4f434c4ac/tabulate-0.8.3.tar.gz (46kB)\n",
            "\u001b[K     |████████████████████████████████| 51kB 9.2MB/s \n",
            "\u001b[?25hCollecting tensorflow-model-optimization==0.1.3\n",
            "\u001b[?25l  Downloading https://files.pythonhosted.org/packages/02/f9/6eba3e5c5bbee217d33a9babeb609bf5077381401da44fb966b4d3e3cb4d/tensorflow_model_optimization-0.1.3-py2.py3-none-any.whl (81kB)\n",
            "\u001b[K     |████████████████████████████████| 81kB 12.0MB/s \n",
            "\u001b[?25hRequirement already satisfied: textblob==0.15.3 in /usr/local/lib/python3.7/dist-packages (from -r requirements.txt (line 34)) (0.15.3)\n",
            "Collecting tqdm==4.56.0\n",
            "\u001b[?25l  Downloading https://files.pythonhosted.org/packages/80/02/8f8880a4fd6625461833abcf679d4c12a44c76f9925f92bf212bb6cefaad/tqdm-4.56.0-py2.py3-none-any.whl (72kB)\n",
            "\u001b[K     |████████████████████████████████| 81kB 12.1MB/s \n",
            "\u001b[?25hCollecting typed-ast==1.3.1\n",
            "\u001b[?25l  Downloading https://files.pythonhosted.org/packages/eb/6a/d6877019d38f5557e286253fc31a5f53a72be9f740ca9617028f4528930a/typed_ast-1.3.1-cp37-cp37m-manylinux1_x86_64.whl (734kB)\n",
            "\u001b[K     |████████████████████████████████| 737kB 48.6MB/s \n",
            "\u001b[?25hRequirement already satisfied: typing-extensions==3.7.4.3 in /usr/local/lib/python3.7/dist-packages (from -r requirements.txt (line 37)) (3.7.4.3)\n",
            "Collecting virtualenv==16.0.0\n",
            "\u001b[?25l  Downloading https://files.pythonhosted.org/packages/b6/30/96a02b2287098b23b875bc8c2f58071c35d2efe84f747b64d523721dc2b5/virtualenv-16.0.0-py2.py3-none-any.whl (1.9MB)\n",
            "\u001b[K     |████████████████████████████████| 1.9MB 36.1MB/s \n",
            "\u001b[?25hCollecting whichcraft==0.6.1\n",
            "  Downloading https://files.pythonhosted.org/packages/b5/a2/81887a0dae2e4d2adc70d9a3557fdda969f863ced51cd3c47b587d25bce5/whichcraft-0.6.1-py2.py3-none-any.whl\n",
            "Collecting zipp==3.4.0\n",
            "  Downloading https://files.pythonhosted.org/packages/41/ad/6a4f1a124b325618a7fb758b885b68ff7b058eec47d9220a12ab38d90b1f/zipp-3.4.0-py3-none-any.whl\n",
            "Collecting zope.event==4.5.0\n",
            "  Downloading https://files.pythonhosted.org/packages/9e/85/b45408c64f3b888976f1d5b37eed8d746b8d5729a66a49ec846fda27d371/zope.event-4.5.0-py2.py3-none-any.whl\n",
            "Collecting zope.interface==5.2.0\n",
            "\u001b[?25l  Downloading https://files.pythonhosted.org/packages/f8/42/d8f11eaef844bee267821281fffe445e49cf31b486d72a81821a9d45cd0a/zope.interface-5.2.0-cp37-cp37m-manylinux2010_x86_64.whl (237kB)\n",
            "\u001b[K     |████████████████████████████████| 245kB 49.5MB/s \n",
            "\u001b[?25hRequirement already satisfied: wrapt in /usr/local/lib/python3.7/dist-packages (from astroid==2.1.0->-r requirements.txt (line 3)) (1.12.1)\n",
            "Requirement already satisfied: setuptools in /usr/local/lib/python3.7/dist-packages (from gevent==20.12.1->-r requirements.txt (line 11)) (54.2.0)\n",
            "Requirement already satisfied: numpy>=1.9.0 in /usr/local/lib/python3.7/dist-packages (from msgpack-numpy==0.4.4.3->-r requirements.txt (line 21)) (1.19.5)\n",
            "Building wheels for collected packages: pyinstaller\n",
            "  Building wheel for pyinstaller (PEP 517) ... \u001b[?25l\u001b[?25hdone\n",
            "  Created wheel for pyinstaller: filename=pyinstaller-4.1-cp37-none-any.whl size=2790249 sha256=8c583f313237f9d8f3ce595079ff3fe7a5265b71f849f247d5883e080d28b260\n",
            "  Stored in directory: /root/.cache/pip/wheels/dc/78/56/6291b3222f35dd74971c4fcdc11b5cd1f8e623c0e765e87b44\n",
            "Successfully built pyinstaller\n",
            "Building wheels for collected packages: autopep8, bottle-websocket, Eel, future, lazy-object-proxy, nltk, tabulate\n",
            "  Building wheel for autopep8 (setup.py) ... \u001b[?25l\u001b[?25hdone\n",
            "  Created wheel for autopep8: filename=autopep8-1.4.2-py2.py3-none-any.whl size=42143 sha256=9134349c28afbe601332ee83f8960addcf9d48035abb5171c08b3c36cd4d0ce0\n",
            "  Stored in directory: /root/.cache/pip/wheels/49/82/1d/6513ebf9bdb562c84a86df9b505791054c5cc50ddb11336dcf\n",
            "  Building wheel for bottle-websocket (setup.py) ... \u001b[?25l\u001b[?25hdone\n",
            "  Created wheel for bottle-websocket: filename=bottle_websocket-0.2.9-cp37-none-any.whl size=2347 sha256=8b48d176a011a613ae5d12befcda6669a3b71fa572be2541174116b9226648a3\n",
            "  Stored in directory: /root/.cache/pip/wheels/1e/fd/80/af47541f053f14f4e5fd5927c91a7615358826429ba036152d\n",
            "  Building wheel for Eel (setup.py) ... \u001b[?25l\u001b[?25hdone\n",
            "  Created wheel for Eel: filename=Eel-0.14.0-cp37-none-any.whl size=17462 sha256=d866d4189eb32a84b15a42acee88cd805b5eee327d6f845f00b43076ebfa85c9\n",
            "  Stored in directory: /root/.cache/pip/wheels/68/a8/f9/0bb7b895584b80f4beabebfb8dcfdb8c7b0db2420b9c2a4821\n",
            "  Building wheel for future (setup.py) ... \u001b[?25l\u001b[?25hdone\n",
            "  Created wheel for future: filename=future-0.18.2-cp37-none-any.whl size=491058 sha256=d617eaf124e2e24ebdbd18cbd5bb45fc63f28e860f1fe153a533f68a412f2710\n",
            "  Stored in directory: /root/.cache/pip/wheels/8b/99/a0/81daf51dcd359a9377b110a8a886b3895921802d2fc1b2397e\n",
            "  Building wheel for lazy-object-proxy (setup.py) ... \u001b[?25l\u001b[?25hdone\n",
            "  Created wheel for lazy-object-proxy: filename=lazy_object_proxy-1.3.1-cp37-cp37m-linux_x86_64.whl size=46787 sha256=9a19f4c4718c04f0d0ba069f2704a936f98ef5642558df93ec2495240f27e800\n",
            "  Stored in directory: /root/.cache/pip/wheels/a0/63/e2/6d93295282cb35b53b14b50b602c76dfb04471e21b31d8ad7b\n",
            "  Building wheel for nltk (setup.py) ... \u001b[?25l\u001b[?25hdone\n",
            "  Created wheel for nltk: filename=nltk-3.5-cp37-none-any.whl size=1434674 sha256=f63f02f2fbbba9cb4176ccd7fd759e7b9180841ea6b02d1229844c06d40398ec\n",
            "  Stored in directory: /root/.cache/pip/wheels/ae/8c/3f/b1fe0ba04555b08b57ab52ab7f86023639a526d8bc8d384306\n",
            "  Building wheel for tabulate (setup.py) ... \u001b[?25l\u001b[?25hdone\n",
            "  Created wheel for tabulate: filename=tabulate-0.8.3-cp37-none-any.whl size=23377 sha256=9a925e9ed9f78e11d1132814887c1571463eb109ecc07f6973253786ef9630a3\n",
            "  Stored in directory: /root/.cache/pip/wheels/2b/67/89/414471314a2d15de625d184d8be6d38a03ae1e983dbda91e84\n",
            "Successfully built autopep8 bottle-websocket Eel future lazy-object-proxy nltk tabulate\n",
            "\u001b[31mERROR: tensorflow 2.4.1 has requirement six~=1.15.0, but you'll have six 1.11.0 which is incompatible.\u001b[0m\n",
            "\u001b[31mERROR: sqlalchemy 1.4.6 has requirement greenlet!=0.4.17; python_version >= \"3\", but you'll have greenlet 0.4.17 which is incompatible.\u001b[0m\n",
            "\u001b[31mERROR: google-colab 1.0.0 has requirement six~=1.15.0, but you'll have six 1.11.0 which is incompatible.\u001b[0m\n",
            "\u001b[31mERROR: google-api-python-client 1.12.8 has requirement six<2dev,>=1.13.0, but you'll have six 1.11.0 which is incompatible.\u001b[0m\n",
            "\u001b[31mERROR: google-api-core 1.26.3 has requirement six>=1.13.0, but you'll have six 1.11.0 which is incompatible.\u001b[0m\n",
            "\u001b[31mERROR: dm-tree 0.1.5 has requirement six>=1.12.0, but you'll have six 1.11.0 which is incompatible.\u001b[0m\n",
            "\u001b[31mERROR: datascience 0.10.6 has requirement folium==0.2.1, but you'll have folium 0.8.3 which is incompatible.\u001b[0m\n",
            "\u001b[31mERROR: albumentations 0.1.12 has requirement imgaug<0.2.7,>=0.2.5, but you'll have imgaug 0.2.9 which is incompatible.\u001b[0m\n",
            "Installing collected packages: altgraph, zipp, importlib-metadata, argcomplete, six, lazy-object-proxy, astroid, pycodestyle, autopep8, bottle, greenlet, zope.event, zope.interface, gevent, gevent-websocket, bottle-websocket, future, whichcraft, Eel, enum34, isort, joblib, macholib, mccabe, msgpack, msgpack-numpy, regex, tqdm, nltk, phonenumbers, pyinstaller-hooks-contrib, pyinstaller, pylint, scrubadub, tabulate, tensorflow-model-optimization, typed-ast, virtualenv\n",
            "  Found existing installation: zipp 3.4.1\n",
            "    Uninstalling zipp-3.4.1:\n",
            "      Successfully uninstalled zipp-3.4.1\n",
            "  Found existing installation: importlib-metadata 3.10.0\n",
            "    Uninstalling importlib-metadata-3.10.0:\n",
            "      Successfully uninstalled importlib-metadata-3.10.0\n",
            "  Found existing installation: six 1.15.0\n",
            "    Uninstalling six-1.15.0:\n",
            "      Successfully uninstalled six-1.15.0\n",
            "  Found existing installation: greenlet 1.0.0\n",
            "    Uninstalling greenlet-1.0.0:\n",
            "      Successfully uninstalled greenlet-1.0.0\n",
            "  Found existing installation: future 0.16.0\n",
            "    Uninstalling future-0.16.0:\n",
            "      Successfully uninstalled future-0.16.0\n",
            "  Found existing installation: joblib 1.0.1\n",
            "    Uninstalling joblib-1.0.1:\n",
            "      Successfully uninstalled joblib-1.0.1\n",
            "  Found existing installation: msgpack 1.0.2\n",
            "    Uninstalling msgpack-1.0.2:\n",
            "      Successfully uninstalled msgpack-1.0.2\n",
            "  Found existing installation: regex 2019.12.20\n",
            "    Uninstalling regex-2019.12.20:\n",
            "      Successfully uninstalled regex-2019.12.20\n",
            "  Found existing installation: tqdm 4.41.1\n",
            "    Uninstalling tqdm-4.41.1:\n",
            "      Successfully uninstalled tqdm-4.41.1\n",
            "  Found existing installation: nltk 3.2.5\n",
            "    Uninstalling nltk-3.2.5:\n",
            "      Successfully uninstalled nltk-3.2.5\n",
            "  Found existing installation: tabulate 0.8.9\n",
            "    Uninstalling tabulate-0.8.9:\n",
            "      Successfully uninstalled tabulate-0.8.9\n",
            "Successfully installed Eel-0.14.0 altgraph-0.17 argcomplete-1.12.2 astroid-2.1.0 autopep8-1.4.2 bottle-0.12.19 bottle-websocket-0.2.9 enum34-1.1.6 future-0.18.2 gevent-20.12.1 gevent-websocket-0.10.1 greenlet-0.4.17 importlib-metadata-3.4.0 isort-4.3.4 joblib-1.0.0 lazy-object-proxy-1.3.1 macholib-1.14 mccabe-0.6.1 msgpack-0.6.1 msgpack-numpy-0.4.4.3 nltk-3.5 phonenumbers-8.12.15 pycodestyle-2.4.0 pyinstaller-4.1 pyinstaller-hooks-contrib-2020.11 pylint-2.2.2 regex-2020.11.13 scrubadub-1.2.2 six-1.11.0 tabulate-0.8.3 tensorflow-model-optimization-0.1.3 tqdm-4.56.0 typed-ast-1.3.1 virtualenv-16.0.0 whichcraft-0.6.1 zipp-3.4.0 zope.event-4.5.0 zope.interface-5.2.0\n"
          ],
          "name": "stdout"
        },
        {
          "output_type": "display_data",
          "data": {
            "application/vnd.colab-display-data+json": {
              "pip_warning": {
                "packages": [
                  "enum",
                  "six"
                ]
              }
            }
          },
          "metadata": {
            "tags": []
          }
        }
      ]
    },
    {
      "cell_type": "code",
      "metadata": {
        "id": "exGWnVtYTJ4-",
        "colab": {
          "base_uri": "https://localhost:8080/"
        },
        "outputId": "d577e681-5650-4d21-d6f2-5b1fcffc51c0"
      },
      "source": [
        "import json\n",
        "import io\n",
        "from redact_data import *\n",
        "from redact_data import _write_file, _load_data, redact_data_basic, redact_data_custom, set_timezone\n",
        "\n",
        "def get_files_dataset(drive, folderid):\n",
        "  file_list = drive.ListFile({'q': \"'{}' in parents and trashed=false\".format(folderid)}).GetList()\n",
        "  for i, file1 in enumerate(sorted(file_list, key = lambda x: x['title']), start=1):\n",
        "    print(file1['title'])\n",
        "    file1.GetContentFile(file1['title'])\n",
        "    # yield file1['title']\n",
        "\n",
        "def redact_file(input_file, output_file):\n",
        "\n",
        "    data, bucket_key_dict = _load_data(input_file)\n",
        "    redacted_data, unique_urls, unique_app_names = redact_data_basic(data, bucket_key_dict)\n",
        "\n",
        "    url_blacklist = set([\"docs.google.com\", \"www.deeplearningbook.org\"])\n",
        "    app_blacklist = set([\"Finder\"])\n",
        "\n",
        "    user_selected_timezone = 'America/New_York'\n",
        "\n",
        "    # Remove apps and urls from user provided black list\n",
        "    redacted_data = redact_data_custom(redacted_data, url_blacklist, app_blacklist, 3)\n",
        "    \n",
        "    # set user selected timezone\n",
        "    redacted_data = set_timezone(redacted_data, user_selected_timezone)\n",
        "\n",
        "    _write_file(output_file, redacted_data)\n",
        "\n",
        "get_files_dataset(drive, folderid)\n",
        "filepath = \"aw-buckets-export.json\"\n",
        "output_file = \"redacted-data.json\"\n",
        "redact_file(filepath, output_file)\n",
        "redacted_data, bucket_key_dict = _load_data(output_file)"
      ],
      "execution_count": null,
      "outputs": [
        {
          "output_type": "stream",
          "text": [
            "[nltk_data] Downloading package punkt to /root/nltk_data...\n",
            "[nltk_data]   Unzipping tokenizers/punkt.zip.\n",
            "DEBUG - URL being requested: GET https://www.googleapis.com/drive/v2/files?q=%271Lt5bexsHSnEM7UrC9S8ZT8H9r07IBJnd%27+in+parents+and+trashed%3Dfalse&maxResults=1000&alt=json\n"
          ],
          "name": "stderr"
        },
        {
          "output_type": "stream",
          "text": [
            "aw-buckets-export.json\n",
            "redacted_data (1).json\n"
          ],
          "name": "stdout"
        },
        {
          "output_type": "stream",
          "text": [
            "INFO - AFK data successfully redacted (basic)...\n",
            "INFO - Web data successfully redacted (basic)...\n",
            "INFO - Window data successfully redacted (basic)...\n",
            "INFO - Stopwatch data successfully redacted (basic)...\n",
            "INFO - Web data successfully redacted (user selected)...\n",
            "INFO - Window data successfully redacted (user selected)...\n",
            "INFO - Redacted data written to redacted-data.json\n"
          ],
          "name": "stderr"
        }
      ]
    },
    {
      "cell_type": "markdown",
      "metadata": {
        "id": "32NohbbeSiLh"
      },
      "source": [
        "## Process Data"
      ]
    },
    {
      "cell_type": "code",
      "metadata": {
        "id": "-18S48iDSh_v",
        "colab": {
          "base_uri": "https://localhost:8080/"
        },
        "outputId": "751d0ef8-f8bc-4632-8403-ed7903ed3a3a"
      },
      "source": [
        "import numpy as np\n",
        "from datetime import datetime\n",
        "\n",
        "print(\"bucket_key_dict\", bucket_key_dict)\n",
        "print(type(redacted_data))\n",
        "# for key in redacted_data[\"aw-watcher-afk\"].keys():\n",
        "afk = redacted_data[\"aw-watcher-afk\"]\n",
        "window = redacted_data[\"aw-watcher-window\"]\n",
        "browser = redacted_data[\"aw-watcher-web\"]\n",
        "stopwatch = redacted_data[\"aw-watcher-stopwatch\"]\n",
        "print(redacted_data.keys())\n",
        "# print(key)\n",
        "print(\"window\", window[\"events\"][0])\n",
        "print(\"afk\", afk[\"events\"][0])\n",
        "print(\"browser\", browser[\"events\"][0])\n",
        "print(\"window\", len(window[\"events\"]))\n",
        "print(\"afk\", len(afk[\"events\"]))\n",
        "print(\"browser\", len(browser[\"events\"]))\n",
        "\n",
        "# convert to numpy array\n",
        "window_vocab = {}\n",
        "for event in window[\"events\"]:\n",
        "  app_name = event[\"data\"][\"app\"]\n",
        "  if app_name not in window_vocab:\n",
        "    window_vocab[app_name] = 0\n",
        "  window_vocab[app_name] += 1\n",
        "print(\"window_vocab\", len(window_vocab))\n",
        "\n",
        "url_vocab = {}\n",
        "for event in browser[\"events\"]:\n",
        "  url_name = event[\"data\"][\"url\"]\n",
        "  if url_name not in url_vocab:\n",
        "    url_vocab[url_name] = 0\n",
        "  url_vocab[url_name] += 1\n",
        "print(\"url_vocab\", len(url_vocab))\n",
        "\n",
        "afk_vocab = {}\n",
        "for event in afk[\"events\"]:\n",
        "  status_name = event[\"data\"][\"status\"]\n",
        "  if status_name not in afk_vocab:\n",
        "    afk_vocab[status_name] = 0\n",
        "  afk_vocab[status_name] += 1\n",
        "print(\"afk_vocab\", len(afk_vocab))\n",
        "\n",
        "filtered_url_vocab = [url for url in url_vocab.keys() if url_vocab[url] > 10] \n",
        "print(len(filtered_url_vocab))\n",
        "\n",
        "sorted_window_vocab = sorted(window_vocab.items(), key= lambda x: x[1], reverse=True)\n",
        "window_word_to_id = {sorted_window_vocab[i][0]: i for i in range(len(sorted_window_vocab))}\n",
        "print(\"window_word_to_id\", window_word_to_id)\n",
        "print(sorted_window_vocab)\n",
        "\n",
        "sorted_url_vocab = sorted(url_vocab.items(), key= lambda x: x[1], reverse=True)\n",
        "url_word_to_id = {sorted_url_vocab[i][0]: i for i in range(len(sorted_url_vocab))}\n",
        "\n",
        "window_data = []\n",
        "for event in window[\"events\"]:\n",
        "  # print(\"event\", event)\n",
        "  app_id = window_word_to_id[event[\"data\"][\"app\"]] \n",
        "  time = event[\"timestamp\"]\n",
        "  duration = event[\"duration\"]\n",
        "  # print(\"duration: {}, event {}\".format(duration, event))\n",
        "  date_time_obj = datetime.fromisoformat(time)\n",
        "  timestamp = date_time_obj.timestamp()\n",
        "  item = [timestamp, duration, 0, app_id]\n",
        "  # window {'timestamp': '2021-04-08T01:44:56.409000+00:00', 'duration': 228.513, 'data': {'app': 'Google Chrome'}}\n",
        "  window_data.append(item)\n",
        "# print(\"window_vocab\", window_vocab)\n",
        "# print(\"window_vocab shape\", np.array(window_data).shape)\n",
        "\n",
        "url_data = []\n",
        "for event in browser[\"events\"]:\n",
        "  # print(\"event\", event)\n",
        "  url_id = url_word_to_id[event[\"data\"][\"url\"]]\n",
        "  tab_count = event[\"data\"][\"tabCount\"]\n",
        "  audible = event[\"data\"][\"audible\"]                                               \n",
        "  incognito = event[\"data\"][\"incognito\"]                                               \n",
        "  time = event[\"timestamp\"]\n",
        "  date_time_obj = datetime.fromisoformat(time)\n",
        "  timestamp = date_time_obj.timestamp()\n",
        "  duration = event[\"duration\"]\n",
        "  item = [timestamp, duration, 1, url_id]\n",
        "  # item = np.array([timestamp, duration, 1, url_id, audible, incognito, tab_count])\n",
        "  # window {'timestamp': '2021-04-08T01:44:56.409000+00:00', 'duration': 228.513, 'data': {'app': 'Google Chrome'}}\n",
        "  url_data.append(item)\n",
        "# print(np.array(url_data).shape)\n",
        "\n",
        "afk_data = []\n",
        "for event in afk[\"events\"]:\n",
        "  # print(\"event\", event)\n",
        "  afk_id = event[\"data\"][\"status\"] == \"afk\"                                             \n",
        "  time = event[\"timestamp\"]\n",
        "  date_time_obj = datetime.fromisoformat(time)\n",
        "  timestamp = date_time_obj.timestamp()\n",
        "  duration = event[\"duration\"]\n",
        "  item = [timestamp, duration, 2, afk_id]\n",
        "  afk_data.append(item)\n",
        "# print(np.array(afk_data).shape)\n",
        "\n",
        "\n",
        "# print(\"stopwatch\", stopwatch[\"events\"][0])\n",
        "  # print(type(afk[key]))\n",
        "  # print(afk[\"events\"][0])\n",
        "# \"id\", \"created\", \"name\", \"type\", \"client\", \"hostname\", \"events\"\n",
        "# \"timestamp\", \"duration\", \"events\", \"current_window\", \"client\"\n",
        "# files_ds = tf.data.Dataset.from_generator(\n",
        "#     lambda: get_files_dataset(drive, folderid),\n",
        "#     output_signature=tf.TensorSpec(shape=(), dtype=tf.string))\n",
        "\n",
        "# files_ds = files_ds.repeat().shuffle(10)\n",
        "\n",
        "# tf.io.decode_json_example"
      ],
      "execution_count": null,
      "outputs": [
        {
          "output_type": "stream",
          "text": [
            "bucket_key_dict {'afk': 'aw-watcher-afk', 'desktop': 'aw-watcher-window', 'browser': 'aw-watcher-web', 'stopwatch': None}\n",
            "<class 'dict'>\n",
            "dict_keys(['aw-watcher-window', 'aw-watcher-afk', 'aw-watcher-web', 'aw-watcher-stopwatch'])\n",
            "window {'timestamp': '2021-04-08T01:44:56.409000+00:00', 'duration': 228.513, 'data': {'app': 'Google Chrome'}}\n",
            "afk {'timestamp': '2021-04-08T01:10:45.510000+00:00', 'duration': 2280.741, 'data': {'status': 'not-afk'}}\n",
            "browser {'timestamp': '2021-04-09T07:31:05.511000+00:00', 'duration': 0.0, 'data': {'url': 'colab.research.google.com', 'audible': False, 'incognito': False, 'tabCount': 2}}\n",
            "window 2023\n",
            "afk 624\n",
            "browser 458173\n",
            "window_vocab 12\n",
            "url_vocab 1875\n",
            "afk_vocab 2\n",
            "539\n",
            "window_word_to_id {'Google Chrome': 0, 'WhatsApp': 1, 'Preview': 2, 'zoom.us': 3, 'redacted_app_5': 4, 'Notes': 5, 'Sublime Text': 6, 'Photo Booth': 7, 'System Preferences': 8, 'TextEdit': 9, 'Archive Utility': 10, 'unknown': 11}\n",
            "[('Google Chrome', 1004), ('WhatsApp', 463), ('Preview', 224), ('zoom.us', 191), ('redacted_app_5', 85), ('Notes', 44), ('Sublime Text', 4), ('Photo Booth', 3), ('System Preferences', 2), ('TextEdit', 1), ('Archive Utility', 1), ('unknown', 1)]\n"
          ],
          "name": "stdout"
        }
      ]
    },
    {
      "cell_type": "code",
      "metadata": {
        "id": "d_fhSddFUBRs",
        "colab": {
          "base_uri": "https://localhost:8080/"
        },
        "outputId": "a187d327-bb12-436c-e57f-bd794beedc07"
      },
      "source": [
        "all_data = np.concatenate([window_data, url_data, afk_data], axis=0)\n",
        "print(all_data.shape)\n",
        "print(all_data[0])\n",
        "py_sorted_data = sorted(all_data, key= lambda x: x[0])\n",
        "sorted_data = np.array(py_sorted_data, dtype=np.int64)\n",
        "# sorted_data = all_data\n",
        "zero_count = 0\n",
        "zero_window_count = 0\n",
        "zero_url_count = 0\n",
        "zero_afk_count = 0\n",
        "\n",
        "for row in sorted_data:\n",
        "  if row[1] == 0:\n",
        "    zero_count += 1 \n",
        "    if row[2] == 0:\n",
        "      zero_window_count += 1\n",
        "    if row[2] == 1:\n",
        "      zero_url_count += 1\n",
        "    if row[2] == 2:\n",
        "      zero_afk_count += 1\n",
        "\n",
        "print(\"count\", zero_count, zero_window_count, zero_url_count, zero_afk_count)\n",
        "print(\"\", min(sorted_data[:,1]))\n",
        "print(\"sorted\", sorted_data[100000:100010])\n",
        "print(\"window\", window_data[:10])\n",
        "print(\"url\", url_data[:10])\n",
        "print(\"afk\", afk_data[:10])"
      ],
      "execution_count": null,
      "outputs": [
        {
          "output_type": "stream",
          "text": [
            "(460820, 4)\n",
            "[1.6178463e+09 2.2851300e+02 0.0000000e+00 0.0000000e+00]\n",
            "count 336401 156 336221 24\n",
            " 0\n",
            "sorted [[1608914040         40          1          2]\n",
            " [1608914099          0          1         18]\n",
            " [1608914100         60          1          2]\n",
            " [1608914164          0          1         18]\n",
            " [1608914180         20          1          2]\n",
            " [1608914211          1          1          0]\n",
            " [1608914213          0          1          3]\n",
            " [1608914220          0          1          2]\n",
            " [1608914221          0          1          3]\n",
            " [1608914221          9          1          0]]\n",
            "window [[1617846296.409, 228.513, 0, 0], [1617846270.616, 24.646, 0, 2], [1617846043.426, 225.988, 0, 0], [1617846030.499, 11.767, 0, 2], [1617844812.625, 1216.701, 0, 0], [1617844792.655, 18.781, 0, 2], [1617843205.909, 1585.57, 0, 0], [1617843185.198, 19.512, 0, 1], [1617834994.074, 8189.974, 0, 0], [1617834989.451, 3.472, 0, 1]]\n",
            "url [[1617953465.511, 0.0, 1, 6], [1617953449.376, 0.0, 1, 96], [1617953449.372, 0.003, 1, 12], [1617953446.708, 2.663, 1, 10], [1617953446.707, 0.0, 1, 15], [1617953445.506, 0.0, 1, 6], [1617953440.44, 0.0, 1, 15], [1617953440.439, 0.0, 1, 2], [1617953433.76, 0.0, 1, 0], [1617953433.302, 0.0, 1, 2]]\n",
            "afk [[1617844245.51, 2280.741, 2, False], [1617844043.795, 201.715, 2, True], [1617842909.688, 1134.107, 2, False], [1617842689.694, 219.994, 2, True], [1617841793.795, 895.901, 2, False], [1617841544.649, 249.146, 2, True], [1617840417.568, 1127.082, 2, False], [1617840080.361, 312.305912, 2, True], [1617840080.358, 317.307134, 2, True], [1617840080.355, 322.314727, 2, True]]\n"
          ],
          "name": "stdout"
        }
      ]
    },
    {
      "cell_type": "code",
      "metadata": {
        "id": "Bba6D9RaUSrd",
        "colab": {
          "base_uri": "https://localhost:8080/"
        },
        "outputId": "19a09cfc-a16c-4681-b028-f93687d9cbcd"
      },
      "source": [
        "import tensorflow as tf\n",
        "max_afk_vocab_size = 2\n",
        "max_window_vocab_size = 100\n",
        "max_url_vocab_size = 5000\n",
        "\n",
        "combined_data = []\n",
        "for row in sorted_data:\n",
        "  if row[2] == 0: # window\n",
        "    rename_vocab = row[3] + max_afk_vocab_size + 1\n",
        "  elif row[2] == 1: # url\n",
        "    rename_vocab = row[3] + max_afk_vocab_size + max_window_vocab_size + 1 \n",
        "  elif row[2] == 2:\n",
        "    rename_vocab = row[3] + 1\n",
        "  else:\n",
        "    raise\n",
        "  if row[3] == 1874:\n",
        "    print(\"rename_vocab\", rename_vocab, row[3], row[2])\n",
        "  combined_data.append([row[0], row[1], rename_vocab])\n",
        "np_combined = np.array(combined_data, dtype= np.int64)"
      ],
      "execution_count": null,
      "outputs": [
        {
          "output_type": "stream",
          "text": [
            "DEBUG - Falling back to TensorFlow client; we recommended you install the Cloud TPU client directly with pip install cloud-tpu-client.\n"
          ],
          "name": "stderr"
        },
        {
          "output_type": "stream",
          "text": [
            "rename_vocab 1977 1874 1\n"
          ],
          "name": "stdout"
        }
      ]
    },
    {
      "cell_type": "code",
      "metadata": {
        "id": "Tc8Kqf0oUXFv",
        "colab": {
          "base_uri": "https://localhost:8080/"
        },
        "outputId": "6c0e3ed5-0b1f-43a5-af4d-3b5da48e9138"
      },
      "source": [
        "print(sorted_data.shape)\n",
        "print(np_combined.shape)\n",
        "print(\"max\", np.max(np_combined[:,2]))\n",
        "print(len(url_vocab))\n",
        "print(len(window_vocab))\n",
        "np_url = np.array(url_data)\n",
        "print(\"np_url\", np.max(np_url[:,3]))\n",
        "np_all = np.array(sorted_data)\n",
        "print(\"np_all shape\", np_all.shape)\n",
        "print(\"np_all\", np.max(np_all[:,3]))"
      ],
      "execution_count": null,
      "outputs": [
        {
          "output_type": "stream",
          "text": [
            "(460820, 4)\n",
            "(460820, 3)\n",
            "max 1977\n",
            "1875\n",
            "12\n",
            "np_url 1874.0\n",
            "np_all shape (460820, 4)\n",
            "np_all 1874\n"
          ],
          "name": "stdout"
        }
      ]
    },
    {
      "cell_type": "code",
      "metadata": {
        "colab": {
          "base_uri": "https://localhost:8080/"
        },
        "id": "2YarzmyP75aP",
        "outputId": "a5f916b9-8fa5-487c-9d1f-5c13ade3e4a7"
      },
      "source": [
        "# print(np.histogram(np_combined[:,1], range(1000)))\n",
        "# print(np.histogram(np.array(url_data)[:,1], range(100)))\n",
        "# print(np.histogram(np.array(window_data)[:,1], range(100)))\n",
        "print(url_data[:10])\n",
        "print(sorted_url_vocab[6])\n",
        "print(sorted_url_vocab[96])\n",
        "print(sorted_url_vocab[12])\n",
        "(np_combined[:,1] > 1).mean()"
      ],
      "execution_count": null,
      "outputs": [
        {
          "output_type": "stream",
          "text": [
            "[[1617953465.511, 0.0, 1, 6], [1617953449.376, 0.0, 1, 96], [1617953449.372, 0.003, 1, 12], [1617953446.708, 2.663, 1, 10], [1617953446.707, 0.0, 1, 15], [1617953445.506, 0.0, 1, 6], [1617953440.44, 0.0, 1, 15], [1617953440.439, 0.0, 1, 2], [1617953433.76, 0.0, 1, 0], [1617953433.302, 0.0, 1, 2]]\n",
            "('colab.research.google.com', 24312)\n",
            "('localhost:5600', 156)\n",
            "('github.com', 7350)\n"
          ],
          "name": "stdout"
        },
        {
          "output_type": "execute_result",
          "data": {
            "text/plain": [
              "0.2465821795928996"
            ]
          },
          "metadata": {
            "tags": []
          },
          "execution_count": 11
        }
      ]
    },
    {
      "cell_type": "markdown",
      "metadata": {
        "id": "_LWPlZsfUhUT"
      },
      "source": [
        "### tfds"
      ]
    },
    {
      "cell_type": "code",
      "metadata": {
        "id": "o60M6C79UjYs"
      },
      "source": [
        "import tensorflow_datasets as tfds\n",
        "\n",
        "# fix preprocessing: use window instead of batch\n",
        "timestamps = np_combined[:, 0]\n",
        "# timestamps = [t1, t2, ..]\n",
        "# delays = [t2-t1, t3-t2, ..., t[n]-t[n-1]]\n",
        "# [t2, t3, t4, ..., tn] - [t1, t2, ..., t[n-1] ]\n",
        "# timestamps[1:] - timestamps[:-1]\n",
        "delays = timestamps[1:] - timestamps[:-1]\n",
        "zero = np.zeros([1])\n",
        "all_delay = np.concatenate([zero, delays], axis = 0) \n",
        "delay_added = np.concatenate([np_combined, all_delay[:,None]], axis = 1)\n",
        "tf_data_list = tf.data.Dataset.from_tensor_slices(delay_added).batch(64, drop_remainder=True).repeat().shuffle(1600).batch(16, drop_remainder=True)\n",
        "# train_dataset = tf_data\n",
        "tf_data = tf_data_list.map(lambda x: {\"activity_obs\": tf.cast(x[:,:-1,2], tf.int32), \n",
        "                                      \"duration_obs\": tf.cast(x[:,:-1,1], tf.int32),\n",
        "                                      \"time_obs\": tf.cast(x[:,:-1,0], tf.int32),\n",
        "                                      \"delay_obs\": tf.cast(x[:,:-1,3], tf.int32),\n",
        "                                      \"activity_target\": tf.cast(x[:,1:,2], tf.int32),\n",
        "                                      \"duration_target\": tf.cast(x[:,1:,1], tf.int32),\n",
        "                                      \"delay_target\": tf.cast(x[:,1:,3], tf.int32)})\n",
        "# tf_data = tf_data_list.map(lambda x: {\"obs\": tf.cast(x[:,:-1,2], tf.int32), \n",
        "                                      # \"target\": tf.cast(x[:,1:,2], tf.int32)})\n",
        "# print(next(iter(tf_data)).shape)\n",
        "train_dataset = iter(tfds.as_numpy(tf_data))"
      ],
      "execution_count": null,
      "outputs": []
    },
    {
      "cell_type": "markdown",
      "metadata": {
        "id": "EyZJPoLMShz9"
      },
      "source": [
        "## Model Code"
      ]
    },
    {
      "cell_type": "code",
      "metadata": {
        "id": "Gk-tG5SyShhJ",
        "colab": {
          "base_uri": "https://localhost:8080/"
        },
        "outputId": "9669f3ba-442b-4e96-b454-49bcf54bf52f"
      },
      "source": [
        "!pip install git+https://github.com/deepmind/dm-haiku\n",
        "!pip install optax"
      ],
      "execution_count": null,
      "outputs": [
        {
          "output_type": "stream",
          "text": [
            "Collecting git+https://github.com/deepmind/dm-haiku\n",
            "  Cloning https://github.com/deepmind/dm-haiku to /tmp/pip-req-build-9hfc02g1\n",
            "  Running command git clone -q https://github.com/deepmind/dm-haiku /tmp/pip-req-build-9hfc02g1\n",
            "Requirement already satisfied: absl-py>=0.7.1 in /usr/local/lib/python3.7/dist-packages (from dm-haiku==0.0.5.dev0) (0.12.0)\n",
            "Requirement already satisfied: numpy>=1.18.0 in /usr/local/lib/python3.7/dist-packages (from dm-haiku==0.0.5.dev0) (1.19.5)\n",
            "Collecting tabulate>=0.8.9\n",
            "  Downloading https://files.pythonhosted.org/packages/ca/80/7c0cad11bd99985cfe7c09427ee0b4f9bd6b048bd13d4ffb32c6db237dfb/tabulate-0.8.9-py3-none-any.whl\n",
            "Requirement already satisfied: typing_extensions in /usr/local/lib/python3.7/dist-packages (from dm-haiku==0.0.5.dev0) (3.7.4.3)\n",
            "Requirement already satisfied: six in /usr/local/lib/python3.7/dist-packages (from absl-py>=0.7.1->dm-haiku==0.0.5.dev0) (1.11.0)\n",
            "Building wheels for collected packages: dm-haiku\n",
            "  Building wheel for dm-haiku (setup.py) ... \u001b[?25l\u001b[?25hdone\n",
            "  Created wheel for dm-haiku: filename=dm_haiku-0.0.5.dev0-cp37-none-any.whl size=545835 sha256=1c7bd147f88adfc7d61c5fec43f9a436a44754b19f68134bf34ee680725b4a0d\n",
            "  Stored in directory: /tmp/pip-ephem-wheel-cache-hb_dsh4c/wheels/97/0f/e9/17f34e377f8d4060fa88a7e82bee5d8afbf7972384768a5499\n",
            "Successfully built dm-haiku\n",
            "Installing collected packages: tabulate, dm-haiku\n",
            "  Found existing installation: tabulate 0.8.3\n",
            "    Uninstalling tabulate-0.8.3:\n",
            "      Successfully uninstalled tabulate-0.8.3\n",
            "Successfully installed dm-haiku-0.0.5.dev0 tabulate-0.8.9\n",
            "Collecting optax\n",
            "\u001b[?25l  Downloading https://files.pythonhosted.org/packages/ec/7a/6259edd319ee7fa94dd23c54f15eff667f599d179e889af90fe0c204612c/optax-0.0.6-py3-none-any.whl (96kB)\n",
            "\u001b[K     |████████████████████████████████| 102kB 5.8MB/s \n",
            "\u001b[?25hRequirement already satisfied: jax>=0.1.55 in /usr/local/lib/python3.7/dist-packages (from optax) (0.2.12)\n",
            "Requirement already satisfied: absl-py>=0.7.1 in /usr/local/lib/python3.7/dist-packages (from optax) (0.12.0)\n",
            "Collecting chex>=0.0.4\n",
            "\u001b[?25l  Downloading https://files.pythonhosted.org/packages/18/76/52298efef0e2606a2dc8f23aa3a8f597e828aab1e900d2b3c0bcc9ec87d7/chex-0.0.6-py3-none-any.whl (51kB)\n",
            "\u001b[K     |████████████████████████████████| 61kB 6.5MB/s \n",
            "\u001b[?25hRequirement already satisfied: numpy>=1.18.0 in /usr/local/lib/python3.7/dist-packages (from optax) (1.19.5)\n",
            "Requirement already satisfied: jaxlib>=0.1.37 in /usr/local/lib/python3.7/dist-packages (from optax) (0.1.65+cuda110)\n",
            "Requirement already satisfied: opt-einsum in /usr/local/lib/python3.7/dist-packages (from jax>=0.1.55->optax) (3.3.0)\n",
            "Requirement already satisfied: six in /usr/local/lib/python3.7/dist-packages (from absl-py>=0.7.1->optax) (1.11.0)\n",
            "Requirement already satisfied: toolz>=0.9.0 in /usr/local/lib/python3.7/dist-packages (from chex>=0.0.4->optax) (0.11.1)\n",
            "Requirement already satisfied: dm-tree>=0.1.5 in /usr/local/lib/python3.7/dist-packages (from chex>=0.0.4->optax) (0.1.5)\n",
            "Requirement already satisfied: scipy in /usr/local/lib/python3.7/dist-packages (from jaxlib>=0.1.37->optax) (1.4.1)\n",
            "Requirement already satisfied: flatbuffers in /usr/local/lib/python3.7/dist-packages (from jaxlib>=0.1.37->optax) (1.12)\n",
            "Installing collected packages: chex, optax\n",
            "Successfully installed chex-0.0.6 optax-0.0.6\n"
          ],
          "name": "stdout"
        }
      ]
    },
    {
      "cell_type": "code",
      "metadata": {
        "colab": {
          "base_uri": "https://localhost:8080/"
        },
        "id": "61DPwqZf7xyr",
        "outputId": "cdecd66e-b77f-4bf6-b439-bfbd049777c4"
      },
      "source": [
        "# for i in range(1, len(np_combined)):\n",
        "#   if np_combined[i-1, 1] == 0 or np_combined[i, 1] == 0:\n",
        "#     continue\n",
        "#   diff_time = np_combined[i,0] - np_combined[i-1,0]\n",
        "#   assert diff_time > np_combined[i-1,1] , (diff_time, np_combined[i-1], np_combined[i])\n",
        "\n",
        "print(sorted_url_vocab[111-102])\n",
        "print(sorted_url_vocab[113-102])"
      ],
      "execution_count": null,
      "outputs": [
        {
          "output_type": "stream",
          "text": [
            "('www.amazon.com', 13914)\n",
            "('redacted_url_4', 11067)\n"
          ],
          "name": "stdout"
        }
      ]
    },
    {
      "cell_type": "code",
      "metadata": {
        "id": "Sbjyblq0B3-N"
      },
      "source": [
        "from datetime import datetime\n",
        "\n",
        "def event_to_tick(events, delta_time, max_simul_events):\n",
        "  ticks = []\n",
        "  current_events = []\n",
        "  start_time = (events[0][0] // delta_time ) * delta_time\n",
        "  current_time = start_time\n",
        "  finished = 0\n",
        "  num_feature = len(events[0])\n",
        "  while True:\n",
        "    for event in events[finished:]:\n",
        "      if event[0] <= current_time:\n",
        "        current_events.append(event)\n",
        "        finished += 1\n",
        "      else:\n",
        "        break\n",
        "    current_events_plus_padding = [x for x in current_events]\n",
        "    # current_events_plus_time = [[current_time]+ event.tolist()\n",
        "                                # for event in current_events]\n",
        "    for j in range(max_simul_events-len(current_events)):\n",
        "      current_events_plus_padding.append(np.zeros((num_feature,), dtype=np.int64))\n",
        "    tick_events = np.array(current_events_plus_padding)\n",
        "    assert tick_events.shape[0] == max_simul_events\n",
        "    tick = dict(time=np.array([current_time]), \n",
        "                start_time=tick_events[None, :, 0],\n",
        "                duration=tick_events[None, :, 1],\n",
        "                event_type=tick_events[None, :, 2],\n",
        "                start_time_features=get_time_features(tick_events[:, 0])[None, :],\n",
        "                time_features=get_time_features(np.array([current_time]))[None, :]\n",
        "                )\n",
        "    # print(\"tick\",jax.tree_map(lambda x: (x.shape, x.dtype), tick))\n",
        "    yield tick\n",
        "    current_time += delta_time\n",
        "    current_events = [event for event in current_events if event[0] + event[1] > current_time]\n",
        "    if not current_events and finished == len(events):\n",
        "      break\n",
        "\n",
        "def get_time_features(unix_times):\n",
        "  return np.array([list(datetime.fromtimestamp(unix_time).timetuple()) for unix_time in unix_times])\n",
        "\n",
        "# def add_time_features_to_tick(tick):\n",
        "#   time = tick[0][0]\n",
        "#   time_features = list(get_time_features_from_time(time))\n",
        "#   return np.array([time_features+event.tolist() for event in tick])\n",
        "\n",
        "time_interval = 60\n",
        "max_simul_events = 64\n",
        "all_ticks = list(event_to_tick(np_combined, time_interval, max_simul_events))\n",
        "# tfd_ticks = tf.data.Dataset.from_tensor_slices(all_ticks)\n",
        "# # batch(64, drop_remainder=True).repeat().shuffle(1600).batch(16, drop_remainder=True)\n",
        "\n",
        "# # for ticks in all_ticks[:100]:\n",
        "# #   print(ticks)\n",
        "# #   print(\"\")\n",
        "\n",
        "# print(next(iter(tfd_ticks)))\n",
        "# # print(all_ticks[:10])\n",
        "# print(len(all_ticks))"
      ],
      "execution_count": null,
      "outputs": []
    },
    {
      "cell_type": "code",
      "metadata": {
        "colab": {
          "base_uri": "https://localhost:8080/"
        },
        "id": "sH6Xgi0tz4ch",
        "outputId": "46860814-8f51-48c1-9f23-620c3099af38"
      },
      "source": [
        "!pip install jax"
      ],
      "execution_count": null,
      "outputs": [
        {
          "output_type": "stream",
          "text": [
            "Requirement already satisfied: jax in /usr/local/lib/python3.7/dist-packages (0.2.12)\n",
            "Requirement already satisfied: numpy>=1.12 in /usr/local/lib/python3.7/dist-packages (from jax) (1.19.5)\n",
            "Requirement already satisfied: opt-einsum in /usr/local/lib/python3.7/dist-packages (from jax) (3.3.0)\n",
            "Requirement already satisfied: absl-py in /usr/local/lib/python3.7/dist-packages (from jax) (0.12.0)\n",
            "Requirement already satisfied: six in /usr/local/lib/python3.7/dist-packages (from absl-py->jax) (1.11.0)\n"
          ],
          "name": "stdout"
        }
      ]
    },
    {
      "cell_type": "code",
      "metadata": {
        "id": "jImNiPNayREZ"
      },
      "source": [
        "import jax \n",
        "ticks_dict = jax.tree_multimap(lambda *args: np.concatenate(args, axis=0), *all_ticks)\n",
        "# print(type(ticks_dict[\"duration\"][0]))\n",
        "# print(\"type\", type(ticks_dict))\n",
        "def tree_print(tree):\n",
        "  print(jax.tree_map(lambda x: (x.shape, x.dtype), tree))\n",
        "\n",
        "# for ticks in all_ticks[:100]:\n",
        "#   print(ticks)\n",
        "#   print(\"\")\n",
        "\n",
        "# print(next(iter(tfd_ticks)))\n",
        "# print(all_ticks[:10])\n",
        "# print(len(all_ticks))"
      ],
      "execution_count": null,
      "outputs": []
    },
    {
      "cell_type": "code",
      "metadata": {
        "colab": {
          "base_uri": "https://localhost:8080/",
          "height": 308
        },
        "id": "s9KV5Ncm25lE",
        "outputId": "fdef0be3-566c-4ff2-c697-5ae637812d7c"
      },
      "source": [
        "pip install dm-tree"
      ],
      "execution_count": null,
      "outputs": [
        {
          "output_type": "stream",
          "text": [
            "Requirement already satisfied: dm-tree in /usr/local/lib/python3.7/dist-packages (0.1.5)\n",
            "Collecting six>=1.12.0\n",
            "  Downloading https://files.pythonhosted.org/packages/ee/ff/48bde5c0f013094d729fe4b0316ba2a24774b3ff1c52d924a8a4cb04078a/six-1.15.0-py2.py3-none-any.whl\n",
            "\u001b[31mERROR: datascience 0.10.6 has requirement folium==0.2.1, but you'll have folium 0.8.3 which is incompatible.\u001b[0m\n",
            "\u001b[31mERROR: albumentations 0.1.12 has requirement imgaug<0.2.7,>=0.2.5, but you'll have imgaug 0.2.9 which is incompatible.\u001b[0m\n",
            "Installing collected packages: six\n",
            "  Found existing installation: six 1.11.0\n",
            "    Uninstalling six-1.11.0:\n",
            "      Successfully uninstalled six-1.11.0\n",
            "Successfully installed six-1.15.0\n"
          ],
          "name": "stdout"
        },
        {
          "output_type": "display_data",
          "data": {
            "application/vnd.colab-display-data+json": {
              "pip_warning": {
                "packages": [
                  "six"
                ]
              }
            }
          },
          "metadata": {
            "tags": []
          }
        }
      ]
    },
    {
      "cell_type": "code",
      "metadata": {
        "colab": {
          "base_uri": "https://localhost:8080/"
        },
        "id": "ceh8lEJdyvcT",
        "outputId": "a96f3cfa-4bf0-49e1-cce2-ea92f6965cd7"
      },
      "source": [
        "d_seq_len = 64\n",
        "shift = 1\n",
        "shuffle_buffer = 3200\n",
        "batch_size = 16\n",
        "import tree\n",
        "def dict_batch(ds):\n",
        "  tuple_ds = tf.data.Dataset.zip(tuple(tree.flatten(ds)))\n",
        "  return tuple_ds.map(lambda *args: tree.unflatten_as(ds, args))\n",
        "\n",
        "tfd_ticks_all = tf.data.Dataset.from_tensor_slices(ticks_dict)\n",
        "tfd_ticks_window_ds = tfd_ticks_all.window(d_seq_len, shift=shift, drop_remainder=True)\n",
        "tfd_ticks_window = tfd_ticks_window_ds.interleave(dict_batch).batch(d_seq_len, drop_remainder=True)\n",
        "cardinality = tfd_ticks_window_ds.cardinality().numpy()[()]\n",
        "num_train = int(0.5*cardinality)\n",
        "num_test = int(0.5*cardinality)\n",
        "tfd_ticks_train = tfd_ticks_window.take(num_train).repeat().shuffle(shuffle_buffer).batch(batch_size, drop_remainder=True)\n",
        "tfd_ticks_test = tfd_ticks_window.skip(num_train).take(num_test).repeat().shuffle(shuffle_buffer).batch(batch_size, drop_remainder=True)\n",
        "print(cardinality)\n",
        "# tfd_ticks = tfd_ticks_all.batch(64, drop_remainder=True).repeat().shuffle(1600).batch(16, drop_remainder=True)\n",
        "# tree_print(next(iter(tfd_ticks)))"
      ],
      "execution_count": null,
      "outputs": [
        {
          "output_type": "stream",
          "text": [
            "191074\n"
          ],
          "name": "stdout"
        }
      ]
    },
    {
      "cell_type": "code",
      "metadata": {
        "id": "mdrelGkn6BQd"
      },
      "source": [
        "np_train = tfds.as_numpy(tfd_ticks_train)\n",
        "np_test = tfds.as_numpy(tfd_ticks_test)"
      ],
      "execution_count": null,
      "outputs": []
    },
    {
      "cell_type": "code",
      "metadata": {
        "colab": {
          "base_uri": "https://localhost:8080/"
        },
        "id": "14NYTEhFaeP3",
        "outputId": "d148f8a6-2d86-453a-a379-ac8b9b2b0923"
      },
      "source": [
        "tree_print(next(iter(tfd_ticks_window)))\n",
        "print(\"\")\n",
        "tree_print(next(iter(tfd_ticks_all)))"
      ],
      "execution_count": null,
      "outputs": [
        {
          "output_type": "stream",
          "text": [
            "{'duration': (TensorShape([64, 64]), tf.int64), 'event_type': (TensorShape([64, 64]), tf.int64), 'start_time': (TensorShape([64, 64]), tf.int64), 'start_time_features': (TensorShape([64, 64, 9]), tf.int64), 'time': (TensorShape([64]), tf.int64), 'time_features': (TensorShape([64, 1, 9]), tf.int64)}\n",
            "\n",
            "{'duration': (TensorShape([64]), tf.int64), 'event_type': (TensorShape([64]), tf.int64), 'start_time': (TensorShape([64]), tf.int64), 'start_time_features': (TensorShape([64, 9]), tf.int64), 'time': (TensorShape([]), tf.int64), 'time_features': (TensorShape([1, 9]), tf.int64)}\n"
          ],
          "name": "stdout"
        }
      ]
    },
    {
      "cell_type": "markdown",
      "metadata": {
        "id": "_HP-YpRh4pHT"
      },
      "source": [
        "# Preprocessing"
      ]
    },
    {
      "cell_type": "markdown",
      "metadata": {
        "id": "GG93gqfw8D7S"
      },
      "source": [
        "## Transformer"
      ]
    },
    {
      "cell_type": "code",
      "metadata": {
        "id": "R0u1RsvK8CYa"
      },
      "source": [
        "# Copyright 2020 DeepMind Technologies Limited. All Rights Reserved.\n",
        "#\n",
        "# Licensed under the Apache License, Version 2.0 (the \"License\");\n",
        "# you may not use this file except in compliance with the License.\n",
        "# You may obtain a copy of the License at\n",
        "#\n",
        "#     http://www.apache.org/licenses/LICENSE-2.0\n",
        "#\n",
        "# Unless required by applicable law or agreed to in writing, software\n",
        "# distributed under the License is distributed on an \"AS IS\" BASIS,\n",
        "# WITHOUT WARRANTIES OR CONDITIONS OF ANY KIND, either express or implied.\n",
        "# See the License for the specific language governing permissions and\n",
        "# limitations under the License.\n",
        "# ==============================================================================\n",
        "\"\"\"Transformer model components.\"\"\"\n",
        "\n",
        "from typing import Optional\n",
        "\n",
        "import haiku as hk\n",
        "import jax\n",
        "import jax.numpy as jnp\n",
        "import numpy as np\n",
        "\n",
        "\n",
        "class CausalSelfAttention(hk.MultiHeadAttention):\n",
        "  \"\"\"Self attention with a causal mask applied.\"\"\"\n",
        "\n",
        "  def __call__(\n",
        "      self,\n",
        "      query: jnp.ndarray,\n",
        "      key: Optional[jnp.ndarray] = None,\n",
        "      value: Optional[jnp.ndarray] = None,\n",
        "      mask: Optional[jnp.ndarray] = None,\n",
        "  ) -> jnp.ndarray:\n",
        "    key = key if key is not None else query\n",
        "    value = value if value is not None else query\n",
        "\n",
        "    seq_len = query.shape[1]\n",
        "    causal_mask = np.tril(np.ones((seq_len, seq_len))[None, None, :, :])\n",
        "    mask = mask * causal_mask if mask is not None else causal_mask\n",
        "\n",
        "    return super().__call__(query, key, value, mask)\n",
        "\n",
        "class NonCausalSelfAttention(hk.MultiHeadAttention):\n",
        "  \"\"\"Self attention with a non-causal mask applied.\"\"\"\n",
        "\n",
        "  def __call__(\n",
        "      self,\n",
        "      query: jnp.ndarray,\n",
        "      key: Optional[jnp.ndarray] = None,\n",
        "      value: Optional[jnp.ndarray] = None,\n",
        "      mask: Optional[jnp.ndarray] = None,\n",
        "  ) -> jnp.ndarray:\n",
        "    key = key if key is not None else query\n",
        "    value = value if value is not None else query\n",
        "\n",
        "    seq_len = query.shape[1]\n",
        "    # causal_mask = np.tril(np.ones((seq_len, seq_len)))\n",
        "    # mask = mask * causal_mask if mask is not None else causal_mask\n",
        "\n",
        "    return super().__call__(query, key, value, mask)\n",
        "\n",
        "\n",
        "class DenseBlock(hk.Module):\n",
        "  \"\"\"A 2-layer MLP which widens then narrows the input.\"\"\"\n",
        "\n",
        "  def __init__(self,\n",
        "               init_scale: float,\n",
        "               widening_factor: int = 4,\n",
        "               name: Optional[str] = None):\n",
        "    super().__init__(name=name)\n",
        "    self._init_scale = init_scale\n",
        "    self._widening_factor = widening_factor\n",
        "\n",
        "  def __call__(self, x: jnp.ndarray) -> jnp.ndarray:\n",
        "    hiddens = x.shape[-1]\n",
        "    initializer = hk.initializers.VarianceScaling(self._init_scale)\n",
        "    x = hk.Linear(self._widening_factor * hiddens, w_init=initializer)(x)\n",
        "    x = jax.nn.gelu(x)\n",
        "    return hk.Linear(hiddens, w_init=initializer)(x)\n",
        "\n",
        "\n",
        "class Transformer(hk.Module):\n",
        "  \"\"\"A transformer stack.\"\"\"\n",
        "\n",
        "  def __init__(self,\n",
        "               num_heads: int,\n",
        "               num_layers: int,\n",
        "               dropout_rate: float,\n",
        "               causal: bool,\n",
        "               name: Optional[str] = None):\n",
        "    super().__init__(name=name)\n",
        "    self._num_layers = num_layers\n",
        "    self._num_heads = num_heads\n",
        "    self._dropout_rate = dropout_rate\n",
        "    self._causal = causal\n",
        "\n",
        "  def __call__(self,\n",
        "               h: jnp.ndarray,\n",
        "               mask: Optional[jnp.ndarray],\n",
        "               is_training: bool) -> jnp.ndarray:\n",
        "    \"\"\"Connects the transformer.\n",
        "    Args:\n",
        "      h: Inputs, [B, T, H].\n",
        "      mask: Padding mask, [B, T].\n",
        "      is_training: Whether we're training or not.\n",
        "    Returns:\n",
        "      Array of shape [B, T, H].\n",
        "    \"\"\"\n",
        "    SelfAttention = CausalSelfAttention if self._causal else NonCausalSelfAttention\n",
        "    init_scale = 2. / self._num_layers\n",
        "    dropout_rate = self._dropout_rate if is_training else 0.\n",
        "    # if mask is not None:\n",
        "    #   mask = mask[:, None, None, :]\n",
        "\n",
        "    # Note: names chosen to approximately match those used in the GPT-2 code;\n",
        "    # see https://github.com/openai/gpt-2/blob/master/src/model.py.\n",
        "    for i in range(self._num_layers):\n",
        "      h_norm = layer_norm(h, name=f'h{i}_ln_1')\n",
        "      h_attn = SelfAttention(\n",
        "          num_heads=self._num_heads,\n",
        "          key_size=64,\n",
        "          w_init_scale=init_scale,\n",
        "          name=f'h{i}_attn')(h_norm, mask=mask)\n",
        "      h_attn = hk.dropout(hk.next_rng_key(), dropout_rate, h_attn)\n",
        "      h = h + h_attn\n",
        "      h_norm = layer_norm(h, name=f'h{i}_ln_2')\n",
        "      h_dense = DenseBlock(init_scale, name=f'h{i}_mlp')(h_norm)\n",
        "      h_dense = hk.dropout(hk.next_rng_key(), dropout_rate, h_dense)\n",
        "      h = h + h_dense\n",
        "    h = layer_norm(h, name='ln_f')\n",
        "\n",
        "    return h\n",
        "\n",
        "\n",
        "def layer_norm(x: jnp.ndarray, name: Optional[str] = None) -> jnp.ndarray:\n",
        "  \"\"\"Apply a unique LayerNorm to x with default settings.\"\"\"\n",
        "  return hk.LayerNorm(axis=-1,\n",
        "                      create_scale=True,\n",
        "                      create_offset=True,\n",
        "                      name=name)(x)"
      ],
      "execution_count": null,
      "outputs": []
    },
    {
      "cell_type": "markdown",
      "metadata": {
        "id": "kgVBW_FN88br"
      },
      "source": [
        "## CPC Architecture"
      ]
    },
    {
      "cell_type": "code",
      "metadata": {
        "id": "Cya0ZKbh8-op"
      },
      "source": [
        "from typing import Dict\n",
        "\n",
        "ArrayNest = Dict[str, jnp.ndarray]\n",
        "\n",
        "class CPC:\n",
        "  class Encoder(hk.Module):\n",
        "    \"\"\"Takes a dict of 3d arrays indexed by batch_size, time, num_events.\"\"\"\n",
        "\n",
        "    # def __init__(self,\n",
        "    #             name: Optional[str] = None):\n",
        "    #   super().__init__(name=name)\n",
        "\n",
        "    def __call__(self, inputs: ArrayNest, is_training: bool) -> jnp.ndarray:\n",
        "      \"\"\"{'duration': (TensorShape([16, 64, 64]), tf.int64), \n",
        "      'event_type': (TensorShape([16, 64, 64]), tf.int64), \n",
        "      'start_time': (TensorShape([16, 64, 64]), tf.int64), \n",
        "      'start_time_features': (TensorShape([16, 64, 64, 9]), tf.int64), \n",
        "      'time': (TensorShape([16, 64]), tf.int64), \n",
        "      'time_features': (TensorShape([16, 64, 1, 9]), tf.int64)}\n",
        "      \"\"\"\n",
        "      # inputs['duration']\n",
        "      # TODO: un-hardcode vocab_size and embed_dim using init\n",
        "      vocab_size = 5103\n",
        "      embed_dim = 256\n",
        "      event_embedding = hk.Embed(vocab_size, embed_dim)(inputs[\"event_type\"])  # [bs, t, events, dim]\n",
        "      year_embedding = hk.Embed(100, embed_dim)(inputs[\"time_features\"][..., 0]-1970)  # [bs, t, 1, dim]\n",
        "      month_embedding = hk.Embed(12, embed_dim)(inputs[\"time_features\"][..., 1]-1)  # [bs, t, 1, dim]\n",
        "      day_embedding = hk.Embed(31, embed_dim)(inputs[\"time_features\"][..., 2]-1)  # [bs, t, 1, dim]\n",
        "      hour_embedding = hk.Embed(24, embed_dim)(inputs[\"time_features\"][..., 3])  # [bs, t, 1, dim]\n",
        "      min_embedding = hk.Embed(60, embed_dim)(inputs[\"time_features\"][..., 4])  # [bs, t, 1, dim]\n",
        "      week_embedding = hk.Embed(7, embed_dim)(inputs[\"time_features\"][..., 6])  # [bs, t, 1, dim]\n",
        "      # TODO: look up numpy broadcasting\n",
        "      # TODO: problem: adding time information, this might make prediction too easy\n",
        "      # embedding = event_embedding + year_embedding + month_embedding + day_embedding + hour_embedding + min_embedding + week_embedding\n",
        "      embedding = event_embedding\n",
        "      batch_size = embedding.shape[0]\n",
        "      seq_len = embedding.shape[1]\n",
        "      num_events = embedding.shape[2]\n",
        "      embedding_btd = jnp.reshape(\n",
        "          embedding, [batch_size * seq_len, num_events, embed_dim])\n",
        "      mask = jnp.greater(inputs[\"event_type\"], 0)\n",
        "      event_mask = jnp.reshape(mask, [batch_size * seq_len, num_events])\n",
        "      event_mask = jnp.logical_and(event_mask[:, None, :, None], event_mask[:, None, None, :])\n",
        "      # print(\"mask shape before any\", mask.shape)\n",
        "      time_mask = mask.any(axis=2)\n",
        "      # print(\"mask shape after any\", time_mask.shape)\n",
        "      time_mask = jnp.logical_and(time_mask[:, None, :, None], time_mask[:, None, None, :])\n",
        "      transformer = Transformer(num_heads=4, \n",
        "                                num_layers=2,\n",
        "                                causal=False,  \n",
        "                                dropout_rate=0.1)\n",
        "      # TODO: add temporal down sampling\n",
        "      output_embedding = transformer(embedding_btd, \n",
        "                                     mask=event_mask, \n",
        "                                     is_training=is_training)\n",
        "      output_embedding = jnp.reshape(\n",
        "          output_embedding, [batch_size, seq_len, num_events, embed_dim])\n",
        "      output_embedding = output_embedding.mean(axis=2)  # [bs, t, dim]\n",
        "      return output_embedding, time_mask\n",
        "\n",
        "  class CausalTemporalEncoder(hk.Module):\n",
        "    def __call__(self, z_t: jnp.ndarray, mask: jnp.ndarray, is_training: bool\n",
        "                 ) -> jnp.ndarray:\n",
        "      \"\"\"z_t: [bs, t, dim]\"\"\"\n",
        "      transformer = Transformer(num_heads=4, num_layers=2, causal=True, dropout_rate=0.1)\n",
        "      # print(\"Before CausalTemporalEncoder mask shape\", mask.shape)\n",
        "      c_t = transformer(z_t, mask, is_training=is_training)\n",
        "      # print(\"After CausalTemporalEncoder mask shape\", mask.shape)\n",
        "      return c_t\n",
        "\n",
        "  class Model(hk.Module):\n",
        "    def __call__(self, inputs: ArrayNest, is_training: bool) -> jnp.ndarray:\n",
        "      z_t, mask = CPC.Encoder()(inputs, is_training)  # [bs, t, dim]\n",
        "      c_t = CPC.CausalTemporalEncoder()(z_t, mask, is_training) # [bs, t, dim]\n",
        "      # c0, c1, c2, ..., c63\n",
        "      # z0, z1, z2, ..., z63\n",
        "      num_steps_to_ignore = 1\n",
        "      num_steps_to_predict = 10\n",
        "      embed_dim = z_t.shape[-1]\n",
        "      batch_size = z_t.shape[0]\n",
        "      seq_len = z_t.shape[1]\n",
        "      loss = 0\n",
        "      mask = mask.any(axis=1)\n",
        "      for k in range(num_steps_to_ignore, num_steps_to_predict):\n",
        "        # example: for k = 5\n",
        "        # predictors c0, c1, c2, ..., c58\n",
        "        # targets    z5, z6, z7, ..., z63\n",
        "        # TODO: Check masking\n",
        "        targets = z_t[:, k:]\n",
        "        targets_mask = mask[:, k:].any(axis=2)\n",
        "        predictors = c_t[:, :-k]\n",
        "        predictors_mask = mask[:, :, :-k].any(axis=1)\n",
        "        target_predictor_mask = jnp.logical_and(predictors_mask, targets_mask)\n",
        "        # target_predictor_mask = jnp.logical_and(\n",
        "        #     target_predictor_mask[:, None, :, None], \n",
        "        #     target_predictor_mask[:, None, None, :])\n",
        "        # print(\"before step_loss, target predictor mask shape\", \n",
        "        #       target_predictor_mask.shape)\n",
        "        target_predictor_mask = target_predictor_mask.reshape([-1])\n",
        "        predictions = hk.Linear(embed_dim)(predictors)\n",
        "        flat_targets = jnp.reshape(targets, [-1, embed_dim])\n",
        "        flat_predictions = jnp.reshape(predictions, [-1, embed_dim])\n",
        "        logits = jnp.dot(flat_predictions, flat_targets.T)\n",
        "        log_probs = jax.nn.log_softmax(logits)\n",
        "        num_items = batch_size*(seq_len-k)\n",
        "        labels = jnp.arange(num_items)[...,None]\n",
        "        # print(\"before step_loss, log_probs\", log_probs.shape)\n",
        "        # print(\"before step_loss, labels shape\", labels.shape)\n",
        "        # print(\"after step_loss, target predictor mask shape\", \n",
        "        #       target_predictor_mask.shape)\n",
        "        step_loss = jnp.take_along_axis(-log_probs, labels, axis=-1)[..., 0]\n",
        "        # print(\"after step_loss, step_loss shape\", step_loss.shape)\n",
        "        loss += jnp.sum(step_loss * target_predictor_mask) / jnp.sum(target_predictor_mask)\n",
        "      return loss"
      ],
      "execution_count": null,
      "outputs": []
    },
    {
      "cell_type": "code",
      "metadata": {
        "id": "ORTTQwKzVg-j"
      },
      "source": [
        "def cpc_loss_fn(inputs: ArrayNest):\n",
        "  return CPC.Model()(inputs, is_training=True)"
      ],
      "execution_count": null,
      "outputs": []
    },
    {
      "cell_type": "code",
      "metadata": {
        "id": "DDIRgx1Z9XqE"
      },
      "source": [
        "cpc_model = hk.transform(cpc_loss_fn)\n",
        "train_iter = iter(np_train)\n",
        "test_iter = iter(np_test)"
      ],
      "execution_count": null,
      "outputs": []
    },
    {
      "cell_type": "code",
      "metadata": {
        "id": "NFQo2NL99INB"
      },
      "source": [
        "import optax \n",
        "import functools\n",
        "from typing import Any, Mapping\n",
        "\n",
        "class Updater:\n",
        "  \"\"\"A stateless abstraction around an init_fn/update_fn pair.\n",
        "  This extracts some common boilerplate from the training loop.\n",
        "  \"\"\"\n",
        "\n",
        "  def __init__(self, net_init, loss_fn,\n",
        "               optimizer: optax.GradientTransformation):\n",
        "    self._net_init = net_init\n",
        "    self._loss_fn = loss_fn\n",
        "    self._opt = optimizer\n",
        "\n",
        "  @functools.partial(jax.jit, static_argnums=0)\n",
        "  def init(self, master_rng, data):\n",
        "    \"\"\"Initializes state of the updater.\"\"\"\n",
        "    out_rng, init_rng = jax.random.split(master_rng)\n",
        "    params = self._net_init(init_rng, data)\n",
        "    opt_state = self._opt.init(params)\n",
        "    out = dict(\n",
        "        step=np.array(0),\n",
        "        rng=out_rng,\n",
        "        opt_state=opt_state,\n",
        "        params=params,\n",
        "    )\n",
        "    return out\n",
        "\n",
        "  @functools.partial(jax.jit, static_argnums=0)\n",
        "  def update(self, state: Mapping[str, Any], data: Mapping[str, jnp.ndarray]):\n",
        "    \"\"\"Updates the state using some data and returns metrics.\"\"\"\n",
        "    rng, new_rng = jax.random.split(state['rng'])\n",
        "    params = state['params']\n",
        "    loss, g = jax.value_and_grad(self._loss_fn)(params, rng, data)\n",
        "\n",
        "    updates, opt_state = self._opt.update(g, state['opt_state'])\n",
        "    params = optax.apply_updates(params, updates)\n",
        "\n",
        "    new_state = {\n",
        "        'step': state['step'] + 1,\n",
        "        'rng': new_rng,\n",
        "        'opt_state': opt_state,\n",
        "        'params': params,\n",
        "    }\n",
        "\n",
        "    metrics = {\n",
        "        'step': state['step'],\n",
        "        'loss': loss,\n",
        "    }\n",
        "    return new_state, metrics\n",
        "\n",
        "  @functools.partial(jax.jit, static_argnums=0)\n",
        "  def eval(self, state: Mapping[str, Any], data: Mapping[str, jnp.ndarray]):\n",
        "    \"\"\"Updates the state using some data and returns metrics.\"\"\"\n",
        "    rng, new_rng = jax.random.split(state['rng'])\n",
        "    params = state['params']\n",
        "    loss = self._loss_fn(params, rng, data)\n",
        "\n",
        "    metrics = {\n",
        "        'step': state['step'],\n",
        "        'loss': loss,\n",
        "    }\n",
        "    return metrics"
      ],
      "execution_count": null,
      "outputs": []
    },
    {
      "cell_type": "code",
      "metadata": {
        "colab": {
          "base_uri": "https://localhost:8080/"
        },
        "id": "ESdqiPka9Q_X",
        "outputId": "dbd23bc1-6aff-4894-a206-72a89596541f"
      },
      "source": [
        "import time\n",
        "# TODO: training loop\n",
        "grad_clip_value = 0.25\n",
        "learning_rate = 2e-4\n",
        "\n",
        "optimizer = optax.chain(\n",
        "    optax.clip_by_global_norm(grad_clip_value),\n",
        "    optax.adam(learning_rate, b1=0.9, b2=0.99))\n",
        "\n",
        "updater = Updater(cpc_model.init, cpc_model.apply, optimizer)\n",
        "# updater = CheckpointingUpdater(updater, checkpoint_dir)\n",
        "\n",
        "# Initialize parameters.\n",
        "logging.info('Initializing parameters...')\n",
        "rng = jax.random.PRNGKey(428)\n",
        "data = next(train_iter)\n",
        "tree_print(data)\n",
        "state = updater.init(rng, data)\n",
        "\n",
        "LOG_EVERY = 50\n",
        "EVAL_EVERY = 100\n",
        "MAX_STEPS = 10**6\n",
        "NUM_EVAL_ITER = 50\n",
        "\n",
        "def eval_fn(data_iter, num_val_iter):\n",
        "  eval_metrics = None\n",
        "  for i in range(NUM_EVAL_ITER):\n",
        "    data = next(data_iter)\n",
        "    eval_metric = updater.eval(state, data)\n",
        "    if eval_metrics is None:\n",
        "      eval_metrics = eval_metric\n",
        "    else:\n",
        "      eval_metrics = {k: eval_metrics[k]+eval_metric[k] for k in eval_metrics}\n",
        "  eval_metrics = {k: (eval_metrics[k]/NUM_EVAL_ITER) for k in eval_metrics}\n",
        "  logging.info({k: float(v) for k, v in eval_metrics.items()})\n",
        "\n",
        "logging.info('Starting train loop...')\n",
        "prev_time = time.time()\n",
        "for step in range(MAX_STEPS):\n",
        "  data = next(train_iter)\n",
        "  state, metrics = updater.update(state, data)\n",
        "  if step % LOG_EVERY == 0:\n",
        "    steps_per_sec = LOG_EVERY / (time.time() - prev_time)\n",
        "    prev_time = time.time()\n",
        "    metrics.update({'steps_per_sec': steps_per_sec})\n",
        "    logging.info({k: float(v) for k, v in metrics.items()})\n",
        "  if step % EVAL_EVERY == 0:\n",
        "    print(\"train_iter\")\n",
        "    eval_fn(train_iter, NUM_EVAL_ITER)\n",
        "    print(\"test_iter\")    \n",
        "    eval_fn(test_iter, NUM_EVAL_ITER)\n",
        "    "
      ],
      "execution_count": null,
      "outputs": [
        {
          "output_type": "stream",
          "text": [
            "INFO - Initializing parameters...\n",
            "DEBUG - Initializing backend 'interpreter'\n",
            "DEBUG - Initializing backend 'cpu'\n",
            "DEBUG - Initializing backend 'gpu'\n",
            "DEBUG - Initializing backend 'tpu'\n",
            "DEBUG - Error initializing backend 'tpu': Invalid argument: TpuPlatform is not available.\n"
          ],
          "name": "stderr"
        },
        {
          "output_type": "stream",
          "text": [
            "{'duration': ((16, 64, 64), dtype('int64')), 'event_type': ((16, 64, 64), dtype('int64')), 'start_time': ((16, 64, 64), dtype('int64')), 'start_time_features': ((16, 64, 64, 9), dtype('int64')), 'time': ((16, 64), dtype('int64')), 'time_features': ((16, 64, 1, 9), dtype('int64'))}\n"
          ],
          "name": "stdout"
        },
        {
          "output_type": "stream",
          "text": [
            "DEBUG - Compiling init (139904607299536) for args (ShapedArray(uint32[2]), ShapedArray(int32[16,64,64]), ShapedArray(int32[16,64,64]), ShapedArray(int32[16,64,64]), ShapedArray(int32[16,64,64,9]), ShapedArray(int32[16,64]), ShapedArray(int32[16,64,1,9])).\n",
            "INFO - Starting train loop...\n",
            "DEBUG - Compiling update (139904611435216) for args (ShapedArray(int32[]), ShapedArray(float32[256]), ShapedArray(float32[256,256]), ShapedArray(float32[256]), ShapedArray(float32[256,256]), ShapedArray(float32[256]), ShapedArray(float32[256,256]), ShapedArray(float32[256]), ShapedArray(float32[256,256]), ShapedArray(float32[256]), ShapedArray(float32[256]), ShapedArray(float32[256]), ShapedArray(float32[256]), ShapedArray(float32[1024]), ShapedArray(float32[256,1024]), ShapedArray(float32[256]), ShapedArray(float32[1024,256]), ShapedArray(float32[256]), ShapedArray(float32[256,256]), ShapedArray(float32[256]), ShapedArray(float32[256,256]), ShapedArray(float32[256]), ShapedArray(float32[256,256]), ShapedArray(float32[256]), ShapedArray(float32[256,256]), ShapedArray(float32[256]), ShapedArray(float32[256]), ShapedArray(float32[256]), ShapedArray(float32[256]), ShapedArray(float32[1024]), ShapedArray(float32[256,1024]), ShapedArray(float32[256]), ShapedArray(float32[1024,256]), ShapedArray(float32[256]), ShapedArray(float32[256]), ShapedArray(float32[5103,256]), ShapedArray(float32[100,256]), ShapedArray(float32[12,256]), ShapedArray(float32[31,256]), ShapedArray(float32[24,256]), ShapedArray(float32[60,256]), ShapedArray(float32[7,256]), ShapedArray(float32[256]), ShapedArray(float32[256,256]), ShapedArray(float32[256]), ShapedArray(float32[256,256]), ShapedArray(float32[256]), ShapedArray(float32[256,256]), ShapedArray(float32[256]), ShapedArray(float32[256,256]), ShapedArray(float32[256]), ShapedArray(float32[256]), ShapedArray(float32[256]), ShapedArray(float32[256]), ShapedArray(float32[1024]), ShapedArray(float32[256,1024]), ShapedArray(float32[256]), ShapedArray(float32[1024,256]), ShapedArray(float32[256]), ShapedArray(float32[256,256]), ShapedArray(float32[256]), ShapedArray(float32[256,256]), ShapedArray(float32[256]), ShapedArray(float32[256,256]), ShapedArray(float32[256]), ShapedArray(float32[256,256]), ShapedArray(float32[256]), ShapedArray(float32[256]), ShapedArray(float32[256]), ShapedArray(float32[256]), ShapedArray(float32[1024]), ShapedArray(float32[256,1024]), ShapedArray(float32[256]), ShapedArray(float32[1024,256]), ShapedArray(float32[256]), ShapedArray(float32[256]), ShapedArray(float32[256]), ShapedArray(float32[256,256]), ShapedArray(float32[256]), ShapedArray(float32[256,256]), ShapedArray(float32[256]), ShapedArray(float32[256,256]), ShapedArray(float32[256]), ShapedArray(float32[256,256]), ShapedArray(float32[256]), ShapedArray(float32[256,256]), ShapedArray(float32[256]), ShapedArray(float32[256,256]), ShapedArray(float32[256]), ShapedArray(float32[256,256]), ShapedArray(float32[256]), ShapedArray(float32[256,256]), ShapedArray(float32[256]), ShapedArray(float32[256,256]), ShapedArray(float32[256]), ShapedArray(float32[256,256]), ShapedArray(float32[256]), ShapedArray(float32[256,256]), ShapedArray(float32[256]), ShapedArray(float32[256,256]), ShapedArray(float32[256]), ShapedArray(float32[256,256]), ShapedArray(float32[256]), ShapedArray(float32[256]), ShapedArray(float32[256]), ShapedArray(float32[256]), ShapedArray(float32[1024]), ShapedArray(float32[256,1024]), ShapedArray(float32[256]), ShapedArray(float32[1024,256]), ShapedArray(float32[256]), ShapedArray(float32[256,256]), ShapedArray(float32[256]), ShapedArray(float32[256,256]), ShapedArray(float32[256]), ShapedArray(float32[256,256]), ShapedArray(float32[256]), ShapedArray(float32[256,256]), ShapedArray(float32[256]), ShapedArray(float32[256]), ShapedArray(float32[256]), ShapedArray(float32[256]), ShapedArray(float32[1024]), ShapedArray(float32[256,1024]), ShapedArray(float32[256]), ShapedArray(float32[1024,256]), ShapedArray(float32[256]), ShapedArray(float32[256]), ShapedArray(float32[5103,256]), ShapedArray(float32[100,256]), ShapedArray(float32[12,256]), ShapedArray(float32[31,256]), ShapedArray(float32[24,256]), ShapedArray(float32[60,256]), ShapedArray(float32[7,256]), ShapedArray(float32[256]), ShapedArray(float32[256,256]), ShapedArray(float32[256]), ShapedArray(float32[256,256]), ShapedArray(float32[256]), ShapedArray(float32[256,256]), ShapedArray(float32[256]), ShapedArray(float32[256,256]), ShapedArray(float32[256]), ShapedArray(float32[256]), ShapedArray(float32[256]), ShapedArray(float32[256]), ShapedArray(float32[1024]), ShapedArray(float32[256,1024]), ShapedArray(float32[256]), ShapedArray(float32[1024,256]), ShapedArray(float32[256]), ShapedArray(float32[256,256]), ShapedArray(float32[256]), ShapedArray(float32[256,256]), ShapedArray(float32[256]), ShapedArray(float32[256,256]), ShapedArray(float32[256]), ShapedArray(float32[256,256]), ShapedArray(float32[256]), ShapedArray(float32[256]), ShapedArray(float32[256]), ShapedArray(float32[256]), ShapedArray(float32[1024]), ShapedArray(float32[256,1024]), ShapedArray(float32[256]), ShapedArray(float32[1024,256]), ShapedArray(float32[256]), ShapedArray(float32[256]), ShapedArray(float32[256]), ShapedArray(float32[256,256]), ShapedArray(float32[256]), ShapedArray(float32[256,256]), ShapedArray(float32[256]), ShapedArray(float32[256,256]), ShapedArray(float32[256]), ShapedArray(float32[256,256]), ShapedArray(float32[256]), ShapedArray(float32[256,256]), ShapedArray(float32[256]), ShapedArray(float32[256,256]), ShapedArray(float32[256]), ShapedArray(float32[256,256]), ShapedArray(float32[256]), ShapedArray(float32[256,256]), ShapedArray(float32[256]), ShapedArray(float32[256,256]), ShapedArray(float32[256]), ShapedArray(float32[256,256]), ShapedArray(float32[256]), ShapedArray(float32[256,256]), ShapedArray(float32[256]), ShapedArray(float32[256,256]), ShapedArray(float32[256]), ShapedArray(float32[256,256]), ShapedArray(float32[256]), ShapedArray(float32[256]), ShapedArray(float32[256]), ShapedArray(float32[256]), ShapedArray(float32[1024]), ShapedArray(float32[256,1024]), ShapedArray(float32[256]), ShapedArray(float32[1024,256]), ShapedArray(float32[256]), ShapedArray(float32[256,256]), ShapedArray(float32[256]), ShapedArray(float32[256,256]), ShapedArray(float32[256]), ShapedArray(float32[256,256]), ShapedArray(float32[256]), ShapedArray(float32[256,256]), ShapedArray(float32[256]), ShapedArray(float32[256]), ShapedArray(float32[256]), ShapedArray(float32[256]), ShapedArray(float32[1024]), ShapedArray(float32[256,1024]), ShapedArray(float32[256]), ShapedArray(float32[1024,256]), ShapedArray(float32[256]), ShapedArray(float32[256]), ShapedArray(float32[5103,256]), ShapedArray(float32[100,256]), ShapedArray(float32[12,256]), ShapedArray(float32[31,256]), ShapedArray(float32[24,256]), ShapedArray(float32[60,256]), ShapedArray(float32[7,256]), ShapedArray(float32[256]), ShapedArray(float32[256,256]), ShapedArray(float32[256]), ShapedArray(float32[256,256]), ShapedArray(float32[256]), ShapedArray(float32[256,256]), ShapedArray(float32[256]), ShapedArray(float32[256,256]), ShapedArray(float32[256]), ShapedArray(float32[256]), ShapedArray(float32[256]), ShapedArray(float32[256]), ShapedArray(float32[1024]), ShapedArray(float32[256,1024]), ShapedArray(float32[256]), ShapedArray(float32[1024,256]), ShapedArray(float32[256]), ShapedArray(float32[256,256]), ShapedArray(float32[256]), ShapedArray(float32[256,256]), ShapedArray(float32[256]), ShapedArray(float32[256,256]), ShapedArray(float32[256]), ShapedArray(float32[256,256]), ShapedArray(float32[256]), ShapedArray(float32[256]), ShapedArray(float32[256]), ShapedArray(float32[256]), ShapedArray(float32[1024]), ShapedArray(float32[256,1024]), ShapedArray(float32[256]), ShapedArray(float32[1024,256]), ShapedArray(float32[256]), ShapedArray(float32[256]), ShapedArray(float32[256]), ShapedArray(float32[256,256]), ShapedArray(float32[256]), ShapedArray(float32[256,256]), ShapedArray(float32[256]), ShapedArray(float32[256,256]), ShapedArray(float32[256]), ShapedArray(float32[256,256]), ShapedArray(float32[256]), ShapedArray(float32[256,256]), ShapedArray(float32[256]), ShapedArray(float32[256,256]), ShapedArray(float32[256]), ShapedArray(float32[256,256]), ShapedArray(float32[256]), ShapedArray(float32[256,256]), ShapedArray(float32[256]), ShapedArray(float32[256,256]), ShapedArray(uint32[2]), ShapedArray(int32[]), ShapedArray(int32[16,64,64]), ShapedArray(int32[16,64,64]), ShapedArray(int32[16,64,64]), ShapedArray(int32[16,64,64,9]), ShapedArray(int32[16,64]), ShapedArray(int32[16,64,1,9])).\n",
            "INFO - {'loss': 81.16560363769531, 'step': 0.0, 'steps_per_sec': 2.1826614056092914}\n"
          ],
          "name": "stderr"
        },
        {
          "output_type": "stream",
          "text": [
            "train_iter\n"
          ],
          "name": "stdout"
        },
        {
          "output_type": "stream",
          "text": [
            "DEBUG - Compiling eval (139904613808240) for args (ShapedArray(int32[]), ShapedArray(float32[256]), ShapedArray(float32[256,256]), ShapedArray(float32[256]), ShapedArray(float32[256,256]), ShapedArray(float32[256]), ShapedArray(float32[256,256]), ShapedArray(float32[256]), ShapedArray(float32[256,256]), ShapedArray(float32[256]), ShapedArray(float32[256]), ShapedArray(float32[256]), ShapedArray(float32[256]), ShapedArray(float32[1024]), ShapedArray(float32[256,1024]), ShapedArray(float32[256]), ShapedArray(float32[1024,256]), ShapedArray(float32[256]), ShapedArray(float32[256,256]), ShapedArray(float32[256]), ShapedArray(float32[256,256]), ShapedArray(float32[256]), ShapedArray(float32[256,256]), ShapedArray(float32[256]), ShapedArray(float32[256,256]), ShapedArray(float32[256]), ShapedArray(float32[256]), ShapedArray(float32[256]), ShapedArray(float32[256]), ShapedArray(float32[1024]), ShapedArray(float32[256,1024]), ShapedArray(float32[256]), ShapedArray(float32[1024,256]), ShapedArray(float32[256]), ShapedArray(float32[256]), ShapedArray(float32[5103,256]), ShapedArray(float32[100,256]), ShapedArray(float32[12,256]), ShapedArray(float32[31,256]), ShapedArray(float32[24,256]), ShapedArray(float32[60,256]), ShapedArray(float32[7,256]), ShapedArray(float32[256]), ShapedArray(float32[256,256]), ShapedArray(float32[256]), ShapedArray(float32[256,256]), ShapedArray(float32[256]), ShapedArray(float32[256,256]), ShapedArray(float32[256]), ShapedArray(float32[256,256]), ShapedArray(float32[256]), ShapedArray(float32[256]), ShapedArray(float32[256]), ShapedArray(float32[256]), ShapedArray(float32[1024]), ShapedArray(float32[256,1024]), ShapedArray(float32[256]), ShapedArray(float32[1024,256]), ShapedArray(float32[256]), ShapedArray(float32[256,256]), ShapedArray(float32[256]), ShapedArray(float32[256,256]), ShapedArray(float32[256]), ShapedArray(float32[256,256]), ShapedArray(float32[256]), ShapedArray(float32[256,256]), ShapedArray(float32[256]), ShapedArray(float32[256]), ShapedArray(float32[256]), ShapedArray(float32[256]), ShapedArray(float32[1024]), ShapedArray(float32[256,1024]), ShapedArray(float32[256]), ShapedArray(float32[1024,256]), ShapedArray(float32[256]), ShapedArray(float32[256]), ShapedArray(float32[256]), ShapedArray(float32[256,256]), ShapedArray(float32[256]), ShapedArray(float32[256,256]), ShapedArray(float32[256]), ShapedArray(float32[256,256]), ShapedArray(float32[256]), ShapedArray(float32[256,256]), ShapedArray(float32[256]), ShapedArray(float32[256,256]), ShapedArray(float32[256]), ShapedArray(float32[256,256]), ShapedArray(float32[256]), ShapedArray(float32[256,256]), ShapedArray(float32[256]), ShapedArray(float32[256,256]), ShapedArray(float32[256]), ShapedArray(float32[256,256]), ShapedArray(float32[256]), ShapedArray(float32[256,256]), ShapedArray(float32[256]), ShapedArray(float32[256,256]), ShapedArray(float32[256]), ShapedArray(float32[256,256]), ShapedArray(float32[256]), ShapedArray(float32[256,256]), ShapedArray(float32[256]), ShapedArray(float32[256]), ShapedArray(float32[256]), ShapedArray(float32[256]), ShapedArray(float32[1024]), ShapedArray(float32[256,1024]), ShapedArray(float32[256]), ShapedArray(float32[1024,256]), ShapedArray(float32[256]), ShapedArray(float32[256,256]), ShapedArray(float32[256]), ShapedArray(float32[256,256]), ShapedArray(float32[256]), ShapedArray(float32[256,256]), ShapedArray(float32[256]), ShapedArray(float32[256,256]), ShapedArray(float32[256]), ShapedArray(float32[256]), ShapedArray(float32[256]), ShapedArray(float32[256]), ShapedArray(float32[1024]), ShapedArray(float32[256,1024]), ShapedArray(float32[256]), ShapedArray(float32[1024,256]), ShapedArray(float32[256]), ShapedArray(float32[256]), ShapedArray(float32[5103,256]), ShapedArray(float32[100,256]), ShapedArray(float32[12,256]), ShapedArray(float32[31,256]), ShapedArray(float32[24,256]), ShapedArray(float32[60,256]), ShapedArray(float32[7,256]), ShapedArray(float32[256]), ShapedArray(float32[256,256]), ShapedArray(float32[256]), ShapedArray(float32[256,256]), ShapedArray(float32[256]), ShapedArray(float32[256,256]), ShapedArray(float32[256]), ShapedArray(float32[256,256]), ShapedArray(float32[256]), ShapedArray(float32[256]), ShapedArray(float32[256]), ShapedArray(float32[256]), ShapedArray(float32[1024]), ShapedArray(float32[256,1024]), ShapedArray(float32[256]), ShapedArray(float32[1024,256]), ShapedArray(float32[256]), ShapedArray(float32[256,256]), ShapedArray(float32[256]), ShapedArray(float32[256,256]), ShapedArray(float32[256]), ShapedArray(float32[256,256]), ShapedArray(float32[256]), ShapedArray(float32[256,256]), ShapedArray(float32[256]), ShapedArray(float32[256]), ShapedArray(float32[256]), ShapedArray(float32[256]), ShapedArray(float32[1024]), ShapedArray(float32[256,1024]), ShapedArray(float32[256]), ShapedArray(float32[1024,256]), ShapedArray(float32[256]), ShapedArray(float32[256]), ShapedArray(float32[256]), ShapedArray(float32[256,256]), ShapedArray(float32[256]), ShapedArray(float32[256,256]), ShapedArray(float32[256]), ShapedArray(float32[256,256]), ShapedArray(float32[256]), ShapedArray(float32[256,256]), ShapedArray(float32[256]), ShapedArray(float32[256,256]), ShapedArray(float32[256]), ShapedArray(float32[256,256]), ShapedArray(float32[256]), ShapedArray(float32[256,256]), ShapedArray(float32[256]), ShapedArray(float32[256,256]), ShapedArray(float32[256]), ShapedArray(float32[256,256]), ShapedArray(float32[256]), ShapedArray(float32[256,256]), ShapedArray(float32[256]), ShapedArray(float32[256,256]), ShapedArray(float32[256]), ShapedArray(float32[256,256]), ShapedArray(float32[256]), ShapedArray(float32[256,256]), ShapedArray(float32[256]), ShapedArray(float32[256]), ShapedArray(float32[256]), ShapedArray(float32[256]), ShapedArray(float32[1024]), ShapedArray(float32[256,1024]), ShapedArray(float32[256]), ShapedArray(float32[1024,256]), ShapedArray(float32[256]), ShapedArray(float32[256,256]), ShapedArray(float32[256]), ShapedArray(float32[256,256]), ShapedArray(float32[256]), ShapedArray(float32[256,256]), ShapedArray(float32[256]), ShapedArray(float32[256,256]), ShapedArray(float32[256]), ShapedArray(float32[256]), ShapedArray(float32[256]), ShapedArray(float32[256]), ShapedArray(float32[1024]), ShapedArray(float32[256,1024]), ShapedArray(float32[256]), ShapedArray(float32[1024,256]), ShapedArray(float32[256]), ShapedArray(float32[256]), ShapedArray(float32[5103,256]), ShapedArray(float32[100,256]), ShapedArray(float32[12,256]), ShapedArray(float32[31,256]), ShapedArray(float32[24,256]), ShapedArray(float32[60,256]), ShapedArray(float32[7,256]), ShapedArray(float32[256]), ShapedArray(float32[256,256]), ShapedArray(float32[256]), ShapedArray(float32[256,256]), ShapedArray(float32[256]), ShapedArray(float32[256,256]), ShapedArray(float32[256]), ShapedArray(float32[256,256]), ShapedArray(float32[256]), ShapedArray(float32[256]), ShapedArray(float32[256]), ShapedArray(float32[256]), ShapedArray(float32[1024]), ShapedArray(float32[256,1024]), ShapedArray(float32[256]), ShapedArray(float32[1024,256]), ShapedArray(float32[256]), ShapedArray(float32[256,256]), ShapedArray(float32[256]), ShapedArray(float32[256,256]), ShapedArray(float32[256]), ShapedArray(float32[256,256]), ShapedArray(float32[256]), ShapedArray(float32[256,256]), ShapedArray(float32[256]), ShapedArray(float32[256]), ShapedArray(float32[256]), ShapedArray(float32[256]), ShapedArray(float32[1024]), ShapedArray(float32[256,1024]), ShapedArray(float32[256]), ShapedArray(float32[1024,256]), ShapedArray(float32[256]), ShapedArray(float32[256]), ShapedArray(float32[256]), ShapedArray(float32[256,256]), ShapedArray(float32[256]), ShapedArray(float32[256,256]), ShapedArray(float32[256]), ShapedArray(float32[256,256]), ShapedArray(float32[256]), ShapedArray(float32[256,256]), ShapedArray(float32[256]), ShapedArray(float32[256,256]), ShapedArray(float32[256]), ShapedArray(float32[256,256]), ShapedArray(float32[256]), ShapedArray(float32[256,256]), ShapedArray(float32[256]), ShapedArray(float32[256,256]), ShapedArray(float32[256]), ShapedArray(float32[256,256]), ShapedArray(uint32[2]), ShapedArray(int32[]), ShapedArray(int32[16,64,64]), ShapedArray(int32[16,64,64]), ShapedArray(int32[16,64,64]), ShapedArray(int32[16,64,64,9]), ShapedArray(int32[16,64]), ShapedArray(int32[16,64,1,9])).\n",
            "INFO - {'loss': 77.34854125976562, 'step': 1.0}\n"
          ],
          "name": "stderr"
        },
        {
          "output_type": "stream",
          "text": [
            "test_iter\n"
          ],
          "name": "stdout"
        },
        {
          "output_type": "stream",
          "text": [
            "INFO - {'loss': 72.54977416992188, 'step': 1.0}\n",
            "INFO - {'loss': 59.3858528137207, 'step': 50.0, 'steps_per_sec': 0.7852573786395923}\n",
            "INFO - {'loss': 58.16107940673828, 'step': 100.0, 'steps_per_sec': 2.914481537208234}\n"
          ],
          "name": "stderr"
        },
        {
          "output_type": "stream",
          "text": [
            "train_iter\n"
          ],
          "name": "stdout"
        },
        {
          "output_type": "stream",
          "text": [
            "INFO - {'loss': 56.65009689331055, 'step': 101.0}\n"
          ],
          "name": "stderr"
        },
        {
          "output_type": "stream",
          "text": [
            "test_iter\n"
          ],
          "name": "stdout"
        },
        {
          "output_type": "stream",
          "text": [
            "INFO - {'loss': 60.250125885009766, 'step': 101.0}\n",
            "INFO - {'loss': 62.99076843261719, 'step': 150.0, 'steps_per_sec': 1.8704937924086111}\n",
            "INFO - {'loss': 60.689884185791016, 'step': 200.0, 'steps_per_sec': 2.9015978302214833}\n"
          ],
          "name": "stderr"
        },
        {
          "output_type": "stream",
          "text": [
            "train_iter\n"
          ],
          "name": "stdout"
        },
        {
          "output_type": "stream",
          "text": [
            "INFO - {'loss': 61.328426361083984, 'step': 201.0}\n"
          ],
          "name": "stderr"
        },
        {
          "output_type": "stream",
          "text": [
            "test_iter\n"
          ],
          "name": "stdout"
        },
        {
          "output_type": "stream",
          "text": [
            "INFO - {'loss': 62.32035446166992, 'step': 201.0}\n",
            "INFO - {'loss': 58.091033935546875, 'step': 250.0, 'steps_per_sec': 1.9336942529820693}\n",
            "INFO - {'loss': 74.07520294189453, 'step': 300.0, 'steps_per_sec': 2.8934251864630465}\n"
          ],
          "name": "stderr"
        },
        {
          "output_type": "stream",
          "text": [
            "train_iter\n"
          ],
          "name": "stdout"
        },
        {
          "output_type": "stream",
          "text": [
            "INFO - {'loss': 69.36236572265625, 'step': 301.0}\n"
          ],
          "name": "stderr"
        },
        {
          "output_type": "stream",
          "text": [
            "test_iter\n"
          ],
          "name": "stdout"
        },
        {
          "output_type": "stream",
          "text": [
            "INFO - {'loss': 74.76504516601562, 'step': 301.0}\n",
            "INFO - {'loss': 58.7084846496582, 'step': 350.0, 'steps_per_sec': 1.898831694696368}\n",
            "INFO - {'loss': 56.457271575927734, 'step': 400.0, 'steps_per_sec': 2.892064621609874}\n"
          ],
          "name": "stderr"
        },
        {
          "output_type": "stream",
          "text": [
            "train_iter\n"
          ],
          "name": "stdout"
        },
        {
          "output_type": "stream",
          "text": [
            "INFO - {'loss': 54.817195892333984, 'step': 401.0}\n"
          ],
          "name": "stderr"
        },
        {
          "output_type": "stream",
          "text": [
            "test_iter\n"
          ],
          "name": "stdout"
        },
        {
          "output_type": "stream",
          "text": [
            "INFO - {'loss': 61.11088180541992, 'step': 401.0}\n",
            "INFO - {'loss': 58.27395248413086, 'step': 450.0, 'steps_per_sec': 1.9141099702887225}\n",
            "INFO - {'loss': 51.21246337890625, 'step': 500.0, 'steps_per_sec': 2.8937061334148275}\n"
          ],
          "name": "stderr"
        },
        {
          "output_type": "stream",
          "text": [
            "train_iter\n"
          ],
          "name": "stdout"
        },
        {
          "output_type": "stream",
          "text": [
            "INFO - {'loss': 50.59857940673828, 'step': 501.0}\n"
          ],
          "name": "stderr"
        },
        {
          "output_type": "stream",
          "text": [
            "test_iter\n"
          ],
          "name": "stdout"
        },
        {
          "output_type": "stream",
          "text": [
            "INFO - {'loss': 56.88175582885742, 'step': 501.0}\n",
            "INFO - {'loss': 61.8305549621582, 'step': 550.0, 'steps_per_sec': 1.9042746823828314}\n",
            "INFO - {'loss': 56.07247543334961, 'step': 600.0, 'steps_per_sec': 2.893701182335523}\n"
          ],
          "name": "stderr"
        },
        {
          "output_type": "stream",
          "text": [
            "train_iter\n"
          ],
          "name": "stdout"
        },
        {
          "output_type": "stream",
          "text": [
            "INFO - {'loss': 58.824466705322266, 'step': 601.0}\n"
          ],
          "name": "stderr"
        },
        {
          "output_type": "stream",
          "text": [
            "test_iter\n"
          ],
          "name": "stdout"
        },
        {
          "output_type": "stream",
          "text": [
            "INFO - {'loss': 62.294612884521484, 'step': 601.0}\n",
            "INFO - {'loss': 55.61779022216797, 'step': 650.0, 'steps_per_sec': 1.9071764385020191}\n",
            "INFO - {'loss': 57.57568359375, 'step': 700.0, 'steps_per_sec': 2.8983678133945747}\n"
          ],
          "name": "stderr"
        },
        {
          "output_type": "stream",
          "text": [
            "train_iter\n"
          ],
          "name": "stdout"
        },
        {
          "output_type": "stream",
          "text": [
            "INFO - {'loss': 54.4453125, 'step': 701.0}\n"
          ],
          "name": "stderr"
        },
        {
          "output_type": "stream",
          "text": [
            "test_iter\n"
          ],
          "name": "stdout"
        },
        {
          "output_type": "stream",
          "text": [
            "INFO - {'loss': 58.673866271972656, 'step': 701.0}\n",
            "INFO - {'loss': 58.62867736816406, 'step': 750.0, 'steps_per_sec': 1.9110991757325895}\n",
            "INFO - {'loss': 54.035980224609375, 'step': 800.0, 'steps_per_sec': 2.894542829607357}\n"
          ],
          "name": "stderr"
        },
        {
          "output_type": "stream",
          "text": [
            "train_iter\n"
          ],
          "name": "stdout"
        },
        {
          "output_type": "stream",
          "text": [
            "INFO - {'loss': 53.66575241088867, 'step': 801.0}\n"
          ],
          "name": "stderr"
        },
        {
          "output_type": "stream",
          "text": [
            "test_iter\n"
          ],
          "name": "stdout"
        },
        {
          "output_type": "stream",
          "text": [
            "INFO - {'loss': 63.80279541015625, 'step': 801.0}\n",
            "INFO - {'loss': 48.81190872192383, 'step': 850.0, 'steps_per_sec': 1.907272442942969}\n",
            "INFO - {'loss': 49.2186393737793, 'step': 900.0, 'steps_per_sec': 2.893267389828997}\n"
          ],
          "name": "stderr"
        },
        {
          "output_type": "stream",
          "text": [
            "train_iter\n"
          ],
          "name": "stdout"
        },
        {
          "output_type": "stream",
          "text": [
            "INFO - {'loss': 50.62001037597656, 'step': 901.0}\n"
          ],
          "name": "stderr"
        },
        {
          "output_type": "stream",
          "text": [
            "test_iter\n"
          ],
          "name": "stdout"
        },
        {
          "output_type": "stream",
          "text": [
            "INFO - {'loss': 53.096717834472656, 'step': 901.0}\n",
            "INFO - {'loss': 48.518917083740234, 'step': 950.0, 'steps_per_sec': 1.908263336067342}\n",
            "INFO - {'loss': 49.13819885253906, 'step': 1000.0, 'steps_per_sec': 2.9018119055937013}\n"
          ],
          "name": "stderr"
        },
        {
          "output_type": "stream",
          "text": [
            "train_iter\n"
          ],
          "name": "stdout"
        },
        {
          "output_type": "stream",
          "text": [
            "INFO - {'loss': 48.50212860107422, 'step': 1001.0}\n"
          ],
          "name": "stderr"
        },
        {
          "output_type": "stream",
          "text": [
            "test_iter\n"
          ],
          "name": "stdout"
        },
        {
          "output_type": "stream",
          "text": [
            "INFO - {'loss': 52.53471374511719, 'step': 1001.0}\n",
            "INFO - {'loss': 45.341712951660156, 'step': 1050.0, 'steps_per_sec': 1.9127953670546967}\n",
            "INFO - {'loss': 44.426490783691406, 'step': 1100.0, 'steps_per_sec': 2.9054604538413153}\n"
          ],
          "name": "stderr"
        },
        {
          "output_type": "stream",
          "text": [
            "train_iter\n"
          ],
          "name": "stdout"
        },
        {
          "output_type": "stream",
          "text": [
            "INFO - {'loss': 42.23673629760742, 'step': 1101.0}\n"
          ],
          "name": "stderr"
        },
        {
          "output_type": "stream",
          "text": [
            "test_iter\n"
          ],
          "name": "stdout"
        },
        {
          "output_type": "stream",
          "text": [
            "INFO - {'loss': 51.26152038574219, 'step': 1101.0}\n",
            "INFO - {'loss': 40.09748458862305, 'step': 1150.0, 'steps_per_sec': 1.912184116653341}\n",
            "INFO - {'loss': 35.76808166503906, 'step': 1200.0, 'steps_per_sec': 2.898019400508884}\n"
          ],
          "name": "stderr"
        },
        {
          "output_type": "stream",
          "text": [
            "train_iter\n"
          ],
          "name": "stdout"
        },
        {
          "output_type": "stream",
          "text": [
            "INFO - {'loss': nan, 'step': 1201.0}\n"
          ],
          "name": "stderr"
        },
        {
          "output_type": "stream",
          "text": [
            "test_iter\n"
          ],
          "name": "stdout"
        },
        {
          "output_type": "stream",
          "text": [
            "INFO - {'loss': 54.723690032958984, 'step': 1201.0}\n",
            "INFO - {'loss': nan, 'step': 1250.0, 'steps_per_sec': 1.915714016667258}\n",
            "INFO - {'loss': 39.013362884521484, 'step': 1300.0, 'steps_per_sec': 2.9234296222017786}\n"
          ],
          "name": "stderr"
        },
        {
          "output_type": "stream",
          "text": [
            "train_iter\n"
          ],
          "name": "stdout"
        },
        {
          "output_type": "stream",
          "text": [
            "INFO - {'loss': nan, 'step': 1301.0}\n"
          ],
          "name": "stderr"
        },
        {
          "output_type": "stream",
          "text": [
            "test_iter\n"
          ],
          "name": "stdout"
        },
        {
          "output_type": "stream",
          "text": [
            "INFO - {'loss': 53.79696273803711, 'step': 1301.0}\n",
            "INFO - {'loss': 35.682273864746094, 'step': 1350.0, 'steps_per_sec': 1.9470564914252815}\n",
            "INFO - {'loss': nan, 'step': 1400.0, 'steps_per_sec': 2.995272040826441}\n"
          ],
          "name": "stderr"
        },
        {
          "output_type": "stream",
          "text": [
            "train_iter\n"
          ],
          "name": "stdout"
        },
        {
          "output_type": "stream",
          "text": [
            "INFO - {'loss': nan, 'step': 1401.0}\n"
          ],
          "name": "stderr"
        },
        {
          "output_type": "stream",
          "text": [
            "test_iter\n"
          ],
          "name": "stdout"
        },
        {
          "output_type": "stream",
          "text": [
            "INFO - {'loss': 54.03291702270508, 'step': 1401.0}\n",
            "INFO - {'loss': nan, 'step': 1450.0, 'steps_per_sec': 1.9265398997915428}\n",
            "INFO - {'loss': 50.451332092285156, 'step': 1500.0, 'steps_per_sec': 2.8995687753649806}\n"
          ],
          "name": "stderr"
        },
        {
          "output_type": "stream",
          "text": [
            "train_iter\n"
          ],
          "name": "stdout"
        },
        {
          "output_type": "stream",
          "text": [
            "INFO - {'loss': 47.161834716796875, 'step': 1501.0}\n"
          ],
          "name": "stderr"
        },
        {
          "output_type": "stream",
          "text": [
            "test_iter\n"
          ],
          "name": "stdout"
        },
        {
          "output_type": "stream",
          "text": [
            "INFO - {'loss': 55.14613723754883, 'step': 1501.0}\n",
            "INFO - {'loss': 42.317962646484375, 'step': 1550.0, 'steps_per_sec': 1.9112596732622613}\n",
            "INFO - {'loss': 45.64357376098633, 'step': 1600.0, 'steps_per_sec': 2.8966515919102953}\n"
          ],
          "name": "stderr"
        },
        {
          "output_type": "stream",
          "text": [
            "train_iter\n"
          ],
          "name": "stdout"
        },
        {
          "output_type": "stream",
          "text": [
            "INFO - {'loss': 46.05281448364258, 'step': 1601.0}\n"
          ],
          "name": "stderr"
        },
        {
          "output_type": "stream",
          "text": [
            "test_iter\n"
          ],
          "name": "stdout"
        },
        {
          "output_type": "stream",
          "text": [
            "INFO - {'loss': 51.44664764404297, 'step': 1601.0}\n",
            "INFO - {'loss': 42.97735595703125, 'step': 1650.0, 'steps_per_sec': 1.9078155399626364}\n",
            "INFO - {'loss': 43.768375396728516, 'step': 1700.0, 'steps_per_sec': 2.901950597685156}\n"
          ],
          "name": "stderr"
        },
        {
          "output_type": "stream",
          "text": [
            "train_iter\n"
          ],
          "name": "stdout"
        },
        {
          "output_type": "stream",
          "text": [
            "INFO - {'loss': 44.027587890625, 'step': 1701.0}\n"
          ],
          "name": "stderr"
        },
        {
          "output_type": "stream",
          "text": [
            "test_iter\n"
          ],
          "name": "stdout"
        },
        {
          "output_type": "stream",
          "text": [
            "INFO - {'loss': 50.59616470336914, 'step': 1701.0}\n",
            "INFO - {'loss': 44.05964660644531, 'step': 1750.0, 'steps_per_sec': 1.916663322421452}\n",
            "INFO - {'loss': 45.097434997558594, 'step': 1800.0, 'steps_per_sec': 2.9087671460574067}\n"
          ],
          "name": "stderr"
        },
        {
          "output_type": "stream",
          "text": [
            "train_iter\n"
          ],
          "name": "stdout"
        },
        {
          "output_type": "stream",
          "text": [
            "INFO - {'loss': 45.55032730102539, 'step': 1801.0}\n"
          ],
          "name": "stderr"
        },
        {
          "output_type": "stream",
          "text": [
            "test_iter\n"
          ],
          "name": "stdout"
        },
        {
          "output_type": "stream",
          "text": [
            "INFO - {'loss': 50.67825698852539, 'step': 1801.0}\n",
            "INFO - {'loss': 48.551414489746094, 'step': 1850.0, 'steps_per_sec': 1.9116700529275452}\n",
            "INFO - {'loss': 44.33205795288086, 'step': 1900.0, 'steps_per_sec': 2.9046835340508395}\n"
          ],
          "name": "stderr"
        },
        {
          "output_type": "stream",
          "text": [
            "train_iter\n"
          ],
          "name": "stdout"
        },
        {
          "output_type": "stream",
          "text": [
            "INFO - {'loss': 44.97132873535156, 'step': 1901.0}\n"
          ],
          "name": "stderr"
        },
        {
          "output_type": "stream",
          "text": [
            "test_iter\n"
          ],
          "name": "stdout"
        },
        {
          "output_type": "stream",
          "text": [
            "INFO - {'loss': 50.45950698852539, 'step': 1901.0}\n",
            "INFO - {'loss': 44.132022857666016, 'step': 1950.0, 'steps_per_sec': 1.9117606720588753}\n",
            "INFO - {'loss': 41.20439147949219, 'step': 2000.0, 'steps_per_sec': 2.906687445457649}\n"
          ],
          "name": "stderr"
        },
        {
          "output_type": "stream",
          "text": [
            "train_iter\n"
          ],
          "name": "stdout"
        },
        {
          "output_type": "stream",
          "text": [
            "INFO - {'loss': 44.70726013183594, 'step': 2001.0}\n"
          ],
          "name": "stderr"
        },
        {
          "output_type": "stream",
          "text": [
            "test_iter\n"
          ],
          "name": "stdout"
        },
        {
          "output_type": "stream",
          "text": [
            "INFO - {'loss': 49.39390563964844, 'step': 2001.0}\n",
            "INFO - {'loss': 42.766056060791016, 'step': 2050.0, 'steps_per_sec': 1.9139326966754369}\n",
            "INFO - {'loss': 44.36531066894531, 'step': 2100.0, 'steps_per_sec': 2.9005961268105698}\n"
          ],
          "name": "stderr"
        },
        {
          "output_type": "stream",
          "text": [
            "train_iter\n"
          ],
          "name": "stdout"
        },
        {
          "output_type": "stream",
          "text": [
            "INFO - {'loss': 44.99515914916992, 'step': 2101.0}\n"
          ],
          "name": "stderr"
        },
        {
          "output_type": "stream",
          "text": [
            "test_iter\n"
          ],
          "name": "stdout"
        },
        {
          "output_type": "stream",
          "text": [
            "INFO - {'loss': 49.31987380981445, 'step': 2101.0}\n",
            "INFO - {'loss': 43.342369079589844, 'step': 2150.0, 'steps_per_sec': 1.9137584946307817}\n",
            "INFO - {'loss': 43.07584762573242, 'step': 2200.0, 'steps_per_sec': 2.9161095532848136}\n"
          ],
          "name": "stderr"
        },
        {
          "output_type": "stream",
          "text": [
            "train_iter\n"
          ],
          "name": "stdout"
        },
        {
          "output_type": "stream",
          "text": [
            "INFO - {'loss': 44.87464141845703, 'step': 2201.0}\n"
          ],
          "name": "stderr"
        },
        {
          "output_type": "stream",
          "text": [
            "test_iter\n"
          ],
          "name": "stdout"
        },
        {
          "output_type": "stream",
          "text": [
            "INFO - {'loss': 48.02169418334961, 'step': 2201.0}\n",
            "INFO - {'loss': 43.48591232299805, 'step': 2250.0, 'steps_per_sec': 1.9223041896750122}\n",
            "INFO - {'loss': 44.65679931640625, 'step': 2300.0, 'steps_per_sec': 2.919231620384075}\n"
          ],
          "name": "stderr"
        },
        {
          "output_type": "stream",
          "text": [
            "train_iter\n"
          ],
          "name": "stdout"
        },
        {
          "output_type": "stream",
          "text": [
            "INFO - {'loss': 45.07229232788086, 'step': 2301.0}\n"
          ],
          "name": "stderr"
        },
        {
          "output_type": "stream",
          "text": [
            "test_iter\n"
          ],
          "name": "stdout"
        },
        {
          "output_type": "stream",
          "text": [
            "INFO - {'loss': 45.29352569580078, 'step': 2301.0}\n",
            "INFO - {'loss': 46.370887756347656, 'step': 2350.0, 'steps_per_sec': 1.9286829875497684}\n",
            "INFO - {'loss': 43.92515182495117, 'step': 2400.0, 'steps_per_sec': 2.935962424756716}\n"
          ],
          "name": "stderr"
        },
        {
          "output_type": "stream",
          "text": [
            "train_iter\n"
          ],
          "name": "stdout"
        },
        {
          "output_type": "stream",
          "text": [
            "INFO - {'loss': 43.295936584472656, 'step': 2401.0}\n"
          ],
          "name": "stderr"
        },
        {
          "output_type": "stream",
          "text": [
            "test_iter\n"
          ],
          "name": "stdout"
        },
        {
          "output_type": "stream",
          "text": [
            "INFO - {'loss': 44.98665237426758, 'step': 2401.0}\n",
            "INFO - {'loss': 40.907405853271484, 'step': 2450.0, 'steps_per_sec': 1.9098035908006994}\n",
            "INFO - {'loss': 41.32182312011719, 'step': 2500.0, 'steps_per_sec': 2.892429555756676}\n"
          ],
          "name": "stderr"
        },
        {
          "output_type": "stream",
          "text": [
            "train_iter\n"
          ],
          "name": "stdout"
        },
        {
          "output_type": "stream",
          "text": [
            "INFO - {'loss': 39.466163635253906, 'step': 2501.0}\n"
          ],
          "name": "stderr"
        },
        {
          "output_type": "stream",
          "text": [
            "test_iter\n"
          ],
          "name": "stdout"
        },
        {
          "output_type": "stream",
          "text": [
            "INFO - {'loss': 43.46024703979492, 'step': 2501.0}\n",
            "INFO - {'loss': 38.66046142578125, 'step': 2550.0, 'steps_per_sec': 1.9124644999999179}\n",
            "INFO - {'loss': 36.54338455200195, 'step': 2600.0, 'steps_per_sec': 2.913306922839428}\n"
          ],
          "name": "stderr"
        },
        {
          "output_type": "stream",
          "text": [
            "train_iter\n"
          ],
          "name": "stdout"
        },
        {
          "output_type": "stream",
          "text": [
            "INFO - {'loss': nan, 'step': 2601.0}\n"
          ],
          "name": "stderr"
        },
        {
          "output_type": "stream",
          "text": [
            "test_iter\n"
          ],
          "name": "stdout"
        },
        {
          "output_type": "stream",
          "text": [
            "INFO - {'loss': nan, 'step': 2601.0}\n",
            "INFO - {'loss': 36.110469818115234, 'step': 2650.0, 'steps_per_sec': 1.9089987190882505}\n",
            "INFO - {'loss': 39.407073974609375, 'step': 2700.0, 'steps_per_sec': 2.894051193503973}\n"
          ],
          "name": "stderr"
        },
        {
          "output_type": "stream",
          "text": [
            "train_iter\n"
          ],
          "name": "stdout"
        },
        {
          "output_type": "stream",
          "text": [
            "INFO - {'loss': 42.84996032714844, 'step': 2701.0}\n"
          ],
          "name": "stderr"
        },
        {
          "output_type": "stream",
          "text": [
            "test_iter\n"
          ],
          "name": "stdout"
        },
        {
          "output_type": "stream",
          "text": [
            "INFO - {'loss': nan, 'step': 2701.0}\n",
            "INFO - {'loss': 44.13493347167969, 'step': 2750.0, 'steps_per_sec': 1.9207729340816069}\n",
            "INFO - {'loss': 42.29729461669922, 'step': 2800.0, 'steps_per_sec': 2.90530931107142}\n"
          ],
          "name": "stderr"
        },
        {
          "output_type": "stream",
          "text": [
            "train_iter\n"
          ],
          "name": "stdout"
        },
        {
          "output_type": "stream",
          "text": [
            "INFO - {'loss': 44.674896240234375, 'step': 2801.0}\n"
          ],
          "name": "stderr"
        },
        {
          "output_type": "stream",
          "text": [
            "test_iter\n"
          ],
          "name": "stdout"
        },
        {
          "output_type": "stream",
          "text": [
            "INFO - {'loss': nan, 'step': 2801.0}\n",
            "INFO - {'loss': 45.299652099609375, 'step': 2850.0, 'steps_per_sec': 1.9081197302476383}\n",
            "INFO - {'loss': 46.33223342895508, 'step': 2900.0, 'steps_per_sec': 2.926887776615683}\n"
          ],
          "name": "stderr"
        },
        {
          "output_type": "stream",
          "text": [
            "train_iter\n"
          ],
          "name": "stdout"
        },
        {
          "output_type": "stream",
          "text": [
            "INFO - {'loss': 45.67996597290039, 'step': 2901.0}\n"
          ],
          "name": "stderr"
        },
        {
          "output_type": "stream",
          "text": [
            "test_iter\n"
          ],
          "name": "stdout"
        },
        {
          "output_type": "stream",
          "text": [
            "INFO - {'loss': nan, 'step': 2901.0}\n",
            "INFO - {'loss': 46.62184143066406, 'step': 2950.0, 'steps_per_sec': 1.909196023541257}\n",
            "INFO - {'loss': 46.61249542236328, 'step': 3000.0, 'steps_per_sec': 2.919796971728668}\n"
          ],
          "name": "stderr"
        },
        {
          "output_type": "stream",
          "text": [
            "train_iter\n"
          ],
          "name": "stdout"
        },
        {
          "output_type": "stream",
          "text": [
            "INFO - {'loss': 44.81684112548828, 'step': 3001.0}\n"
          ],
          "name": "stderr"
        },
        {
          "output_type": "stream",
          "text": [
            "test_iter\n"
          ],
          "name": "stdout"
        },
        {
          "output_type": "stream",
          "text": [
            "INFO - {'loss': 43.85671615600586, 'step': 3001.0}\n",
            "INFO - {'loss': 46.23460388183594, 'step': 3050.0, 'steps_per_sec': 1.9229996517578087}\n",
            "INFO - {'loss': 44.166072845458984, 'step': 3100.0, 'steps_per_sec': 2.905432880685291}\n"
          ],
          "name": "stderr"
        },
        {
          "output_type": "stream",
          "text": [
            "train_iter\n"
          ],
          "name": "stdout"
        },
        {
          "output_type": "stream",
          "text": [
            "INFO - {'loss': 45.44956588745117, 'step': 3101.0}\n"
          ],
          "name": "stderr"
        },
        {
          "output_type": "stream",
          "text": [
            "test_iter\n"
          ],
          "name": "stdout"
        },
        {
          "output_type": "stream",
          "text": [
            "INFO - {'loss': 45.97280502319336, 'step': 3101.0}\n",
            "INFO - {'loss': 45.10112762451172, 'step': 3150.0, 'steps_per_sec': 1.9120491246312574}\n",
            "INFO - {'loss': 43.537803649902344, 'step': 3200.0, 'steps_per_sec': 2.9447430030177286}\n"
          ],
          "name": "stderr"
        },
        {
          "output_type": "stream",
          "text": [
            "train_iter\n"
          ],
          "name": "stdout"
        },
        {
          "output_type": "stream",
          "text": [
            "INFO - {'loss': 44.595726013183594, 'step': 3201.0}\n"
          ],
          "name": "stderr"
        },
        {
          "output_type": "stream",
          "text": [
            "test_iter\n"
          ],
          "name": "stdout"
        },
        {
          "output_type": "stream",
          "text": [
            "INFO - {'loss': 45.12526321411133, 'step': 3201.0}\n",
            "INFO - {'loss': 42.20070266723633, 'step': 3250.0, 'steps_per_sec': 1.9187130838614375}\n",
            "INFO - {'loss': 44.056583404541016, 'step': 3300.0, 'steps_per_sec': 2.906523445642388}\n"
          ],
          "name": "stderr"
        },
        {
          "output_type": "stream",
          "text": [
            "train_iter\n"
          ],
          "name": "stdout"
        },
        {
          "output_type": "stream",
          "text": [
            "INFO - {'loss': 44.81229019165039, 'step': 3301.0}\n"
          ],
          "name": "stderr"
        },
        {
          "output_type": "stream",
          "text": [
            "test_iter\n"
          ],
          "name": "stdout"
        },
        {
          "output_type": "stream",
          "text": [
            "INFO - {'loss': 45.7089729309082, 'step': 3301.0}\n",
            "INFO - {'loss': 45.53978729248047, 'step': 3350.0, 'steps_per_sec': 1.9205083650346875}\n",
            "INFO - {'loss': 43.03132247924805, 'step': 3400.0, 'steps_per_sec': 2.9201152254939746}\n"
          ],
          "name": "stderr"
        },
        {
          "output_type": "stream",
          "text": [
            "train_iter\n"
          ],
          "name": "stdout"
        },
        {
          "output_type": "stream",
          "text": [
            "INFO - {'loss': 43.98310089111328, 'step': 3401.0}\n"
          ],
          "name": "stderr"
        },
        {
          "output_type": "stream",
          "text": [
            "test_iter\n"
          ],
          "name": "stdout"
        },
        {
          "output_type": "stream",
          "text": [
            "INFO - {'loss': 45.637508392333984, 'step': 3401.0}\n",
            "INFO - {'loss': 42.932952880859375, 'step': 3450.0, 'steps_per_sec': 1.9212273974176948}\n",
            "INFO - {'loss': 41.38969039916992, 'step': 3500.0, 'steps_per_sec': 2.9084950455637437}\n"
          ],
          "name": "stderr"
        },
        {
          "output_type": "stream",
          "text": [
            "train_iter\n"
          ],
          "name": "stdout"
        },
        {
          "output_type": "stream",
          "text": [
            "INFO - {'loss': 43.33712387084961, 'step': 3501.0}\n"
          ],
          "name": "stderr"
        },
        {
          "output_type": "stream",
          "text": [
            "test_iter\n"
          ],
          "name": "stdout"
        },
        {
          "output_type": "stream",
          "text": [
            "INFO - {'loss': 45.988319396972656, 'step': 3501.0}\n",
            "INFO - {'loss': 42.895965576171875, 'step': 3550.0, 'steps_per_sec': 1.9007900994521545}\n",
            "INFO - {'loss': 40.94239807128906, 'step': 3600.0, 'steps_per_sec': 2.9151917368352875}\n"
          ],
          "name": "stderr"
        },
        {
          "output_type": "stream",
          "text": [
            "train_iter\n"
          ],
          "name": "stdout"
        },
        {
          "output_type": "stream",
          "text": [
            "INFO - {'loss': 39.27857208251953, 'step': 3601.0}\n"
          ],
          "name": "stderr"
        },
        {
          "output_type": "stream",
          "text": [
            "test_iter\n"
          ],
          "name": "stdout"
        },
        {
          "output_type": "stream",
          "text": [
            "INFO - {'loss': 45.867576599121094, 'step': 3601.0}\n",
            "INFO - {'loss': 42.65645217895508, 'step': 3650.0, 'steps_per_sec': 1.9185772386723545}\n",
            "INFO - {'loss': 41.476417541503906, 'step': 3700.0, 'steps_per_sec': 2.892301664755477}\n"
          ],
          "name": "stderr"
        },
        {
          "output_type": "stream",
          "text": [
            "train_iter\n"
          ],
          "name": "stdout"
        },
        {
          "output_type": "stream",
          "text": [
            "INFO - {'loss': 42.07189178466797, 'step': 3701.0}\n"
          ],
          "name": "stderr"
        },
        {
          "output_type": "stream",
          "text": [
            "test_iter\n"
          ],
          "name": "stdout"
        },
        {
          "output_type": "stream",
          "text": [
            "INFO - {'loss': 47.38019943237305, 'step': 3701.0}\n",
            "INFO - {'loss': 46.56135177612305, 'step': 3750.0, 'steps_per_sec': 1.9076054372947637}\n",
            "INFO - {'loss': 44.07722473144531, 'step': 3800.0, 'steps_per_sec': 2.917620006772506}\n"
          ],
          "name": "stderr"
        },
        {
          "output_type": "stream",
          "text": [
            "train_iter\n"
          ],
          "name": "stdout"
        },
        {
          "output_type": "stream",
          "text": [
            "INFO - {'loss': 43.36853790283203, 'step': 3801.0}\n"
          ],
          "name": "stderr"
        },
        {
          "output_type": "stream",
          "text": [
            "test_iter\n"
          ],
          "name": "stdout"
        },
        {
          "output_type": "stream",
          "text": [
            "INFO - {'loss': 46.0264778137207, 'step': 3801.0}\n",
            "INFO - {'loss': 44.63810348510742, 'step': 3850.0, 'steps_per_sec': 1.9069623322490352}\n",
            "INFO - {'loss': 43.53278732299805, 'step': 3900.0, 'steps_per_sec': 2.9219931877210557}\n"
          ],
          "name": "stderr"
        },
        {
          "output_type": "stream",
          "text": [
            "train_iter\n"
          ],
          "name": "stdout"
        },
        {
          "output_type": "stream",
          "text": [
            "INFO - {'loss': 43.77302169799805, 'step': 3901.0}\n"
          ],
          "name": "stderr"
        },
        {
          "output_type": "stream",
          "text": [
            "test_iter\n"
          ],
          "name": "stdout"
        },
        {
          "output_type": "stream",
          "text": [
            "INFO - {'loss': 46.119197845458984, 'step': 3901.0}\n",
            "INFO - {'loss': 41.99684143066406, 'step': 3950.0, 'steps_per_sec': 1.9167229874590053}\n",
            "INFO - {'loss': 46.38928985595703, 'step': 4000.0, 'steps_per_sec': 2.895304340354101}\n"
          ],
          "name": "stderr"
        },
        {
          "output_type": "stream",
          "text": [
            "train_iter\n"
          ],
          "name": "stdout"
        },
        {
          "output_type": "stream",
          "text": [
            "INFO - {'loss': 43.58628463745117, 'step': 4001.0}\n"
          ],
          "name": "stderr"
        },
        {
          "output_type": "stream",
          "text": [
            "test_iter\n"
          ],
          "name": "stdout"
        },
        {
          "output_type": "stream",
          "text": [
            "INFO - {'loss': 44.66616439819336, 'step': 4001.0}\n",
            "INFO - {'loss': 44.35318374633789, 'step': 4050.0, 'steps_per_sec': 1.9240114770296743}\n",
            "INFO - {'loss': 44.28978729248047, 'step': 4100.0, 'steps_per_sec': 2.9279742341305455}\n"
          ],
          "name": "stderr"
        },
        {
          "output_type": "stream",
          "text": [
            "train_iter\n"
          ],
          "name": "stdout"
        },
        {
          "output_type": "stream",
          "text": [
            "INFO - {'loss': 44.754154205322266, 'step': 4101.0}\n"
          ],
          "name": "stderr"
        },
        {
          "output_type": "stream",
          "text": [
            "test_iter\n"
          ],
          "name": "stdout"
        },
        {
          "output_type": "stream",
          "text": [
            "INFO - {'loss': 45.63506317138672, 'step': 4101.0}\n",
            "INFO - {'loss': 42.990509033203125, 'step': 4150.0, 'steps_per_sec': 1.9140810920858364}\n",
            "INFO - {'loss': 44.82415008544922, 'step': 4200.0, 'steps_per_sec': 2.924283067821076}\n"
          ],
          "name": "stderr"
        },
        {
          "output_type": "stream",
          "text": [
            "train_iter\n"
          ],
          "name": "stdout"
        },
        {
          "output_type": "stream",
          "text": [
            "INFO - {'loss': 44.76708221435547, 'step': 4201.0}\n"
          ],
          "name": "stderr"
        },
        {
          "output_type": "stream",
          "text": [
            "test_iter\n"
          ],
          "name": "stdout"
        },
        {
          "output_type": "stream",
          "text": [
            "INFO - {'loss': 45.41001510620117, 'step': 4201.0}\n",
            "INFO - {'loss': 45.46199035644531, 'step': 4250.0, 'steps_per_sec': 1.9135687144245843}\n",
            "INFO - {'loss': 48.27571105957031, 'step': 4300.0, 'steps_per_sec': 2.903859260793882}\n"
          ],
          "name": "stderr"
        },
        {
          "output_type": "stream",
          "text": [
            "train_iter\n"
          ],
          "name": "stdout"
        },
        {
          "output_type": "stream",
          "text": [
            "INFO - {'loss': 44.588172912597656, 'step': 4301.0}\n"
          ],
          "name": "stderr"
        },
        {
          "output_type": "stream",
          "text": [
            "test_iter\n"
          ],
          "name": "stdout"
        },
        {
          "output_type": "stream",
          "text": [
            "INFO - {'loss': 46.864540100097656, 'step': 4301.0}\n",
            "INFO - {'loss': 42.292503356933594, 'step': 4350.0, 'steps_per_sec': 1.9199710082502783}\n",
            "INFO - {'loss': 43.23326110839844, 'step': 4400.0, 'steps_per_sec': 2.907419567118129}\n"
          ],
          "name": "stderr"
        },
        {
          "output_type": "stream",
          "text": [
            "train_iter\n"
          ],
          "name": "stdout"
        },
        {
          "output_type": "stream",
          "text": [
            "INFO - {'loss': 43.594932556152344, 'step': 4401.0}\n"
          ],
          "name": "stderr"
        },
        {
          "output_type": "stream",
          "text": [
            "test_iter\n"
          ],
          "name": "stdout"
        },
        {
          "output_type": "stream",
          "text": [
            "INFO - {'loss': 47.385501861572266, 'step': 4401.0}\n",
            "INFO - {'loss': 45.00379943847656, 'step': 4450.0, 'steps_per_sec': 1.9120884887978973}\n",
            "INFO - {'loss': 40.38196563720703, 'step': 4500.0, 'steps_per_sec': 2.9186861481039714}\n"
          ],
          "name": "stderr"
        },
        {
          "output_type": "stream",
          "text": [
            "train_iter\n"
          ],
          "name": "stdout"
        },
        {
          "output_type": "stream",
          "text": [
            "INFO - {'loss': 43.882606506347656, 'step': 4501.0}\n"
          ],
          "name": "stderr"
        },
        {
          "output_type": "stream",
          "text": [
            "test_iter\n"
          ],
          "name": "stdout"
        },
        {
          "output_type": "stream",
          "text": [
            "INFO - {'loss': 47.91987228393555, 'step': 4501.0}\n",
            "INFO - {'loss': 43.302406311035156, 'step': 4550.0, 'steps_per_sec': 1.912155993922903}\n",
            "INFO - {'loss': 40.27511978149414, 'step': 4600.0, 'steps_per_sec': 2.9081285467721862}\n"
          ],
          "name": "stderr"
        },
        {
          "output_type": "stream",
          "text": [
            "train_iter\n"
          ],
          "name": "stdout"
        },
        {
          "output_type": "stream",
          "text": [
            "INFO - {'loss': 42.78761672973633, 'step': 4601.0}\n"
          ],
          "name": "stderr"
        },
        {
          "output_type": "stream",
          "text": [
            "test_iter\n"
          ],
          "name": "stdout"
        },
        {
          "output_type": "stream",
          "text": [
            "INFO - {'loss': 48.94349670410156, 'step': 4601.0}\n",
            "INFO - {'loss': 41.100486755371094, 'step': 4650.0, 'steps_per_sec': 1.9242488504524566}\n",
            "INFO - {'loss': 38.921504974365234, 'step': 4700.0, 'steps_per_sec': 2.895838787952985}\n"
          ],
          "name": "stderr"
        },
        {
          "output_type": "stream",
          "text": [
            "train_iter\n"
          ],
          "name": "stdout"
        },
        {
          "output_type": "stream",
          "text": [
            "INFO - {'loss': 42.81220245361328, 'step': 4701.0}\n"
          ],
          "name": "stderr"
        },
        {
          "output_type": "stream",
          "text": [
            "test_iter\n"
          ],
          "name": "stdout"
        },
        {
          "output_type": "stream",
          "text": [
            "INFO - {'loss': 47.73037338256836, 'step': 4701.0}\n",
            "INFO - {'loss': 42.90693283081055, 'step': 4750.0, 'steps_per_sec': 1.9109904045619734}\n",
            "INFO - {'loss': 41.76177215576172, 'step': 4800.0, 'steps_per_sec': 2.9354527156218593}\n"
          ],
          "name": "stderr"
        },
        {
          "output_type": "stream",
          "text": [
            "train_iter\n"
          ],
          "name": "stdout"
        },
        {
          "output_type": "stream",
          "text": [
            "INFO - {'loss': 44.37120819091797, 'step': 4801.0}\n"
          ],
          "name": "stderr"
        },
        {
          "output_type": "stream",
          "text": [
            "test_iter\n"
          ],
          "name": "stdout"
        },
        {
          "output_type": "stream",
          "text": [
            "INFO - {'loss': 47.71012496948242, 'step': 4801.0}\n",
            "INFO - {'loss': 48.11134338378906, 'step': 4850.0, 'steps_per_sec': 1.9084038722739354}\n",
            "INFO - {'loss': 40.3447151184082, 'step': 4900.0, 'steps_per_sec': 2.920127017014738}\n"
          ],
          "name": "stderr"
        },
        {
          "output_type": "stream",
          "text": [
            "train_iter\n"
          ],
          "name": "stdout"
        },
        {
          "output_type": "stream",
          "text": [
            "INFO - {'loss': 44.455848693847656, 'step': 4901.0}\n"
          ],
          "name": "stderr"
        },
        {
          "output_type": "stream",
          "text": [
            "test_iter\n"
          ],
          "name": "stdout"
        },
        {
          "output_type": "stream",
          "text": [
            "INFO - {'loss': 47.04854965209961, 'step': 4901.0}\n",
            "INFO - {'loss': 45.16898727416992, 'step': 4950.0, 'steps_per_sec': 1.915824026311447}\n",
            "INFO - {'loss': 44.25410079956055, 'step': 5000.0, 'steps_per_sec': 2.895948636416374}\n"
          ],
          "name": "stderr"
        },
        {
          "output_type": "stream",
          "text": [
            "train_iter\n"
          ],
          "name": "stdout"
        },
        {
          "output_type": "stream",
          "text": [
            "INFO - {'loss': 41.94193649291992, 'step': 5001.0}\n"
          ],
          "name": "stderr"
        },
        {
          "output_type": "stream",
          "text": [
            "test_iter\n"
          ],
          "name": "stdout"
        },
        {
          "output_type": "stream",
          "text": [
            "INFO - {'loss': 45.59080123901367, 'step': 5001.0}\n",
            "INFO - {'loss': 41.51155090332031, 'step': 5050.0, 'steps_per_sec': 1.9160537992565556}\n",
            "INFO - {'loss': 33.797943115234375, 'step': 5100.0, 'steps_per_sec': 2.8942877235987465}\n"
          ],
          "name": "stderr"
        },
        {
          "output_type": "stream",
          "text": [
            "train_iter\n"
          ],
          "name": "stdout"
        },
        {
          "output_type": "stream",
          "text": [
            "INFO - {'loss': nan, 'step': 5101.0}\n"
          ],
          "name": "stderr"
        },
        {
          "output_type": "stream",
          "text": [
            "test_iter\n"
          ],
          "name": "stdout"
        },
        {
          "output_type": "stream",
          "text": [
            "INFO - {'loss': 44.02558898925781, 'step': 5101.0}\n",
            "INFO - {'loss': 39.45279312133789, 'step': 5150.0, 'steps_per_sec': 1.9026859469209783}\n",
            "INFO - {'loss': 37.05038833618164, 'step': 5200.0, 'steps_per_sec': 2.9134707986218515}\n"
          ],
          "name": "stderr"
        },
        {
          "output_type": "stream",
          "text": [
            "train_iter\n"
          ],
          "name": "stdout"
        },
        {
          "output_type": "stream",
          "text": [
            "INFO - {'loss': nan, 'step': 5201.0}\n"
          ],
          "name": "stderr"
        },
        {
          "output_type": "stream",
          "text": [
            "test_iter\n"
          ],
          "name": "stdout"
        },
        {
          "output_type": "stream",
          "text": [
            "INFO - {'loss': 44.87673568725586, 'step': 5201.0}\n",
            "INFO - {'loss': nan, 'step': 5250.0, 'steps_per_sec': 1.914473704089955}\n",
            "INFO - {'loss': nan, 'step': 5300.0, 'steps_per_sec': 2.9321382373475102}\n"
          ],
          "name": "stderr"
        },
        {
          "output_type": "stream",
          "text": [
            "train_iter\n"
          ],
          "name": "stdout"
        },
        {
          "output_type": "stream",
          "text": [
            "INFO - {'loss': nan, 'step': 5301.0}\n"
          ],
          "name": "stderr"
        },
        {
          "output_type": "stream",
          "text": [
            "test_iter\n"
          ],
          "name": "stdout"
        },
        {
          "output_type": "stream",
          "text": [
            "INFO - {'loss': 43.64219284057617, 'step': 5301.0}\n",
            "INFO - {'loss': nan, 'step': 5350.0, 'steps_per_sec': 1.9551050362083542}\n",
            "INFO - {'loss': nan, 'step': 5400.0, 'steps_per_sec': 3.009114790341456}\n"
          ],
          "name": "stderr"
        },
        {
          "output_type": "stream",
          "text": [
            "train_iter\n"
          ],
          "name": "stdout"
        },
        {
          "output_type": "stream",
          "text": [
            "INFO - {'loss': nan, 'step': 5401.0}\n"
          ],
          "name": "stderr"
        },
        {
          "output_type": "stream",
          "text": [
            "test_iter\n"
          ],
          "name": "stdout"
        },
        {
          "output_type": "stream",
          "text": [
            "INFO - {'loss': 42.689422607421875, 'step': 5401.0}\n",
            "INFO - {'loss': 40.65620422363281, 'step': 5450.0, 'steps_per_sec': 1.9086677570009378}\n",
            "INFO - {'loss': 41.713348388671875, 'step': 5500.0, 'steps_per_sec': 2.903867222160066}\n"
          ],
          "name": "stderr"
        },
        {
          "output_type": "stream",
          "text": [
            "train_iter\n"
          ],
          "name": "stdout"
        },
        {
          "output_type": "stream",
          "text": [
            "INFO - {'loss': 42.02485275268555, 'step': 5501.0}\n"
          ],
          "name": "stderr"
        },
        {
          "output_type": "stream",
          "text": [
            "test_iter\n"
          ],
          "name": "stdout"
        },
        {
          "output_type": "stream",
          "text": [
            "INFO - {'loss': nan, 'step': 5501.0}\n",
            "INFO - {'loss': 43.39373016357422, 'step': 5550.0, 'steps_per_sec': 1.910890438650147}\n",
            "INFO - {'loss': 42.613563537597656, 'step': 5600.0, 'steps_per_sec': 2.8995011850661987}\n"
          ],
          "name": "stderr"
        },
        {
          "output_type": "stream",
          "text": [
            "train_iter\n"
          ],
          "name": "stdout"
        },
        {
          "output_type": "stream",
          "text": [
            "INFO - {'loss': 42.93674087524414, 'step': 5601.0}\n"
          ],
          "name": "stderr"
        },
        {
          "output_type": "stream",
          "text": [
            "test_iter\n"
          ],
          "name": "stdout"
        },
        {
          "output_type": "stream",
          "text": [
            "INFO - {'loss': nan, 'step': 5601.0}\n",
            "INFO - {'loss': 38.716285705566406, 'step': 5650.0, 'steps_per_sec': 1.9214176612137879}\n",
            "INFO - {'loss': 43.054134368896484, 'step': 5700.0, 'steps_per_sec': 2.8952446630233313}\n"
          ],
          "name": "stderr"
        },
        {
          "output_type": "stream",
          "text": [
            "train_iter\n"
          ],
          "name": "stdout"
        },
        {
          "output_type": "stream",
          "text": [
            "INFO - {'loss': 43.36368179321289, 'step': 5701.0}\n"
          ],
          "name": "stderr"
        },
        {
          "output_type": "stream",
          "text": [
            "test_iter\n"
          ],
          "name": "stdout"
        },
        {
          "output_type": "stream",
          "text": [
            "INFO - {'loss': nan, 'step': 5701.0}\n",
            "INFO - {'loss': 41.50654220581055, 'step': 5750.0, 'steps_per_sec': 1.9033883074990015}\n",
            "INFO - {'loss': 42.69249725341797, 'step': 5800.0, 'steps_per_sec': 2.9254911190647452}\n"
          ],
          "name": "stderr"
        },
        {
          "output_type": "stream",
          "text": [
            "train_iter\n"
          ],
          "name": "stdout"
        },
        {
          "output_type": "stream",
          "text": [
            "INFO - {'loss': 41.75910186767578, 'step': 5801.0}\n"
          ],
          "name": "stderr"
        },
        {
          "output_type": "stream",
          "text": [
            "test_iter\n"
          ],
          "name": "stdout"
        },
        {
          "output_type": "stream",
          "text": [
            "INFO - {'loss': nan, 'step': 5801.0}\n",
            "INFO - {'loss': 40.52766036987305, 'step': 5850.0, 'steps_per_sec': 1.9151360873593815}\n",
            "INFO - {'loss': 42.95987319946289, 'step': 5900.0, 'steps_per_sec': 2.899548650284653}\n"
          ],
          "name": "stderr"
        },
        {
          "output_type": "stream",
          "text": [
            "train_iter\n"
          ],
          "name": "stdout"
        },
        {
          "output_type": "stream",
          "text": [
            "INFO - {'loss': 41.59986114501953, 'step': 5901.0}\n"
          ],
          "name": "stderr"
        },
        {
          "output_type": "stream",
          "text": [
            "test_iter\n"
          ],
          "name": "stdout"
        },
        {
          "output_type": "stream",
          "text": [
            "INFO - {'loss': nan, 'step': 5901.0}\n",
            "INFO - {'loss': 42.549842834472656, 'step': 5950.0, 'steps_per_sec': 1.918692475019076}\n",
            "INFO - {'loss': 39.78450012207031, 'step': 6000.0, 'steps_per_sec': 2.896980386902713}\n"
          ],
          "name": "stderr"
        },
        {
          "output_type": "stream",
          "text": [
            "train_iter\n"
          ],
          "name": "stdout"
        },
        {
          "output_type": "stream",
          "text": [
            "INFO - {'loss': 42.24940872192383, 'step': 6001.0}\n"
          ],
          "name": "stderr"
        },
        {
          "output_type": "stream",
          "text": [
            "test_iter\n"
          ],
          "name": "stdout"
        },
        {
          "output_type": "stream",
          "text": [
            "INFO - {'loss': nan, 'step': 6001.0}\n",
            "INFO - {'loss': 41.878997802734375, 'step': 6050.0, 'steps_per_sec': 1.907586124818549}\n",
            "INFO - {'loss': 43.3535041809082, 'step': 6100.0, 'steps_per_sec': 2.9304369989134273}\n"
          ],
          "name": "stderr"
        },
        {
          "output_type": "stream",
          "text": [
            "train_iter\n"
          ],
          "name": "stdout"
        },
        {
          "output_type": "stream",
          "text": [
            "INFO - {'loss': 42.780601501464844, 'step': 6101.0}\n"
          ],
          "name": "stderr"
        },
        {
          "output_type": "stream",
          "text": [
            "test_iter\n"
          ],
          "name": "stdout"
        },
        {
          "output_type": "stream",
          "text": [
            "INFO - {'loss': nan, 'step': 6101.0}\n",
            "INFO - {'loss': 45.11564254760742, 'step': 6150.0, 'steps_per_sec': 1.9062049700805683}\n",
            "INFO - {'loss': 44.054718017578125, 'step': 6200.0, 'steps_per_sec': 2.89866117959606}\n"
          ],
          "name": "stderr"
        },
        {
          "output_type": "stream",
          "text": [
            "train_iter\n"
          ],
          "name": "stdout"
        },
        {
          "output_type": "stream",
          "text": [
            "INFO - {'loss': 42.78004837036133, 'step': 6201.0}\n"
          ],
          "name": "stderr"
        },
        {
          "output_type": "stream",
          "text": [
            "test_iter\n"
          ],
          "name": "stdout"
        },
        {
          "output_type": "stream",
          "text": [
            "INFO - {'loss': nan, 'step': 6201.0}\n",
            "INFO - {'loss': 44.47308349609375, 'step': 6250.0, 'steps_per_sec': 1.9219861246692043}\n",
            "INFO - {'loss': 43.09556579589844, 'step': 6300.0, 'steps_per_sec': 2.9215841244071648}\n"
          ],
          "name": "stderr"
        },
        {
          "output_type": "stream",
          "text": [
            "train_iter\n"
          ],
          "name": "stdout"
        },
        {
          "output_type": "stream",
          "text": [
            "INFO - {'loss': 43.1749153137207, 'step': 6301.0}\n"
          ],
          "name": "stderr"
        },
        {
          "output_type": "stream",
          "text": [
            "test_iter\n"
          ],
          "name": "stdout"
        },
        {
          "output_type": "stream",
          "text": [
            "INFO - {'loss': 41.929344177246094, 'step': 6301.0}\n",
            "INFO - {'loss': 42.47066116333008, 'step': 6350.0, 'steps_per_sec': 1.910250041349316}\n",
            "INFO - {'loss': 41.02192687988281, 'step': 6400.0, 'steps_per_sec': 2.907824270106508}\n"
          ],
          "name": "stderr"
        },
        {
          "output_type": "stream",
          "text": [
            "train_iter\n"
          ],
          "name": "stdout"
        },
        {
          "output_type": "stream",
          "text": [
            "INFO - {'loss': 41.16740798950195, 'step': 6401.0}\n"
          ],
          "name": "stderr"
        },
        {
          "output_type": "stream",
          "text": [
            "test_iter\n"
          ],
          "name": "stdout"
        },
        {
          "output_type": "stream",
          "text": [
            "INFO - {'loss': 42.493743896484375, 'step': 6401.0}\n",
            "INFO - {'loss': 40.79182434082031, 'step': 6450.0, 'steps_per_sec': 1.909975438421436}\n",
            "INFO - {'loss': 36.72982406616211, 'step': 6500.0, 'steps_per_sec': 2.9033828645653585}\n"
          ],
          "name": "stderr"
        },
        {
          "output_type": "stream",
          "text": [
            "train_iter\n"
          ],
          "name": "stdout"
        },
        {
          "output_type": "stream",
          "text": [
            "INFO - {'loss': nan, 'step': 6501.0}\n"
          ],
          "name": "stderr"
        },
        {
          "output_type": "stream",
          "text": [
            "test_iter\n"
          ],
          "name": "stdout"
        },
        {
          "output_type": "stream",
          "text": [
            "INFO - {'loss': 44.803035736083984, 'step': 6501.0}\n",
            "INFO - {'loss': 40.649227142333984, 'step': 6550.0, 'steps_per_sec': 1.9115668098685263}\n",
            "INFO - {'loss': 40.257659912109375, 'step': 6600.0, 'steps_per_sec': 2.90319082260608}\n"
          ],
          "name": "stderr"
        },
        {
          "output_type": "stream",
          "text": [
            "train_iter\n"
          ],
          "name": "stdout"
        },
        {
          "output_type": "stream",
          "text": [
            "INFO - {'loss': nan, 'step': 6601.0}\n"
          ],
          "name": "stderr"
        },
        {
          "output_type": "stream",
          "text": [
            "test_iter\n"
          ],
          "name": "stdout"
        },
        {
          "output_type": "stream",
          "text": [
            "INFO - {'loss': 46.8109130859375, 'step': 6601.0}\n",
            "INFO - {'loss': 38.7513542175293, 'step': 6650.0, 'steps_per_sec': 1.90383143498088}\n",
            "INFO - {'loss': 41.65616989135742, 'step': 6700.0, 'steps_per_sec': 2.8991278916255423}\n"
          ],
          "name": "stderr"
        },
        {
          "output_type": "stream",
          "text": [
            "train_iter\n"
          ],
          "name": "stdout"
        },
        {
          "output_type": "stream",
          "text": [
            "INFO - {'loss': 42.481136322021484, 'step': 6701.0}\n"
          ],
          "name": "stderr"
        },
        {
          "output_type": "stream",
          "text": [
            "test_iter\n"
          ],
          "name": "stdout"
        },
        {
          "output_type": "stream",
          "text": [
            "INFO - {'loss': 45.42902374267578, 'step': 6701.0}\n",
            "INFO - {'loss': 44.18421173095703, 'step': 6750.0, 'steps_per_sec': 1.913246167460439}\n",
            "INFO - {'loss': 42.00241470336914, 'step': 6800.0, 'steps_per_sec': 2.91235341748235}\n"
          ],
          "name": "stderr"
        },
        {
          "output_type": "stream",
          "text": [
            "train_iter\n"
          ],
          "name": "stdout"
        },
        {
          "output_type": "stream",
          "text": [
            "INFO - {'loss': 43.3950080871582, 'step': 6801.0}\n"
          ],
          "name": "stderr"
        },
        {
          "output_type": "stream",
          "text": [
            "test_iter\n"
          ],
          "name": "stdout"
        },
        {
          "output_type": "stream",
          "text": [
            "INFO - {'loss': 46.21148681640625, 'step': 6801.0}\n",
            "INFO - {'loss': 43.567481994628906, 'step': 6850.0, 'steps_per_sec': 1.9171068173895223}\n",
            "INFO - {'loss': 43.91524887084961, 'step': 6900.0, 'steps_per_sec': 2.9236916849431784}\n"
          ],
          "name": "stderr"
        },
        {
          "output_type": "stream",
          "text": [
            "train_iter\n"
          ],
          "name": "stdout"
        },
        {
          "output_type": "stream",
          "text": [
            "INFO - {'loss': 43.80186462402344, 'step': 6901.0}\n"
          ],
          "name": "stderr"
        },
        {
          "output_type": "stream",
          "text": [
            "test_iter\n"
          ],
          "name": "stdout"
        },
        {
          "output_type": "stream",
          "text": [
            "INFO - {'loss': 46.90455627441406, 'step': 6901.0}\n",
            "INFO - {'loss': 43.700965881347656, 'step': 6950.0, 'steps_per_sec': 1.9239900658115625}\n",
            "INFO - {'loss': 41.638675689697266, 'step': 7000.0, 'steps_per_sec': 2.9258607828452794}\n"
          ],
          "name": "stderr"
        },
        {
          "output_type": "stream",
          "text": [
            "train_iter\n"
          ],
          "name": "stdout"
        },
        {
          "output_type": "stream",
          "text": [
            "INFO - {'loss': 42.69174575805664, 'step': 7001.0}\n"
          ],
          "name": "stderr"
        },
        {
          "output_type": "stream",
          "text": [
            "test_iter\n"
          ],
          "name": "stdout"
        },
        {
          "output_type": "stream",
          "text": [
            "INFO - {'loss': 46.354618072509766, 'step': 7001.0}\n",
            "INFO - {'loss': 45.07326126098633, 'step': 7050.0, 'steps_per_sec': 1.9233199396999903}\n",
            "INFO - {'loss': 40.92539978027344, 'step': 7100.0, 'steps_per_sec': 2.9337721315345404}\n"
          ],
          "name": "stderr"
        },
        {
          "output_type": "stream",
          "text": [
            "train_iter\n"
          ],
          "name": "stdout"
        },
        {
          "output_type": "stream",
          "text": [
            "INFO - {'loss': 43.00086212158203, 'step': 7101.0}\n"
          ],
          "name": "stderr"
        },
        {
          "output_type": "stream",
          "text": [
            "test_iter\n"
          ],
          "name": "stdout"
        },
        {
          "output_type": "stream",
          "text": [
            "INFO - {'loss': 46.89564895629883, 'step': 7101.0}\n",
            "INFO - {'loss': 41.16526412963867, 'step': 7150.0, 'steps_per_sec': 1.910117740523456}\n",
            "INFO - {'loss': 43.055702209472656, 'step': 7200.0, 'steps_per_sec': 2.8990087449580155}\n"
          ],
          "name": "stderr"
        },
        {
          "output_type": "stream",
          "text": [
            "train_iter\n"
          ],
          "name": "stdout"
        },
        {
          "output_type": "stream",
          "text": [
            "INFO - {'loss': 43.38679122924805, 'step': 7201.0}\n"
          ],
          "name": "stderr"
        },
        {
          "output_type": "stream",
          "text": [
            "test_iter\n"
          ],
          "name": "stdout"
        },
        {
          "output_type": "stream",
          "text": [
            "INFO - {'loss': 45.66745376586914, 'step': 7201.0}\n",
            "INFO - {'loss': 42.39414978027344, 'step': 7250.0, 'steps_per_sec': 1.9252846501928715}\n",
            "INFO - {'loss': 43.740150451660156, 'step': 7300.0, 'steps_per_sec': 2.930742340542279}\n"
          ],
          "name": "stderr"
        },
        {
          "output_type": "stream",
          "text": [
            "train_iter\n"
          ],
          "name": "stdout"
        },
        {
          "output_type": "stream",
          "text": [
            "INFO - {'loss': 43.29266357421875, 'step': 7301.0}\n"
          ],
          "name": "stderr"
        },
        {
          "output_type": "stream",
          "text": [
            "test_iter\n"
          ],
          "name": "stdout"
        },
        {
          "output_type": "stream",
          "text": [
            "INFO - {'loss': 46.32268142700195, 'step': 7301.0}\n",
            "INFO - {'loss': 42.65601348876953, 'step': 7350.0, 'steps_per_sec': 1.9028743515066833}\n",
            "INFO - {'loss': 43.63433837890625, 'step': 7400.0, 'steps_per_sec': 2.9095360394977865}\n"
          ],
          "name": "stderr"
        },
        {
          "output_type": "stream",
          "text": [
            "train_iter\n"
          ],
          "name": "stdout"
        },
        {
          "output_type": "stream",
          "text": [
            "INFO - {'loss': 43.0657844543457, 'step': 7401.0}\n"
          ],
          "name": "stderr"
        },
        {
          "output_type": "stream",
          "text": [
            "test_iter\n"
          ],
          "name": "stdout"
        },
        {
          "output_type": "stream",
          "text": [
            "INFO - {'loss': 45.99592590332031, 'step': 7401.0}\n",
            "INFO - {'loss': 41.04844665527344, 'step': 7450.0, 'steps_per_sec': 1.921237535420536}\n",
            "INFO - {'loss': 42.05272674560547, 'step': 7500.0, 'steps_per_sec': 2.9242083673594768}\n"
          ],
          "name": "stderr"
        },
        {
          "output_type": "stream",
          "text": [
            "train_iter\n"
          ],
          "name": "stdout"
        },
        {
          "output_type": "stream",
          "text": [
            "INFO - {'loss': 41.73056411743164, 'step': 7501.0}\n"
          ],
          "name": "stderr"
        },
        {
          "output_type": "stream",
          "text": [
            "test_iter\n"
          ],
          "name": "stdout"
        },
        {
          "output_type": "stream",
          "text": [
            "INFO - {'loss': 46.31340408325195, 'step': 7501.0}\n",
            "INFO - {'loss': 37.61344528198242, 'step': 7550.0, 'steps_per_sec': 1.907845149295484}\n",
            "INFO - {'loss': 39.437530517578125, 'step': 7600.0, 'steps_per_sec': 2.890919918885867}\n"
          ],
          "name": "stderr"
        },
        {
          "output_type": "stream",
          "text": [
            "train_iter\n"
          ],
          "name": "stdout"
        },
        {
          "output_type": "stream",
          "text": [
            "INFO - {'loss': 37.86088943481445, 'step': 7601.0}\n"
          ],
          "name": "stderr"
        },
        {
          "output_type": "stream",
          "text": [
            "test_iter\n"
          ],
          "name": "stdout"
        },
        {
          "output_type": "stream",
          "text": [
            "INFO - {'loss': 46.02984619140625, 'step': 7601.0}\n",
            "INFO - {'loss': 39.14727020263672, 'step': 7650.0, 'steps_per_sec': 1.9035595035622483}\n",
            "INFO - {'loss': 42.227691650390625, 'step': 7700.0, 'steps_per_sec': 2.9027819840689375}\n"
          ],
          "name": "stderr"
        },
        {
          "output_type": "stream",
          "text": [
            "train_iter\n"
          ],
          "name": "stdout"
        },
        {
          "output_type": "stream",
          "text": [
            "INFO - {'loss': 41.78963851928711, 'step': 7701.0}\n"
          ],
          "name": "stderr"
        },
        {
          "output_type": "stream",
          "text": [
            "test_iter\n"
          ],
          "name": "stdout"
        },
        {
          "output_type": "stream",
          "text": [
            "INFO - {'loss': 47.06520080566406, 'step': 7701.0}\n",
            "INFO - {'loss': 41.58122634887695, 'step': 7750.0, 'steps_per_sec': 1.918044154547997}\n",
            "INFO - {'loss': 41.879459381103516, 'step': 7800.0, 'steps_per_sec': 2.9261717858147827}\n"
          ],
          "name": "stderr"
        },
        {
          "output_type": "stream",
          "text": [
            "train_iter\n"
          ],
          "name": "stdout"
        },
        {
          "output_type": "stream",
          "text": [
            "INFO - {'loss': 42.622352600097656, 'step': 7801.0}\n"
          ],
          "name": "stderr"
        },
        {
          "output_type": "stream",
          "text": [
            "test_iter\n"
          ],
          "name": "stdout"
        },
        {
          "output_type": "stream",
          "text": [
            "INFO - {'loss': 44.92652893066406, 'step': 7801.0}\n",
            "INFO - {'loss': 43.09738540649414, 'step': 7850.0, 'steps_per_sec': 1.9188138172652527}\n",
            "INFO - {'loss': 43.497554779052734, 'step': 7900.0, 'steps_per_sec': 2.9194725690327608}\n"
          ],
          "name": "stderr"
        },
        {
          "output_type": "stream",
          "text": [
            "train_iter\n"
          ],
          "name": "stdout"
        },
        {
          "output_type": "stream",
          "text": [
            "INFO - {'loss': 42.95303726196289, 'step': 7901.0}\n"
          ],
          "name": "stderr"
        },
        {
          "output_type": "stream",
          "text": [
            "test_iter\n"
          ],
          "name": "stdout"
        },
        {
          "output_type": "stream",
          "text": [
            "INFO - {'loss': 43.72269058227539, 'step': 7901.0}\n",
            "INFO - {'loss': 40.01701354980469, 'step': 7950.0, 'steps_per_sec': 1.913256221406727}\n",
            "INFO - {'loss': 42.653507232666016, 'step': 8000.0, 'steps_per_sec': 2.9178989327817266}\n"
          ],
          "name": "stderr"
        },
        {
          "output_type": "stream",
          "text": [
            "train_iter\n"
          ],
          "name": "stdout"
        },
        {
          "output_type": "stream",
          "text": [
            "INFO - {'loss': 43.79194259643555, 'step': 8001.0}\n"
          ],
          "name": "stderr"
        },
        {
          "output_type": "stream",
          "text": [
            "test_iter\n"
          ],
          "name": "stdout"
        },
        {
          "output_type": "stream",
          "text": [
            "INFO - {'loss': 43.37964630126953, 'step': 8001.0}\n",
            "INFO - {'loss': 39.46098327636719, 'step': 8050.0, 'steps_per_sec': 1.9154578723156443}\n",
            "INFO - {'loss': 40.45963668823242, 'step': 8100.0, 'steps_per_sec': 2.9188230454899493}\n"
          ],
          "name": "stderr"
        },
        {
          "output_type": "stream",
          "text": [
            "train_iter\n"
          ],
          "name": "stdout"
        },
        {
          "output_type": "stream",
          "text": [
            "INFO - {'loss': 43.67887496948242, 'step': 8101.0}\n"
          ],
          "name": "stderr"
        },
        {
          "output_type": "stream",
          "text": [
            "test_iter\n"
          ],
          "name": "stdout"
        },
        {
          "output_type": "stream",
          "text": [
            "INFO - {'loss': nan, 'step': 8101.0}\n",
            "INFO - {'loss': 41.819847106933594, 'step': 8150.0, 'steps_per_sec': 1.9185766945579321}\n",
            "INFO - {'loss': 45.18913650512695, 'step': 8200.0, 'steps_per_sec': 2.9292712170404576}\n"
          ],
          "name": "stderr"
        },
        {
          "output_type": "stream",
          "text": [
            "train_iter\n"
          ],
          "name": "stdout"
        },
        {
          "output_type": "stream",
          "text": [
            "INFO - {'loss': 43.80169677734375, 'step': 8201.0}\n"
          ],
          "name": "stderr"
        },
        {
          "output_type": "stream",
          "text": [
            "test_iter\n"
          ],
          "name": "stdout"
        },
        {
          "output_type": "stream",
          "text": [
            "INFO - {'loss': nan, 'step': 8201.0}\n",
            "INFO - {'loss': 48.83704376220703, 'step': 8250.0, 'steps_per_sec': 1.9174601903268174}\n",
            "INFO - {'loss': 44.94855880737305, 'step': 8300.0, 'steps_per_sec': 2.914165644038192}\n"
          ],
          "name": "stderr"
        },
        {
          "output_type": "stream",
          "text": [
            "train_iter\n"
          ],
          "name": "stdout"
        },
        {
          "output_type": "stream",
          "text": [
            "INFO - {'loss': 42.85651779174805, 'step': 8301.0}\n"
          ],
          "name": "stderr"
        },
        {
          "output_type": "stream",
          "text": [
            "test_iter\n"
          ],
          "name": "stdout"
        },
        {
          "output_type": "stream",
          "text": [
            "INFO - {'loss': nan, 'step': 8301.0}\n",
            "INFO - {'loss': 45.29500198364258, 'step': 8350.0, 'steps_per_sec': 1.9124723831007329}\n",
            "INFO - {'loss': 41.79629898071289, 'step': 8400.0, 'steps_per_sec': 2.91586761880479}\n"
          ],
          "name": "stderr"
        },
        {
          "output_type": "stream",
          "text": [
            "train_iter\n"
          ],
          "name": "stdout"
        },
        {
          "output_type": "stream",
          "text": [
            "INFO - {'loss': 42.24061965942383, 'step': 8401.0}\n"
          ],
          "name": "stderr"
        },
        {
          "output_type": "stream",
          "text": [
            "test_iter\n"
          ],
          "name": "stdout"
        },
        {
          "output_type": "stream",
          "text": [
            "INFO - {'loss': 41.1810188293457, 'step': 8401.0}\n",
            "INFO - {'loss': 44.87767791748047, 'step': 8450.0, 'steps_per_sec': 1.9113422402778062}\n",
            "INFO - {'loss': 38.73863983154297, 'step': 8500.0, 'steps_per_sec': 2.912719161543238}\n"
          ],
          "name": "stderr"
        },
        {
          "output_type": "stream",
          "text": [
            "train_iter\n"
          ],
          "name": "stdout"
        },
        {
          "output_type": "stream",
          "text": [
            "INFO - {'loss': 43.0115852355957, 'step': 8501.0}\n"
          ],
          "name": "stderr"
        },
        {
          "output_type": "stream",
          "text": [
            "test_iter\n"
          ],
          "name": "stdout"
        },
        {
          "output_type": "stream",
          "text": [
            "INFO - {'loss': 41.67074966430664, 'step': 8501.0}\n",
            "INFO - {'loss': 41.20290756225586, 'step': 8550.0, 'steps_per_sec': 1.9128973993467941}\n",
            "INFO - {'loss': 39.98533248901367, 'step': 8600.0, 'steps_per_sec': 2.905361031927174}\n"
          ],
          "name": "stderr"
        },
        {
          "output_type": "stream",
          "text": [
            "train_iter\n"
          ],
          "name": "stdout"
        },
        {
          "output_type": "stream",
          "text": [
            "INFO - {'loss': 41.13554763793945, 'step': 8601.0}\n"
          ],
          "name": "stderr"
        },
        {
          "output_type": "stream",
          "text": [
            "test_iter\n"
          ],
          "name": "stdout"
        },
        {
          "output_type": "stream",
          "text": [
            "INFO - {'loss': 43.774349212646484, 'step': 8601.0}\n",
            "INFO - {'loss': 41.59121322631836, 'step': 8650.0, 'steps_per_sec': 1.9088583385072206}\n",
            "INFO - {'loss': 41.71717834472656, 'step': 8700.0, 'steps_per_sec': 2.922706198004303}\n"
          ],
          "name": "stderr"
        },
        {
          "output_type": "stream",
          "text": [
            "train_iter\n"
          ],
          "name": "stdout"
        },
        {
          "output_type": "stream",
          "text": [
            "INFO - {'loss': 41.8544807434082, 'step': 8701.0}\n"
          ],
          "name": "stderr"
        },
        {
          "output_type": "stream",
          "text": [
            "test_iter\n"
          ],
          "name": "stdout"
        },
        {
          "output_type": "stream",
          "text": [
            "INFO - {'loss': 45.5235595703125, 'step': 8701.0}\n",
            "INFO - {'loss': 42.24711608886719, 'step': 8750.0, 'steps_per_sec': 1.9258142688325246}\n",
            "INFO - {'loss': 45.85239028930664, 'step': 8800.0, 'steps_per_sec': 2.9314094728599325}\n"
          ],
          "name": "stderr"
        },
        {
          "output_type": "stream",
          "text": [
            "train_iter\n"
          ],
          "name": "stdout"
        },
        {
          "output_type": "stream",
          "text": [
            "INFO - {'loss': 43.71626281738281, 'step': 8801.0}\n"
          ],
          "name": "stderr"
        },
        {
          "output_type": "stream",
          "text": [
            "test_iter\n"
          ],
          "name": "stdout"
        },
        {
          "output_type": "stream",
          "text": [
            "INFO - {'loss': 45.38042068481445, 'step': 8801.0}\n",
            "INFO - {'loss': 38.08245086669922, 'step': 8850.0, 'steps_per_sec': 1.913090048122632}\n",
            "INFO - {'loss': 42.160587310791016, 'step': 8900.0, 'steps_per_sec': 2.9128973342559665}\n"
          ],
          "name": "stderr"
        },
        {
          "output_type": "stream",
          "text": [
            "train_iter\n"
          ],
          "name": "stdout"
        },
        {
          "output_type": "stream",
          "text": [
            "INFO - {'loss': 43.166770935058594, 'step': 8901.0}\n"
          ],
          "name": "stderr"
        },
        {
          "output_type": "stream",
          "text": [
            "test_iter\n"
          ],
          "name": "stdout"
        },
        {
          "output_type": "stream",
          "text": [
            "INFO - {'loss': 45.66810989379883, 'step': 8901.0}\n",
            "INFO - {'loss': 41.63125228881836, 'step': 8950.0, 'steps_per_sec': 1.911966827728548}\n",
            "INFO - {'loss': 42.69779586791992, 'step': 9000.0, 'steps_per_sec': 2.90047144389249}\n"
          ],
          "name": "stderr"
        },
        {
          "output_type": "stream",
          "text": [
            "train_iter\n"
          ],
          "name": "stdout"
        },
        {
          "output_type": "stream",
          "text": [
            "INFO - {'loss': 40.35817337036133, 'step': 9001.0}\n"
          ],
          "name": "stderr"
        },
        {
          "output_type": "stream",
          "text": [
            "test_iter\n"
          ],
          "name": "stdout"
        },
        {
          "output_type": "stream",
          "text": [
            "INFO - {'loss': 44.68458557128906, 'step': 9001.0}\n",
            "INFO - {'loss': 35.07489776611328, 'step': 9050.0, 'steps_per_sec': 1.9040151743640987}\n",
            "INFO - {'loss': 35.18865966796875, 'step': 9100.0, 'steps_per_sec': 2.8980172780063396}\n"
          ],
          "name": "stderr"
        },
        {
          "output_type": "stream",
          "text": [
            "train_iter\n"
          ],
          "name": "stdout"
        },
        {
          "output_type": "stream",
          "text": [
            "INFO - {'loss': nan, 'step': 9101.0}\n"
          ],
          "name": "stderr"
        },
        {
          "output_type": "stream",
          "text": [
            "test_iter\n"
          ],
          "name": "stdout"
        },
        {
          "output_type": "stream",
          "text": [
            "INFO - {'loss': 47.081268310546875, 'step': 9101.0}\n",
            "INFO - {'loss': 36.312416076660156, 'step': 9150.0, 'steps_per_sec': 1.9092764307621772}\n",
            "INFO - {'loss': 35.967533111572266, 'step': 9200.0, 'steps_per_sec': 2.8999281873843405}\n"
          ],
          "name": "stderr"
        },
        {
          "output_type": "stream",
          "text": [
            "train_iter\n"
          ],
          "name": "stdout"
        },
        {
          "output_type": "stream",
          "text": [
            "INFO - {'loss': nan, 'step': 9201.0}\n"
          ],
          "name": "stderr"
        },
        {
          "output_type": "stream",
          "text": [
            "test_iter\n"
          ],
          "name": "stdout"
        },
        {
          "output_type": "stream",
          "text": [
            "INFO - {'loss': 49.84539031982422, 'step': 9201.0}\n",
            "INFO - {'loss': 36.524871826171875, 'step': 9250.0, 'steps_per_sec': 1.9344254072060065}\n",
            "INFO - {'loss': 34.90359878540039, 'step': 9300.0, 'steps_per_sec': 2.9808841807314543}\n"
          ],
          "name": "stderr"
        },
        {
          "output_type": "stream",
          "text": [
            "train_iter\n"
          ],
          "name": "stdout"
        },
        {
          "output_type": "stream",
          "text": [
            "INFO - {'loss': nan, 'step': 9301.0}\n"
          ],
          "name": "stderr"
        },
        {
          "output_type": "stream",
          "text": [
            "test_iter\n"
          ],
          "name": "stdout"
        },
        {
          "output_type": "stream",
          "text": [
            "INFO - {'loss': 48.03727340698242, 'step': 9301.0}\n",
            "INFO - {'loss': nan, 'step': 9350.0, 'steps_per_sec': 1.9511696069740707}\n",
            "INFO - {'loss': 34.07594299316406, 'step': 9400.0, 'steps_per_sec': 3.014537195205051}\n"
          ],
          "name": "stderr"
        },
        {
          "output_type": "stream",
          "text": [
            "train_iter\n"
          ],
          "name": "stdout"
        },
        {
          "output_type": "stream",
          "text": [
            "INFO - {'loss': nan, 'step': 9401.0}\n"
          ],
          "name": "stderr"
        },
        {
          "output_type": "stream",
          "text": [
            "test_iter\n"
          ],
          "name": "stdout"
        },
        {
          "output_type": "stream",
          "text": [
            "INFO - {'loss': 45.16521453857422, 'step': 9401.0}\n",
            "INFO - {'loss': 37.11069869995117, 'step': 9450.0, 'steps_per_sec': 1.9032790131314192}\n",
            "INFO - {'loss': 39.30455017089844, 'step': 9500.0, 'steps_per_sec': 2.8953411152860182}\n"
          ],
          "name": "stderr"
        },
        {
          "output_type": "stream",
          "text": [
            "train_iter\n"
          ],
          "name": "stdout"
        },
        {
          "output_type": "stream",
          "text": [
            "INFO - {'loss': 41.11470031738281, 'step': 9501.0}\n"
          ],
          "name": "stderr"
        },
        {
          "output_type": "stream",
          "text": [
            "test_iter\n"
          ],
          "name": "stdout"
        },
        {
          "output_type": "stream",
          "text": [
            "INFO - {'loss': 40.64223861694336, 'step': 9501.0}\n",
            "INFO - {'loss': 41.279659271240234, 'step': 9550.0, 'steps_per_sec': 1.906920786014149}\n",
            "INFO - {'loss': 44.10678482055664, 'step': 9600.0, 'steps_per_sec': 2.899215544619087}\n"
          ],
          "name": "stderr"
        },
        {
          "output_type": "stream",
          "text": [
            "train_iter\n"
          ],
          "name": "stdout"
        },
        {
          "output_type": "stream",
          "text": [
            "INFO - {'loss': 41.633182525634766, 'step': 9601.0}\n"
          ],
          "name": "stderr"
        },
        {
          "output_type": "stream",
          "text": [
            "test_iter\n"
          ],
          "name": "stdout"
        },
        {
          "output_type": "stream",
          "text": [
            "INFO - {'loss': 39.62590408325195, 'step': 9601.0}\n",
            "INFO - {'loss': 42.112178802490234, 'step': 9650.0, 'steps_per_sec': 1.9043709828641644}\n",
            "INFO - {'loss': 42.828712463378906, 'step': 9700.0, 'steps_per_sec': 2.8960153413337104}\n"
          ],
          "name": "stderr"
        },
        {
          "output_type": "stream",
          "text": [
            "train_iter\n"
          ],
          "name": "stdout"
        },
        {
          "output_type": "stream",
          "text": [
            "INFO - {'loss': 42.39962387084961, 'step': 9701.0}\n"
          ],
          "name": "stderr"
        },
        {
          "output_type": "stream",
          "text": [
            "test_iter\n"
          ],
          "name": "stdout"
        },
        {
          "output_type": "stream",
          "text": [
            "INFO - {'loss': nan, 'step': 9701.0}\n",
            "INFO - {'loss': 43.06867218017578, 'step': 9750.0, 'steps_per_sec': 1.9063180491218827}\n",
            "INFO - {'loss': 40.76962661743164, 'step': 9800.0, 'steps_per_sec': 2.9096827375652095}\n"
          ],
          "name": "stderr"
        },
        {
          "output_type": "stream",
          "text": [
            "train_iter\n"
          ],
          "name": "stdout"
        },
        {
          "output_type": "stream",
          "text": [
            "INFO - {'loss': 41.66377258300781, 'step': 9801.0}\n"
          ],
          "name": "stderr"
        },
        {
          "output_type": "stream",
          "text": [
            "test_iter\n"
          ],
          "name": "stdout"
        },
        {
          "output_type": "stream",
          "text": [
            "INFO - {'loss': nan, 'step': 9801.0}\n",
            "INFO - {'loss': 39.210655212402344, 'step': 9850.0, 'steps_per_sec': 1.9070827329193811}\n",
            "INFO - {'loss': 39.47047805786133, 'step': 9900.0, 'steps_per_sec': 2.91285011879178}\n"
          ],
          "name": "stderr"
        },
        {
          "output_type": "stream",
          "text": [
            "train_iter\n"
          ],
          "name": "stdout"
        },
        {
          "output_type": "stream",
          "text": [
            "INFO - {'loss': 41.14768981933594, 'step': 9901.0}\n"
          ],
          "name": "stderr"
        },
        {
          "output_type": "stream",
          "text": [
            "test_iter\n"
          ],
          "name": "stdout"
        },
        {
          "output_type": "stream",
          "text": [
            "INFO - {'loss': nan, 'step': 9901.0}\n",
            "INFO - {'loss': 40.95880889892578, 'step': 9950.0, 'steps_per_sec': 1.9211948896475375}\n",
            "INFO - {'loss': 40.560646057128906, 'step': 10000.0, 'steps_per_sec': 2.915386464089657}\n"
          ],
          "name": "stderr"
        },
        {
          "output_type": "stream",
          "text": [
            "train_iter\n"
          ],
          "name": "stdout"
        },
        {
          "output_type": "stream",
          "text": [
            "INFO - {'loss': 41.66851806640625, 'step': 10001.0}\n"
          ],
          "name": "stderr"
        },
        {
          "output_type": "stream",
          "text": [
            "test_iter\n"
          ],
          "name": "stdout"
        },
        {
          "output_type": "stream",
          "text": [
            "INFO - {'loss': nan, 'step': 10001.0}\n",
            "INFO - {'loss': 41.1326904296875, 'step': 10050.0, 'steps_per_sec': 1.909843366947692}\n",
            "INFO - {'loss': 40.19345474243164, 'step': 10100.0, 'steps_per_sec': 2.908753832320956}\n"
          ],
          "name": "stderr"
        },
        {
          "output_type": "stream",
          "text": [
            "train_iter\n"
          ],
          "name": "stdout"
        },
        {
          "output_type": "stream",
          "text": [
            "INFO - {'loss': 42.625823974609375, 'step': 10101.0}\n"
          ],
          "name": "stderr"
        },
        {
          "output_type": "stream",
          "text": [
            "test_iter\n"
          ],
          "name": "stdout"
        },
        {
          "output_type": "stream",
          "text": [
            "INFO - {'loss': nan, 'step': 10101.0}\n",
            "INFO - {'loss': 40.396881103515625, 'step': 10150.0, 'steps_per_sec': 1.9106294552100607}\n",
            "INFO - {'loss': 43.76515197753906, 'step': 10200.0, 'steps_per_sec': 2.9128879881428356}\n"
          ],
          "name": "stderr"
        },
        {
          "output_type": "stream",
          "text": [
            "train_iter\n"
          ],
          "name": "stdout"
        },
        {
          "output_type": "stream",
          "text": [
            "INFO - {'loss': 41.71092987060547, 'step': 10201.0}\n"
          ],
          "name": "stderr"
        },
        {
          "output_type": "stream",
          "text": [
            "test_iter\n"
          ],
          "name": "stdout"
        },
        {
          "output_type": "stream",
          "text": [
            "INFO - {'loss': nan, 'step': 10201.0}\n",
            "INFO - {'loss': 43.06443405151367, 'step': 10250.0, 'steps_per_sec': 1.9093963241440333}\n",
            "INFO - {'loss': 42.10060501098633, 'step': 10300.0, 'steps_per_sec': 2.900981154976583}\n"
          ],
          "name": "stderr"
        },
        {
          "output_type": "stream",
          "text": [
            "train_iter\n"
          ],
          "name": "stdout"
        },
        {
          "output_type": "stream",
          "text": [
            "INFO - {'loss': 42.445457458496094, 'step': 10301.0}\n"
          ],
          "name": "stderr"
        },
        {
          "output_type": "stream",
          "text": [
            "test_iter\n"
          ],
          "name": "stdout"
        },
        {
          "output_type": "stream",
          "text": [
            "INFO - {'loss': nan, 'step': 10301.0}\n",
            "INFO - {'loss': 42.97361373901367, 'step': 10350.0, 'steps_per_sec': 1.9141789460743315}\n",
            "INFO - {'loss': 42.48701858520508, 'step': 10400.0, 'steps_per_sec': 2.9117214089161054}\n"
          ],
          "name": "stderr"
        },
        {
          "output_type": "stream",
          "text": [
            "train_iter\n"
          ],
          "name": "stdout"
        },
        {
          "output_type": "stream",
          "text": [
            "INFO - {'loss': 39.39496612548828, 'step': 10401.0}\n"
          ],
          "name": "stderr"
        },
        {
          "output_type": "stream",
          "text": [
            "test_iter\n"
          ],
          "name": "stdout"
        },
        {
          "output_type": "stream",
          "text": [
            "INFO - {'loss': nan, 'step': 10401.0}\n",
            "INFO - {'loss': 37.96055603027344, 'step': 10450.0, 'steps_per_sec': 1.9060359483408447}\n",
            "INFO - {'loss': 45.965091705322266, 'step': 10500.0, 'steps_per_sec': 2.8972189170179354}\n"
          ],
          "name": "stderr"
        },
        {
          "output_type": "stream",
          "text": [
            "train_iter\n"
          ],
          "name": "stdout"
        },
        {
          "output_type": "stream",
          "text": [
            "INFO - {'loss': nan, 'step': 10501.0}\n"
          ],
          "name": "stderr"
        },
        {
          "output_type": "stream",
          "text": [
            "test_iter\n"
          ],
          "name": "stdout"
        },
        {
          "output_type": "stream",
          "text": [
            "INFO - {'loss': 45.66254425048828, 'step': 10501.0}\n",
            "INFO - {'loss': 36.42990493774414, 'step': 10550.0, 'steps_per_sec': 1.9044161189612057}\n",
            "INFO - {'loss': 39.45760726928711, 'step': 10600.0, 'steps_per_sec': 2.9016026879207426}\n"
          ],
          "name": "stderr"
        },
        {
          "output_type": "stream",
          "text": [
            "train_iter\n"
          ],
          "name": "stdout"
        },
        {
          "output_type": "stream",
          "text": [
            "INFO - {'loss': 39.89349365234375, 'step': 10601.0}\n"
          ],
          "name": "stderr"
        },
        {
          "output_type": "stream",
          "text": [
            "test_iter\n"
          ],
          "name": "stdout"
        },
        {
          "output_type": "stream",
          "text": [
            "INFO - {'loss': 45.96453857421875, 'step': 10601.0}\n",
            "INFO - {'loss': 41.84857940673828, 'step': 10650.0, 'steps_per_sec': 1.9125193516834154}\n",
            "INFO - {'loss': 42.554595947265625, 'step': 10700.0, 'steps_per_sec': 2.907025574717292}\n"
          ],
          "name": "stderr"
        },
        {
          "output_type": "stream",
          "text": [
            "train_iter\n"
          ],
          "name": "stdout"
        },
        {
          "output_type": "stream",
          "text": [
            "INFO - {'loss': 42.05067825317383, 'step': 10701.0}\n"
          ],
          "name": "stderr"
        },
        {
          "output_type": "stream",
          "text": [
            "test_iter\n"
          ],
          "name": "stdout"
        },
        {
          "output_type": "stream",
          "text": [
            "INFO - {'loss': 45.49522018432617, 'step': 10701.0}\n",
            "INFO - {'loss': 43.03400421142578, 'step': 10750.0, 'steps_per_sec': 1.9115339312558493}\n",
            "INFO - {'loss': 41.49079513549805, 'step': 10800.0, 'steps_per_sec': 2.9096537923887587}\n"
          ],
          "name": "stderr"
        },
        {
          "output_type": "stream",
          "text": [
            "train_iter\n"
          ],
          "name": "stdout"
        },
        {
          "output_type": "stream",
          "text": [
            "INFO - {'loss': 42.803489685058594, 'step': 10801.0}\n"
          ],
          "name": "stderr"
        },
        {
          "output_type": "stream",
          "text": [
            "test_iter\n"
          ],
          "name": "stdout"
        },
        {
          "output_type": "stream",
          "text": [
            "INFO - {'loss': 45.01278305053711, 'step': 10801.0}\n",
            "INFO - {'loss': 42.46996307373047, 'step': 10850.0, 'steps_per_sec': 1.9062560844429328}\n",
            "INFO - {'loss': 43.036827087402344, 'step': 10900.0, 'steps_per_sec': 2.905778810745531}\n"
          ],
          "name": "stderr"
        },
        {
          "output_type": "stream",
          "text": [
            "train_iter\n"
          ],
          "name": "stdout"
        },
        {
          "output_type": "stream",
          "text": [
            "INFO - {'loss': 43.157073974609375, 'step': 10901.0}\n"
          ],
          "name": "stderr"
        },
        {
          "output_type": "stream",
          "text": [
            "test_iter\n"
          ],
          "name": "stdout"
        },
        {
          "output_type": "stream",
          "text": [
            "INFO - {'loss': 46.75912094116211, 'step': 10901.0}\n",
            "INFO - {'loss': 42.09865188598633, 'step': 10950.0, 'steps_per_sec': 1.9135517778294733}\n",
            "INFO - {'loss': 41.754486083984375, 'step': 11000.0, 'steps_per_sec': 2.9190125294089726}\n"
          ],
          "name": "stderr"
        },
        {
          "output_type": "stream",
          "text": [
            "train_iter\n"
          ],
          "name": "stdout"
        },
        {
          "output_type": "stream",
          "text": [
            "INFO - {'loss': 41.68128967285156, 'step': 11001.0}\n"
          ],
          "name": "stderr"
        },
        {
          "output_type": "stream",
          "text": [
            "test_iter\n"
          ],
          "name": "stdout"
        },
        {
          "output_type": "stream",
          "text": [
            "INFO - {'loss': 47.983314514160156, 'step': 11001.0}\n",
            "INFO - {'loss': 42.039100646972656, 'step': 11050.0, 'steps_per_sec': 1.9188660138981344}\n",
            "INFO - {'loss': 41.49568176269531, 'step': 11100.0, 'steps_per_sec': 2.899190133923614}\n"
          ],
          "name": "stderr"
        },
        {
          "output_type": "stream",
          "text": [
            "train_iter\n"
          ],
          "name": "stdout"
        },
        {
          "output_type": "stream",
          "text": [
            "INFO - {'loss': 42.4072265625, 'step': 11101.0}\n"
          ],
          "name": "stderr"
        },
        {
          "output_type": "stream",
          "text": [
            "test_iter\n"
          ],
          "name": "stdout"
        },
        {
          "output_type": "stream",
          "text": [
            "INFO - {'loss': 48.216732025146484, 'step': 11101.0}\n",
            "INFO - {'loss': 43.9876594543457, 'step': 11150.0, 'steps_per_sec': 1.9081544186832646}\n",
            "INFO - {'loss': 42.463130950927734, 'step': 11200.0, 'steps_per_sec': 2.9224836121798896}\n"
          ],
          "name": "stderr"
        },
        {
          "output_type": "stream",
          "text": [
            "train_iter\n"
          ],
          "name": "stdout"
        },
        {
          "output_type": "stream",
          "text": [
            "INFO - {'loss': 42.53001022338867, 'step': 11201.0}\n"
          ],
          "name": "stderr"
        },
        {
          "output_type": "stream",
          "text": [
            "test_iter\n"
          ],
          "name": "stdout"
        },
        {
          "output_type": "stream",
          "text": [
            "INFO - {'loss': 48.279842376708984, 'step': 11201.0}\n",
            "INFO - {'loss': 42.84880828857422, 'step': 11250.0, 'steps_per_sec': 1.9151907950674836}\n",
            "INFO - {'loss': 42.37240219116211, 'step': 11300.0, 'steps_per_sec': 2.9111997940846766}\n"
          ],
          "name": "stderr"
        },
        {
          "output_type": "stream",
          "text": [
            "train_iter\n"
          ],
          "name": "stdout"
        },
        {
          "output_type": "stream",
          "text": [
            "INFO - {'loss': 43.41867446899414, 'step': 11301.0}\n"
          ],
          "name": "stderr"
        },
        {
          "output_type": "stream",
          "text": [
            "test_iter\n"
          ],
          "name": "stdout"
        },
        {
          "output_type": "stream",
          "text": [
            "INFO - {'loss': 48.93335723876953, 'step': 11301.0}\n",
            "INFO - {'loss': 42.09077453613281, 'step': 11350.0, 'steps_per_sec': 1.9083644165499056}\n",
            "INFO - {'loss': 44.486080169677734, 'step': 11400.0, 'steps_per_sec': 2.922195095292884}\n"
          ],
          "name": "stderr"
        },
        {
          "output_type": "stream",
          "text": [
            "train_iter\n"
          ],
          "name": "stdout"
        },
        {
          "output_type": "stream",
          "text": [
            "INFO - {'loss': 41.60690689086914, 'step': 11401.0}\n"
          ],
          "name": "stderr"
        },
        {
          "output_type": "stream",
          "text": [
            "test_iter\n"
          ],
          "name": "stdout"
        },
        {
          "output_type": "stream",
          "text": [
            "INFO - {'loss': 47.67498779296875, 'step': 11401.0}\n",
            "INFO - {'loss': 40.16609191894531, 'step': 11450.0, 'steps_per_sec': 1.925124845900198}\n",
            "INFO - {'loss': 39.03874206542969, 'step': 11500.0, 'steps_per_sec': 2.91650714769906}\n"
          ],
          "name": "stderr"
        },
        {
          "output_type": "stream",
          "text": [
            "train_iter\n"
          ],
          "name": "stdout"
        },
        {
          "output_type": "stream",
          "text": [
            "INFO - {'loss': 39.95368957519531, 'step': 11501.0}\n"
          ],
          "name": "stderr"
        },
        {
          "output_type": "stream",
          "text": [
            "test_iter\n"
          ],
          "name": "stdout"
        },
        {
          "output_type": "stream",
          "text": [
            "INFO - {'loss': 47.0865478515625, 'step': 11501.0}\n",
            "INFO - {'loss': 44.94540786743164, 'step': 11550.0, 'steps_per_sec': 0.8777145146939372}\n",
            "INFO - {'loss': 37.07592010498047, 'step': 11600.0, 'steps_per_sec': 2.8386775336595784}\n"
          ],
          "name": "stderr"
        },
        {
          "output_type": "stream",
          "text": [
            "train_iter\n"
          ],
          "name": "stdout"
        },
        {
          "output_type": "stream",
          "text": [
            "INFO - {'loss': 37.935054779052734, 'step': 11601.0}\n"
          ],
          "name": "stderr"
        },
        {
          "output_type": "stream",
          "text": [
            "test_iter\n"
          ],
          "name": "stdout"
        },
        {
          "output_type": "stream",
          "text": [
            "INFO - {'loss': 47.21180725097656, 'step': 11601.0}\n",
            "INFO - {'loss': 40.84163284301758, 'step': 11650.0, 'steps_per_sec': 1.8927752913198301}\n",
            "INFO - {'loss': 39.61128234863281, 'step': 11700.0, 'steps_per_sec': 2.9444613193077993}\n"
          ],
          "name": "stderr"
        },
        {
          "output_type": "stream",
          "text": [
            "train_iter\n"
          ],
          "name": "stdout"
        },
        {
          "output_type": "stream",
          "text": [
            "INFO - {'loss': 41.206565856933594, 'step': 11701.0}\n"
          ],
          "name": "stderr"
        },
        {
          "output_type": "stream",
          "text": [
            "test_iter\n"
          ],
          "name": "stdout"
        },
        {
          "output_type": "stream",
          "text": [
            "INFO - {'loss': 46.79096984863281, 'step': 11701.0}\n",
            "INFO - {'loss': 44.4255485534668, 'step': 11750.0, 'steps_per_sec': 1.9224563004965143}\n",
            "INFO - {'loss': 43.98960494995117, 'step': 11800.0, 'steps_per_sec': 2.8953636204062145}\n"
          ],
          "name": "stderr"
        },
        {
          "output_type": "stream",
          "text": [
            "train_iter\n"
          ],
          "name": "stdout"
        },
        {
          "output_type": "stream",
          "text": [
            "INFO - {'loss': 41.46567153930664, 'step': 11801.0}\n"
          ],
          "name": "stderr"
        },
        {
          "output_type": "stream",
          "text": [
            "test_iter\n"
          ],
          "name": "stdout"
        },
        {
          "output_type": "stream",
          "text": [
            "INFO - {'loss': 45.879364013671875, 'step': 11801.0}\n",
            "INFO - {'loss': 40.2801628112793, 'step': 11850.0, 'steps_per_sec': 1.9103770875722161}\n",
            "INFO - {'loss': 39.67573928833008, 'step': 11900.0, 'steps_per_sec': 2.9224107547623204}\n"
          ],
          "name": "stderr"
        },
        {
          "output_type": "stream",
          "text": [
            "train_iter\n"
          ],
          "name": "stdout"
        },
        {
          "output_type": "stream",
          "text": [
            "INFO - {'loss': 41.40365982055664, 'step': 11901.0}\n"
          ],
          "name": "stderr"
        },
        {
          "output_type": "stream",
          "text": [
            "test_iter\n"
          ],
          "name": "stdout"
        },
        {
          "output_type": "stream",
          "text": [
            "INFO - {'loss': 45.53546905517578, 'step': 11901.0}\n",
            "INFO - {'loss': 43.36305618286133, 'step': 11950.0, 'steps_per_sec': 1.919454840381989}\n",
            "INFO - {'loss': 43.8380012512207, 'step': 12000.0, 'steps_per_sec': 2.8992763076464687}\n"
          ],
          "name": "stderr"
        },
        {
          "output_type": "stream",
          "text": [
            "train_iter\n"
          ],
          "name": "stdout"
        },
        {
          "output_type": "stream",
          "text": [
            "INFO - {'loss': 42.9727783203125, 'step': 12001.0}\n"
          ],
          "name": "stderr"
        },
        {
          "output_type": "stream",
          "text": [
            "test_iter\n"
          ],
          "name": "stdout"
        },
        {
          "output_type": "stream",
          "text": [
            "INFO - {'loss': 45.42583465576172, 'step': 12001.0}\n",
            "INFO - {'loss': 44.566646575927734, 'step': 12050.0, 'steps_per_sec': 1.9038904766202762}\n",
            "INFO - {'loss': 42.67099380493164, 'step': 12100.0, 'steps_per_sec': 2.9188149206575518}\n"
          ],
          "name": "stderr"
        },
        {
          "output_type": "stream",
          "text": [
            "train_iter\n"
          ],
          "name": "stdout"
        },
        {
          "output_type": "stream",
          "text": [
            "INFO - {'loss': 43.18971252441406, 'step': 12101.0}\n"
          ],
          "name": "stderr"
        },
        {
          "output_type": "stream",
          "text": [
            "test_iter\n"
          ],
          "name": "stdout"
        },
        {
          "output_type": "stream",
          "text": [
            "INFO - {'loss': 44.66875076293945, 'step': 12101.0}\n",
            "INFO - {'loss': 42.64747619628906, 'step': 12150.0, 'steps_per_sec': 1.917787965489854}\n",
            "INFO - {'loss': 43.07937240600586, 'step': 12200.0, 'steps_per_sec': 2.895686045659243}\n"
          ],
          "name": "stderr"
        },
        {
          "output_type": "stream",
          "text": [
            "train_iter\n"
          ],
          "name": "stdout"
        },
        {
          "output_type": "stream",
          "text": [
            "INFO - {'loss': 43.269287109375, 'step': 12201.0}\n"
          ],
          "name": "stderr"
        },
        {
          "output_type": "stream",
          "text": [
            "test_iter\n"
          ],
          "name": "stdout"
        },
        {
          "output_type": "stream",
          "text": [
            "INFO - {'loss': 44.867523193359375, 'step': 12201.0}\n",
            "INFO - {'loss': 41.44600296020508, 'step': 12250.0, 'steps_per_sec': 1.9027029679225624}\n",
            "INFO - {'loss': 42.910667419433594, 'step': 12300.0, 'steps_per_sec': 2.90539266909372}\n"
          ],
          "name": "stderr"
        },
        {
          "output_type": "stream",
          "text": [
            "train_iter\n"
          ],
          "name": "stdout"
        },
        {
          "output_type": "stream",
          "text": [
            "INFO - {'loss': 42.22218704223633, 'step': 12301.0}\n"
          ],
          "name": "stderr"
        },
        {
          "output_type": "stream",
          "text": [
            "test_iter\n"
          ],
          "name": "stdout"
        },
        {
          "output_type": "stream",
          "text": [
            "INFO - {'loss': 45.07826232910156, 'step': 12301.0}\n",
            "INFO - {'loss': 43.425384521484375, 'step': 12350.0, 'steps_per_sec': 1.9157321990633451}\n",
            "INFO - {'loss': 41.933170318603516, 'step': 12400.0, 'steps_per_sec': 2.917004252633873}\n"
          ],
          "name": "stderr"
        },
        {
          "output_type": "stream",
          "text": [
            "train_iter\n"
          ],
          "name": "stdout"
        },
        {
          "output_type": "stream",
          "text": [
            "INFO - {'loss': 42.08445739746094, 'step': 12401.0}\n"
          ],
          "name": "stderr"
        },
        {
          "output_type": "stream",
          "text": [
            "test_iter\n"
          ],
          "name": "stdout"
        },
        {
          "output_type": "stream",
          "text": [
            "INFO - {'loss': 44.85964584350586, 'step': 12401.0}\n",
            "INFO - {'loss': 42.20650863647461, 'step': 12450.0, 'steps_per_sec': 1.915207305936073}\n",
            "INFO - {'loss': 40.27374267578125, 'step': 12500.0, 'steps_per_sec': 2.9170562689971344}\n"
          ],
          "name": "stderr"
        },
        {
          "output_type": "stream",
          "text": [
            "train_iter\n"
          ],
          "name": "stdout"
        },
        {
          "output_type": "stream",
          "text": [
            "INFO - {'loss': 41.601409912109375, 'step': 12501.0}\n"
          ],
          "name": "stderr"
        },
        {
          "output_type": "stream",
          "text": [
            "test_iter\n"
          ],
          "name": "stdout"
        },
        {
          "output_type": "stream",
          "text": [
            "INFO - {'loss': 44.79907989501953, 'step': 12501.0}\n",
            "INFO - {'loss': 40.61079406738281, 'step': 12550.0, 'steps_per_sec': 1.9174106822242463}\n",
            "INFO - {'loss': 40.422691345214844, 'step': 12600.0, 'steps_per_sec': 2.9172399640864684}\n"
          ],
          "name": "stderr"
        },
        {
          "output_type": "stream",
          "text": [
            "train_iter\n"
          ],
          "name": "stdout"
        },
        {
          "output_type": "stream",
          "text": [
            "INFO - {'loss': 41.30198287963867, 'step': 12601.0}\n"
          ],
          "name": "stderr"
        },
        {
          "output_type": "stream",
          "text": [
            "test_iter\n"
          ],
          "name": "stdout"
        },
        {
          "output_type": "stream",
          "text": [
            "INFO - {'loss': 45.56772994995117, 'step': 12601.0}\n",
            "INFO - {'loss': 40.10163497924805, 'step': 12650.0, 'steps_per_sec': 1.9048663691851038}\n",
            "INFO - {'loss': 40.89434814453125, 'step': 12700.0, 'steps_per_sec': 2.9197880691014317}\n"
          ],
          "name": "stderr"
        },
        {
          "output_type": "stream",
          "text": [
            "train_iter\n"
          ],
          "name": "stdout"
        },
        {
          "output_type": "stream",
          "text": [
            "INFO - {'loss': 42.36274337768555, 'step': 12701.0}\n"
          ],
          "name": "stderr"
        },
        {
          "output_type": "stream",
          "text": [
            "test_iter\n"
          ],
          "name": "stdout"
        },
        {
          "output_type": "stream",
          "text": [
            "INFO - {'loss': 46.05132293701172, 'step': 12701.0}\n",
            "INFO - {'loss': 42.23227310180664, 'step': 12750.0, 'steps_per_sec': 1.9221427656647108}\n",
            "INFO - {'loss': 40.72306823730469, 'step': 12800.0, 'steps_per_sec': 2.9317618625697484}\n"
          ],
          "name": "stderr"
        },
        {
          "output_type": "stream",
          "text": [
            "train_iter\n"
          ],
          "name": "stdout"
        },
        {
          "output_type": "stream",
          "text": [
            "INFO - {'loss': 42.75560760498047, 'step': 12801.0}\n"
          ],
          "name": "stderr"
        },
        {
          "output_type": "stream",
          "text": [
            "test_iter\n"
          ],
          "name": "stdout"
        },
        {
          "output_type": "stream",
          "text": [
            "INFO - {'loss': 45.696434020996094, 'step': 12801.0}\n",
            "INFO - {'loss': 40.02342987060547, 'step': 12850.0, 'steps_per_sec': 1.9132356074396608}\n",
            "INFO - {'loss': 44.340484619140625, 'step': 12900.0, 'steps_per_sec': 2.907265560444269}\n"
          ],
          "name": "stderr"
        },
        {
          "output_type": "stream",
          "text": [
            "train_iter\n"
          ],
          "name": "stdout"
        },
        {
          "output_type": "stream",
          "text": [
            "INFO - {'loss': 42.54033279418945, 'step': 12901.0}\n"
          ],
          "name": "stderr"
        },
        {
          "output_type": "stream",
          "text": [
            "test_iter\n"
          ],
          "name": "stdout"
        },
        {
          "output_type": "stream",
          "text": [
            "INFO - {'loss': 45.62099838256836, 'step': 12901.0}\n",
            "INFO - {'loss': 40.34148406982422, 'step': 12950.0, 'steps_per_sec': 1.9040880576807706}\n",
            "INFO - {'loss': 39.77920913696289, 'step': 13000.0, 'steps_per_sec': 2.902546072260934}\n"
          ],
          "name": "stderr"
        },
        {
          "output_type": "stream",
          "text": [
            "train_iter\n"
          ],
          "name": "stdout"
        },
        {
          "output_type": "stream",
          "text": [
            "INFO - {'loss': 39.62834167480469, 'step': 13001.0}\n"
          ],
          "name": "stderr"
        },
        {
          "output_type": "stream",
          "text": [
            "test_iter\n"
          ],
          "name": "stdout"
        },
        {
          "output_type": "stream",
          "text": [
            "INFO - {'loss': 46.008445739746094, 'step': 13001.0}\n",
            "INFO - {'loss': 36.98706817626953, 'step': 13050.0, 'steps_per_sec': 1.909901842805124}\n",
            "INFO - {'loss': 38.42164611816406, 'step': 13100.0, 'steps_per_sec': 2.904493814028921}\n"
          ],
          "name": "stderr"
        },
        {
          "output_type": "stream",
          "text": [
            "train_iter\n"
          ],
          "name": "stdout"
        },
        {
          "output_type": "stream",
          "text": [
            "INFO - {'loss': 37.49592971801758, 'step': 13101.0}\n"
          ],
          "name": "stderr"
        },
        {
          "output_type": "stream",
          "text": [
            "test_iter\n"
          ],
          "name": "stdout"
        },
        {
          "output_type": "stream",
          "text": [
            "INFO - {'loss': 47.51698684692383, 'step': 13101.0}\n",
            "INFO - {'loss': 34.47606658935547, 'step': 13150.0, 'steps_per_sec': 1.9106616412284958}\n",
            "INFO - {'loss': 34.30681228637695, 'step': 13200.0, 'steps_per_sec': 2.916640514535423}\n"
          ],
          "name": "stderr"
        },
        {
          "output_type": "stream",
          "text": [
            "train_iter\n"
          ],
          "name": "stdout"
        },
        {
          "output_type": "stream",
          "text": [
            "INFO - {'loss': nan, 'step': 13201.0}\n"
          ],
          "name": "stderr"
        },
        {
          "output_type": "stream",
          "text": [
            "test_iter\n"
          ],
          "name": "stdout"
        },
        {
          "output_type": "stream",
          "text": [
            "INFO - {'loss': 48.08591079711914, 'step': 13201.0}\n",
            "INFO - {'loss': 32.59120178222656, 'step': 13250.0, 'steps_per_sec': 1.9268077974510778}\n",
            "INFO - {'loss': nan, 'step': 13300.0, 'steps_per_sec': 2.950582534608127}\n"
          ],
          "name": "stderr"
        },
        {
          "output_type": "stream",
          "text": [
            "train_iter\n"
          ],
          "name": "stdout"
        },
        {
          "output_type": "stream",
          "text": [
            "INFO - {'loss': nan, 'step': 13301.0}\n"
          ],
          "name": "stderr"
        },
        {
          "output_type": "stream",
          "text": [
            "test_iter\n"
          ],
          "name": "stdout"
        },
        {
          "output_type": "stream",
          "text": [
            "INFO - {'loss': 50.32341384887695, 'step': 13301.0}\n",
            "INFO - {'loss': nan, 'step': 13350.0, 'steps_per_sec': 1.9551717850059487}\n",
            "INFO - {'loss': 40.51777267456055, 'step': 13400.0, 'steps_per_sec': 2.9566315441853686}\n"
          ],
          "name": "stderr"
        },
        {
          "output_type": "stream",
          "text": [
            "train_iter\n"
          ],
          "name": "stdout"
        },
        {
          "output_type": "stream",
          "text": [
            "INFO - {'loss': nan, 'step': 13401.0}\n"
          ],
          "name": "stderr"
        },
        {
          "output_type": "stream",
          "text": [
            "test_iter\n"
          ],
          "name": "stdout"
        },
        {
          "output_type": "stream",
          "text": [
            "INFO - {'loss': 49.70449447631836, 'step': 13401.0}\n",
            "INFO - {'loss': 40.598751068115234, 'step': 13450.0, 'steps_per_sec': 1.9099148012058493}\n",
            "INFO - {'loss': 38.73537826538086, 'step': 13500.0, 'steps_per_sec': 2.906514825186428}\n"
          ],
          "name": "stderr"
        },
        {
          "output_type": "stream",
          "text": [
            "train_iter\n"
          ],
          "name": "stdout"
        },
        {
          "output_type": "stream",
          "text": [
            "INFO - {'loss': 40.81485366821289, 'step': 13501.0}\n"
          ],
          "name": "stderr"
        },
        {
          "output_type": "stream",
          "text": [
            "test_iter\n"
          ],
          "name": "stdout"
        },
        {
          "output_type": "stream",
          "text": [
            "INFO - {'loss': 46.76814651489258, 'step': 13501.0}\n",
            "INFO - {'loss': 43.1212272644043, 'step': 13550.0, 'steps_per_sec': 1.9138209305584133}\n",
            "INFO - {'loss': 37.44583511352539, 'step': 13600.0, 'steps_per_sec': 2.9129095935342484}\n"
          ],
          "name": "stderr"
        },
        {
          "output_type": "stream",
          "text": [
            "train_iter\n"
          ],
          "name": "stdout"
        },
        {
          "output_type": "stream",
          "text": [
            "INFO - {'loss': 41.00600814819336, 'step': 13601.0}\n"
          ],
          "name": "stderr"
        },
        {
          "output_type": "stream",
          "text": [
            "test_iter\n"
          ],
          "name": "stdout"
        },
        {
          "output_type": "stream",
          "text": [
            "INFO - {'loss': 47.12954330444336, 'step': 13601.0}\n",
            "INFO - {'loss': 41.22325134277344, 'step': 13650.0, 'steps_per_sec': 1.9165352811085254}\n",
            "INFO - {'loss': 40.40311813354492, 'step': 13700.0, 'steps_per_sec': 2.9101985588497885}\n"
          ],
          "name": "stderr"
        },
        {
          "output_type": "stream",
          "text": [
            "train_iter\n"
          ],
          "name": "stdout"
        },
        {
          "output_type": "stream",
          "text": [
            "INFO - {'loss': 41.40513610839844, 'step': 13701.0}\n"
          ],
          "name": "stderr"
        },
        {
          "output_type": "stream",
          "text": [
            "test_iter\n"
          ],
          "name": "stdout"
        },
        {
          "output_type": "stream",
          "text": [
            "INFO - {'loss': 47.16289138793945, 'step': 13701.0}\n",
            "INFO - {'loss': 40.254268646240234, 'step': 13750.0, 'steps_per_sec': 1.9057212174464138}\n",
            "INFO - {'loss': 39.70317459106445, 'step': 13800.0, 'steps_per_sec': 2.901100062506774}\n"
          ],
          "name": "stderr"
        },
        {
          "output_type": "stream",
          "text": [
            "train_iter\n"
          ],
          "name": "stdout"
        },
        {
          "output_type": "stream",
          "text": [
            "INFO - {'loss': 40.63311004638672, 'step': 13801.0}\n"
          ],
          "name": "stderr"
        },
        {
          "output_type": "stream",
          "text": [
            "test_iter\n"
          ],
          "name": "stdout"
        },
        {
          "output_type": "stream",
          "text": [
            "INFO - {'loss': 46.460750579833984, 'step': 13801.0}\n",
            "INFO - {'loss': 40.907920837402344, 'step': 13850.0, 'steps_per_sec': 1.9077851852759533}\n",
            "INFO - {'loss': 39.26200866699219, 'step': 13900.0, 'steps_per_sec': 2.9151880492236013}\n"
          ],
          "name": "stderr"
        },
        {
          "output_type": "stream",
          "text": [
            "train_iter\n"
          ],
          "name": "stdout"
        },
        {
          "output_type": "stream",
          "text": [
            "INFO - {'loss': 40.864776611328125, 'step': 13901.0}\n"
          ],
          "name": "stderr"
        },
        {
          "output_type": "stream",
          "text": [
            "test_iter\n"
          ],
          "name": "stdout"
        },
        {
          "output_type": "stream",
          "text": [
            "INFO - {'loss': 46.34469223022461, 'step': 13901.0}\n",
            "INFO - {'loss': 41.227272033691406, 'step': 13950.0, 'steps_per_sec': 1.9186149588405497}\n",
            "INFO - {'loss': 41.746578216552734, 'step': 14000.0, 'steps_per_sec': 2.9276003170681024}\n"
          ],
          "name": "stderr"
        },
        {
          "output_type": "stream",
          "text": [
            "train_iter\n"
          ],
          "name": "stdout"
        },
        {
          "output_type": "stream",
          "text": [
            "INFO - {'loss': 42.593833923339844, 'step': 14001.0}\n"
          ],
          "name": "stderr"
        },
        {
          "output_type": "stream",
          "text": [
            "test_iter\n"
          ],
          "name": "stdout"
        },
        {
          "output_type": "stream",
          "text": [
            "INFO - {'loss': 46.79799270629883, 'step': 14001.0}\n",
            "INFO - {'loss': 39.41630172729492, 'step': 14050.0, 'steps_per_sec': 1.9180274543946343}\n",
            "INFO - {'loss': 44.7402458190918, 'step': 14100.0, 'steps_per_sec': 2.9236877719968764}\n"
          ],
          "name": "stderr"
        },
        {
          "output_type": "stream",
          "text": [
            "train_iter\n"
          ],
          "name": "stdout"
        },
        {
          "output_type": "stream",
          "text": [
            "INFO - {'loss': 41.950496673583984, 'step': 14101.0}\n"
          ],
          "name": "stderr"
        },
        {
          "output_type": "stream",
          "text": [
            "test_iter\n"
          ],
          "name": "stdout"
        },
        {
          "output_type": "stream",
          "text": [
            "INFO - {'loss': 46.076438903808594, 'step': 14101.0}\n",
            "INFO - {'loss': 46.1680793762207, 'step': 14150.0, 'steps_per_sec': 1.9162039594895417}\n",
            "INFO - {'loss': 42.774539947509766, 'step': 14200.0, 'steps_per_sec': 2.8999597865435827}\n"
          ],
          "name": "stderr"
        },
        {
          "output_type": "stream",
          "text": [
            "train_iter\n"
          ],
          "name": "stdout"
        },
        {
          "output_type": "stream",
          "text": [
            "INFO - {'loss': 41.63687515258789, 'step': 14201.0}\n"
          ],
          "name": "stderr"
        },
        {
          "output_type": "stream",
          "text": [
            "test_iter\n"
          ],
          "name": "stdout"
        },
        {
          "output_type": "stream",
          "text": [
            "INFO - {'loss': 44.6132698059082, 'step': 14201.0}\n",
            "INFO - {'loss': 39.19135284423828, 'step': 14250.0, 'steps_per_sec': 1.9074931076681805}\n",
            "INFO - {'loss': 41.34239196777344, 'step': 14300.0, 'steps_per_sec': 2.9098794750619343}\n"
          ],
          "name": "stderr"
        },
        {
          "output_type": "stream",
          "text": [
            "train_iter\n"
          ],
          "name": "stdout"
        },
        {
          "output_type": "stream",
          "text": [
            "INFO - {'loss': 41.56670379638672, 'step': 14301.0}\n"
          ],
          "name": "stderr"
        },
        {
          "output_type": "stream",
          "text": [
            "test_iter\n"
          ],
          "name": "stdout"
        },
        {
          "output_type": "stream",
          "text": [
            "INFO - {'loss': 42.600032806396484, 'step': 14301.0}\n",
            "INFO - {'loss': 38.42363357543945, 'step': 14350.0, 'steps_per_sec': 1.9245513277849766}\n",
            "INFO - {'loss': 36.310848236083984, 'step': 14400.0, 'steps_per_sec': 2.9184521523694564}\n"
          ],
          "name": "stderr"
        },
        {
          "output_type": "stream",
          "text": [
            "train_iter\n"
          ],
          "name": "stdout"
        },
        {
          "output_type": "stream",
          "text": [
            "INFO - {'loss': 38.921600341796875, 'step': 14401.0}\n"
          ],
          "name": "stderr"
        },
        {
          "output_type": "stream",
          "text": [
            "test_iter\n"
          ],
          "name": "stdout"
        },
        {
          "output_type": "stream",
          "text": [
            "INFO - {'loss': 42.498085021972656, 'step': 14401.0}\n",
            "INFO - {'loss': 37.548194885253906, 'step': 14450.0, 'steps_per_sec': 1.8910389985855476}\n",
            "INFO - {'loss': 36.116390228271484, 'step': 14500.0, 'steps_per_sec': 2.9177457218784584}\n"
          ],
          "name": "stderr"
        },
        {
          "output_type": "stream",
          "text": [
            "train_iter\n"
          ],
          "name": "stdout"
        },
        {
          "output_type": "stream",
          "text": [
            "INFO - {'loss': nan, 'step': 14501.0}\n"
          ],
          "name": "stderr"
        },
        {
          "output_type": "stream",
          "text": [
            "test_iter\n"
          ],
          "name": "stdout"
        },
        {
          "output_type": "stream",
          "text": [
            "INFO - {'loss': 40.93248748779297, 'step': 14501.0}\n",
            "INFO - {'loss': 34.44376754760742, 'step': 14550.0, 'steps_per_sec': 1.9299729917233628}\n",
            "INFO - {'loss': 37.255123138427734, 'step': 14600.0, 'steps_per_sec': 2.901700046066857}\n"
          ],
          "name": "stderr"
        },
        {
          "output_type": "stream",
          "text": [
            "train_iter\n"
          ],
          "name": "stdout"
        },
        {
          "output_type": "stream",
          "text": [
            "INFO - {'loss': 39.06471633911133, 'step': 14601.0}\n"
          ],
          "name": "stderr"
        },
        {
          "output_type": "stream",
          "text": [
            "test_iter\n"
          ],
          "name": "stdout"
        },
        {
          "output_type": "stream",
          "text": [
            "INFO - {'loss': 39.91494369506836, 'step': 14601.0}\n",
            "INFO - {'loss': 39.57021713256836, 'step': 14650.0, 'steps_per_sec': 1.9038856888567601}\n",
            "INFO - {'loss': 40.7418212890625, 'step': 14700.0, 'steps_per_sec': 2.899584330399352}\n"
          ],
          "name": "stderr"
        },
        {
          "output_type": "stream",
          "text": [
            "train_iter\n"
          ],
          "name": "stdout"
        },
        {
          "output_type": "stream",
          "text": [
            "INFO - {'loss': 42.35594177246094, 'step': 14701.0}\n"
          ],
          "name": "stderr"
        },
        {
          "output_type": "stream",
          "text": [
            "test_iter\n"
          ],
          "name": "stdout"
        },
        {
          "output_type": "stream",
          "text": [
            "INFO - {'loss': nan, 'step': 14701.0}\n",
            "INFO - {'loss': 43.21830368041992, 'step': 14750.0, 'steps_per_sec': 1.909738668974384}\n",
            "INFO - {'loss': 43.251747131347656, 'step': 14800.0, 'steps_per_sec': 2.9037654566707003}\n"
          ],
          "name": "stderr"
        },
        {
          "output_type": "stream",
          "text": [
            "train_iter\n"
          ],
          "name": "stdout"
        },
        {
          "output_type": "stream",
          "text": [
            "INFO - {'loss': 43.14134979248047, 'step': 14801.0}\n"
          ],
          "name": "stderr"
        },
        {
          "output_type": "stream",
          "text": [
            "test_iter\n"
          ],
          "name": "stdout"
        },
        {
          "output_type": "stream",
          "text": [
            "INFO - {'loss': nan, 'step': 14801.0}\n",
            "INFO - {'loss': 42.22761917114258, 'step': 14850.0, 'steps_per_sec': 1.9194759750922248}\n",
            "INFO - {'loss': 45.67839431762695, 'step': 14900.0, 'steps_per_sec': 2.92425595176468}\n"
          ],
          "name": "stderr"
        },
        {
          "output_type": "stream",
          "text": [
            "train_iter\n"
          ],
          "name": "stdout"
        },
        {
          "output_type": "stream",
          "text": [
            "INFO - {'loss': 42.95273208618164, 'step': 14901.0}\n"
          ],
          "name": "stderr"
        },
        {
          "output_type": "stream",
          "text": [
            "test_iter\n"
          ],
          "name": "stdout"
        },
        {
          "output_type": "stream",
          "text": [
            "INFO - {'loss': 41.72462463378906, 'step': 14901.0}\n",
            "INFO - {'loss': 39.131717681884766, 'step': 14950.0, 'steps_per_sec': 1.9117721917600623}\n",
            "INFO - {'loss': 41.841217041015625, 'step': 15000.0, 'steps_per_sec': 2.916111256334452}\n"
          ],
          "name": "stderr"
        },
        {
          "output_type": "stream",
          "text": [
            "train_iter\n"
          ],
          "name": "stdout"
        },
        {
          "output_type": "stream",
          "text": [
            "INFO - {'loss': 41.76070785522461, 'step': 15001.0}\n"
          ],
          "name": "stderr"
        },
        {
          "output_type": "stream",
          "text": [
            "test_iter\n"
          ],
          "name": "stdout"
        },
        {
          "output_type": "stream",
          "text": [
            "INFO - {'loss': 44.5843505859375, 'step': 15001.0}\n",
            "INFO - {'loss': 41.623104095458984, 'step': 15050.0, 'steps_per_sec': 1.921099203154295}\n",
            "INFO - {'loss': 43.58701705932617, 'step': 15100.0, 'steps_per_sec': 2.9217096929101656}\n"
          ],
          "name": "stderr"
        },
        {
          "output_type": "stream",
          "text": [
            "train_iter\n"
          ],
          "name": "stdout"
        },
        {
          "output_type": "stream",
          "text": [
            "INFO - {'loss': 41.45091247558594, 'step': 15101.0}\n"
          ],
          "name": "stderr"
        },
        {
          "output_type": "stream",
          "text": [
            "test_iter\n"
          ],
          "name": "stdout"
        },
        {
          "output_type": "stream",
          "text": [
            "INFO - {'loss': 45.12105941772461, 'step': 15101.0}\n",
            "INFO - {'loss': 43.86412048339844, 'step': 15150.0, 'steps_per_sec': 1.9133578664538702}\n",
            "INFO - {'loss': 41.05900192260742, 'step': 15200.0, 'steps_per_sec': 2.921305673550075}\n"
          ],
          "name": "stderr"
        },
        {
          "output_type": "stream",
          "text": [
            "train_iter\n"
          ],
          "name": "stdout"
        },
        {
          "output_type": "stream",
          "text": [
            "INFO - {'loss': 42.07640075683594, 'step': 15201.0}\n"
          ],
          "name": "stderr"
        },
        {
          "output_type": "stream",
          "text": [
            "test_iter\n"
          ],
          "name": "stdout"
        },
        {
          "output_type": "stream",
          "text": [
            "INFO - {'loss': 44.41975402832031, 'step': 15201.0}\n",
            "INFO - {'loss': 40.0063362121582, 'step': 15250.0, 'steps_per_sec': 1.919069613171517}\n",
            "INFO - {'loss': 43.66133117675781, 'step': 15300.0, 'steps_per_sec': 2.9264065310985115}\n"
          ],
          "name": "stderr"
        },
        {
          "output_type": "stream",
          "text": [
            "train_iter\n"
          ],
          "name": "stdout"
        },
        {
          "output_type": "stream",
          "text": [
            "INFO - {'loss': 42.34470748901367, 'step': 15301.0}\n"
          ],
          "name": "stderr"
        },
        {
          "output_type": "stream",
          "text": [
            "test_iter\n"
          ],
          "name": "stdout"
        },
        {
          "output_type": "stream",
          "text": [
            "INFO - {'loss': 45.00245666503906, 'step': 15301.0}\n",
            "INFO - {'loss': 40.386566162109375, 'step': 15350.0, 'steps_per_sec': 1.9217048092689064}\n",
            "INFO - {'loss': 41.09630584716797, 'step': 15400.0, 'steps_per_sec': 2.929729748457135}\n"
          ],
          "name": "stderr"
        },
        {
          "output_type": "stream",
          "text": [
            "train_iter\n"
          ],
          "name": "stdout"
        },
        {
          "output_type": "stream",
          "text": [
            "INFO - {'loss': 40.604515075683594, 'step': 15401.0}\n"
          ],
          "name": "stderr"
        },
        {
          "output_type": "stream",
          "text": [
            "test_iter\n"
          ],
          "name": "stdout"
        },
        {
          "output_type": "stream",
          "text": [
            "INFO - {'loss': 45.00289535522461, 'step': 15401.0}\n",
            "INFO - {'loss': 40.359169006347656, 'step': 15450.0, 'steps_per_sec': 1.927615676109623}\n",
            "INFO - {'loss': 39.40147399902344, 'step': 15500.0, 'steps_per_sec': 2.932556412765448}\n"
          ],
          "name": "stderr"
        },
        {
          "output_type": "stream",
          "text": [
            "train_iter\n"
          ],
          "name": "stdout"
        },
        {
          "output_type": "stream",
          "text": [
            "INFO - {'loss': 38.778499603271484, 'step': 15501.0}\n"
          ],
          "name": "stderr"
        },
        {
          "output_type": "stream",
          "text": [
            "test_iter\n"
          ],
          "name": "stdout"
        },
        {
          "output_type": "stream",
          "text": [
            "INFO - {'loss': 45.76841735839844, 'step': 15501.0}\n",
            "INFO - {'loss': 36.84858322143555, 'step': 15550.0, 'steps_per_sec': 1.912436944538661}\n",
            "INFO - {'loss': 38.27912521362305, 'step': 15600.0, 'steps_per_sec': 2.8976274310292376}\n"
          ],
          "name": "stderr"
        },
        {
          "output_type": "stream",
          "text": [
            "train_iter\n"
          ],
          "name": "stdout"
        },
        {
          "output_type": "stream",
          "text": [
            "INFO - {'loss': 39.31209182739258, 'step': 15601.0}\n"
          ],
          "name": "stderr"
        },
        {
          "output_type": "stream",
          "text": [
            "test_iter\n"
          ],
          "name": "stdout"
        },
        {
          "output_type": "stream",
          "text": [
            "INFO - {'loss': 46.318695068359375, 'step': 15601.0}\n",
            "INFO - {'loss': 38.489295959472656, 'step': 15650.0, 'steps_per_sec': 1.906164617660954}\n",
            "INFO - {'loss': 39.0256233215332, 'step': 15700.0, 'steps_per_sec': 2.9158529831984654}\n"
          ],
          "name": "stderr"
        },
        {
          "output_type": "stream",
          "text": [
            "train_iter\n"
          ],
          "name": "stdout"
        },
        {
          "output_type": "stream",
          "text": [
            "INFO - {'loss': 41.11994934082031, 'step': 15701.0}\n"
          ],
          "name": "stderr"
        },
        {
          "output_type": "stream",
          "text": [
            "test_iter\n"
          ],
          "name": "stdout"
        },
        {
          "output_type": "stream",
          "text": [
            "INFO - {'loss': 45.71059036254883, 'step': 15701.0}\n",
            "INFO - {'loss': 40.395408630371094, 'step': 15750.0, 'steps_per_sec': 1.9194732871107265}\n",
            "INFO - {'loss': 44.106239318847656, 'step': 15800.0, 'steps_per_sec': 2.9225740272181597}\n"
          ],
          "name": "stderr"
        },
        {
          "output_type": "stream",
          "text": [
            "train_iter\n"
          ],
          "name": "stdout"
        },
        {
          "output_type": "stream",
          "text": [
            "INFO - {'loss': 41.157352447509766, 'step': 15801.0}\n"
          ],
          "name": "stderr"
        },
        {
          "output_type": "stream",
          "text": [
            "test_iter\n"
          ],
          "name": "stdout"
        },
        {
          "output_type": "stream",
          "text": [
            "INFO - {'loss': 46.33768844604492, 'step': 15801.0}\n",
            "INFO - {'loss': 43.958980560302734, 'step': 15850.0, 'steps_per_sec': 1.9208266624097077}\n",
            "INFO - {'loss': 41.38578796386719, 'step': 15900.0, 'steps_per_sec': 2.9274485784582063}\n"
          ],
          "name": "stderr"
        },
        {
          "output_type": "stream",
          "text": [
            "train_iter\n"
          ],
          "name": "stdout"
        },
        {
          "output_type": "stream",
          "text": [
            "INFO - {'loss': 41.92159652709961, 'step': 15901.0}\n"
          ],
          "name": "stderr"
        },
        {
          "output_type": "stream",
          "text": [
            "test_iter\n"
          ],
          "name": "stdout"
        },
        {
          "output_type": "stream",
          "text": [
            "INFO - {'loss': 45.73725891113281, 'step': 15901.0}\n",
            "INFO - {'loss': 38.49190139770508, 'step': 15950.0, 'steps_per_sec': 1.9182926212171532}\n",
            "INFO - {'loss': 42.80863952636719, 'step': 16000.0, 'steps_per_sec': 2.898062371842239}\n"
          ],
          "name": "stderr"
        },
        {
          "output_type": "stream",
          "text": [
            "train_iter\n"
          ],
          "name": "stdout"
        },
        {
          "output_type": "stream",
          "text": [
            "INFO - {'loss': 42.079261779785156, 'step': 16001.0}\n"
          ],
          "name": "stderr"
        },
        {
          "output_type": "stream",
          "text": [
            "test_iter\n"
          ],
          "name": "stdout"
        },
        {
          "output_type": "stream",
          "text": [
            "INFO - {'loss': 44.77448654174805, 'step': 16001.0}\n",
            "INFO - {'loss': 43.368431091308594, 'step': 16050.0, 'steps_per_sec': 1.910695725820149}\n",
            "INFO - {'loss': 42.11903762817383, 'step': 16100.0, 'steps_per_sec': 2.9176335235695636}\n"
          ],
          "name": "stderr"
        },
        {
          "output_type": "stream",
          "text": [
            "train_iter\n"
          ],
          "name": "stdout"
        },
        {
          "output_type": "stream",
          "text": [
            "INFO - {'loss': 42.84791564941406, 'step': 16101.0}\n"
          ],
          "name": "stderr"
        },
        {
          "output_type": "stream",
          "text": [
            "test_iter\n"
          ],
          "name": "stdout"
        },
        {
          "output_type": "stream",
          "text": [
            "INFO - {'loss': 45.40090560913086, 'step': 16101.0}\n",
            "INFO - {'loss': 40.65662384033203, 'step': 16150.0, 'steps_per_sec': 1.9216442702141454}\n",
            "INFO - {'loss': 43.67818069458008, 'step': 16200.0, 'steps_per_sec': 2.9203317167259075}\n"
          ],
          "name": "stderr"
        },
        {
          "output_type": "stream",
          "text": [
            "train_iter\n"
          ],
          "name": "stdout"
        },
        {
          "output_type": "stream",
          "text": [
            "INFO - {'loss': 42.37591552734375, 'step': 16201.0}\n"
          ],
          "name": "stderr"
        },
        {
          "output_type": "stream",
          "text": [
            "test_iter\n"
          ],
          "name": "stdout"
        },
        {
          "output_type": "stream",
          "text": [
            "INFO - {'loss': 45.67815017700195, 'step': 16201.0}\n",
            "INFO - {'loss': 43.04207992553711, 'step': 16250.0, 'steps_per_sec': 1.9187491767337352}\n",
            "INFO - {'loss': 39.922874450683594, 'step': 16300.0, 'steps_per_sec': 2.9209851260345068}\n"
          ],
          "name": "stderr"
        },
        {
          "output_type": "stream",
          "text": [
            "train_iter\n"
          ],
          "name": "stdout"
        },
        {
          "output_type": "stream",
          "text": [
            "INFO - {'loss': 41.6004524230957, 'step': 16301.0}\n"
          ],
          "name": "stderr"
        },
        {
          "output_type": "stream",
          "text": [
            "test_iter\n"
          ],
          "name": "stdout"
        },
        {
          "output_type": "stream",
          "text": [
            "INFO - {'loss': 46.20529556274414, 'step': 16301.0}\n",
            "INFO - {'loss': 43.61865234375, 'step': 16350.0, 'steps_per_sec': 1.9185122806121344}\n",
            "INFO - {'loss': 41.33077621459961, 'step': 16400.0, 'steps_per_sec': 2.9221376023342858}\n"
          ],
          "name": "stderr"
        },
        {
          "output_type": "stream",
          "text": [
            "train_iter\n"
          ],
          "name": "stdout"
        },
        {
          "output_type": "stream",
          "text": [
            "INFO - {'loss': 41.61271286010742, 'step': 16401.0}\n"
          ],
          "name": "stderr"
        },
        {
          "output_type": "stream",
          "text": [
            "test_iter\n"
          ],
          "name": "stdout"
        },
        {
          "output_type": "stream",
          "text": [
            "INFO - {'loss': 47.53062438964844, 'step': 16401.0}\n",
            "INFO - {'loss': 38.80543899536133, 'step': 16450.0, 'steps_per_sec': 1.9200110156882004}\n",
            "INFO - {'loss': 40.659645080566406, 'step': 16500.0, 'steps_per_sec': 2.925857353934508}\n"
          ],
          "name": "stderr"
        },
        {
          "output_type": "stream",
          "text": [
            "train_iter\n"
          ],
          "name": "stdout"
        },
        {
          "output_type": "stream",
          "text": [
            "INFO - {'loss': 41.36152267456055, 'step': 16501.0}\n"
          ],
          "name": "stderr"
        },
        {
          "output_type": "stream",
          "text": [
            "test_iter\n"
          ],
          "name": "stdout"
        },
        {
          "output_type": "stream",
          "text": [
            "INFO - {'loss': 47.87161636352539, 'step': 16501.0}\n",
            "INFO - {'loss': 43.20341110229492, 'step': 16550.0, 'steps_per_sec': 1.9217838080821639}\n",
            "INFO - {'loss': 40.444602966308594, 'step': 16600.0, 'steps_per_sec': 2.927420708977165}\n"
          ],
          "name": "stderr"
        },
        {
          "output_type": "stream",
          "text": [
            "train_iter\n"
          ],
          "name": "stdout"
        },
        {
          "output_type": "stream",
          "text": [
            "INFO - {'loss': 40.27765655517578, 'step': 16601.0}\n"
          ],
          "name": "stderr"
        },
        {
          "output_type": "stream",
          "text": [
            "test_iter\n"
          ],
          "name": "stdout"
        },
        {
          "output_type": "stream",
          "text": [
            "INFO - {'loss': 46.79267501831055, 'step': 16601.0}\n",
            "INFO - {'loss': 40.10905456542969, 'step': 16650.0, 'steps_per_sec': 1.9236372817986827}\n",
            "INFO - {'loss': 41.813087463378906, 'step': 16700.0, 'steps_per_sec': 2.9314803210164637}\n"
          ],
          "name": "stderr"
        },
        {
          "output_type": "stream",
          "text": [
            "train_iter\n"
          ],
          "name": "stdout"
        },
        {
          "output_type": "stream",
          "text": [
            "INFO - {'loss': 42.19973373413086, 'step': 16701.0}\n"
          ],
          "name": "stderr"
        },
        {
          "output_type": "stream",
          "text": [
            "test_iter\n"
          ],
          "name": "stdout"
        },
        {
          "output_type": "stream",
          "text": [
            "INFO - {'loss': 47.37649917602539, 'step': 16701.0}\n",
            "INFO - {'loss': 40.623992919921875, 'step': 16750.0, 'steps_per_sec': 1.9216683057697157}\n",
            "INFO - {'loss': 39.651126861572266, 'step': 16800.0, 'steps_per_sec': 2.926293094077676}\n"
          ],
          "name": "stderr"
        },
        {
          "output_type": "stream",
          "text": [
            "train_iter\n"
          ],
          "name": "stdout"
        },
        {
          "output_type": "stream",
          "text": [
            "INFO - {'loss': 42.992313385009766, 'step': 16801.0}\n"
          ],
          "name": "stderr"
        },
        {
          "output_type": "stream",
          "text": [
            "test_iter\n"
          ],
          "name": "stdout"
        },
        {
          "output_type": "stream",
          "text": [
            "INFO - {'loss': 46.76557922363281, 'step': 16801.0}\n",
            "INFO - {'loss': 43.438377380371094, 'step': 16850.0, 'steps_per_sec': 1.9207599862502969}\n",
            "INFO - {'loss': 42.29464340209961, 'step': 16900.0, 'steps_per_sec': 2.925320053129001}\n"
          ],
          "name": "stderr"
        },
        {
          "output_type": "stream",
          "text": [
            "train_iter\n"
          ],
          "name": "stdout"
        },
        {
          "output_type": "stream",
          "text": [
            "INFO - {'loss': 41.473594665527344, 'step': 16901.0}\n"
          ],
          "name": "stderr"
        },
        {
          "output_type": "stream",
          "text": [
            "test_iter\n"
          ],
          "name": "stdout"
        },
        {
          "output_type": "stream",
          "text": [
            "INFO - {'loss': 45.30677795410156, 'step': 16901.0}\n",
            "INFO - {'loss': 40.22450637817383, 'step': 16950.0, 'steps_per_sec': 1.9176656482195207}\n",
            "INFO - {'loss': 39.0406379699707, 'step': 17000.0, 'steps_per_sec': 2.9111745769961805}\n"
          ],
          "name": "stderr"
        },
        {
          "output_type": "stream",
          "text": [
            "train_iter\n"
          ],
          "name": "stdout"
        },
        {
          "output_type": "stream",
          "text": [
            "INFO - {'loss': 38.170143127441406, 'step': 17001.0}\n"
          ],
          "name": "stderr"
        },
        {
          "output_type": "stream",
          "text": [
            "test_iter\n"
          ],
          "name": "stdout"
        },
        {
          "output_type": "stream",
          "text": [
            "INFO - {'loss': 43.804813385009766, 'step': 17001.0}\n",
            "INFO - {'loss': 38.42554473876953, 'step': 17050.0, 'steps_per_sec': 1.9072231126246209}\n",
            "INFO - {'loss': 34.74415969848633, 'step': 17100.0, 'steps_per_sec': 2.892784925525429}\n"
          ],
          "name": "stderr"
        },
        {
          "output_type": "stream",
          "text": [
            "train_iter\n"
          ],
          "name": "stdout"
        },
        {
          "output_type": "stream",
          "text": [
            "INFO - {'loss': nan, 'step': 17101.0}\n"
          ],
          "name": "stderr"
        },
        {
          "output_type": "stream",
          "text": [
            "test_iter\n"
          ],
          "name": "stdout"
        },
        {
          "output_type": "stream",
          "text": [
            "INFO - {'loss': 43.62864685058594, 'step': 17101.0}\n",
            "INFO - {'loss': nan, 'step': 17150.0, 'steps_per_sec': 1.9113356555578387}\n",
            "INFO - {'loss': nan, 'step': 17200.0, 'steps_per_sec': 2.949205729724056}\n"
          ],
          "name": "stderr"
        },
        {
          "output_type": "stream",
          "text": [
            "train_iter\n"
          ],
          "name": "stdout"
        },
        {
          "output_type": "stream",
          "text": [
            "INFO - {'loss': nan, 'step': 17201.0}\n"
          ],
          "name": "stderr"
        },
        {
          "output_type": "stream",
          "text": [
            "test_iter\n"
          ],
          "name": "stdout"
        },
        {
          "output_type": "stream",
          "text": [
            "INFO - {'loss': 43.59630584716797, 'step': 17201.0}\n",
            "INFO - {'loss': 31.862943649291992, 'step': 17250.0, 'steps_per_sec': 1.945711242810123}\n",
            "INFO - {'loss': 32.2969856262207, 'step': 17300.0, 'steps_per_sec': 3.0115248028480956}\n"
          ],
          "name": "stderr"
        },
        {
          "output_type": "stream",
          "text": [
            "train_iter\n"
          ],
          "name": "stdout"
        },
        {
          "output_type": "stream",
          "text": [
            "INFO - {'loss': nan, 'step': 17301.0}\n"
          ],
          "name": "stderr"
        },
        {
          "output_type": "stream",
          "text": [
            "test_iter\n"
          ],
          "name": "stdout"
        },
        {
          "output_type": "stream",
          "text": [
            "INFO - {'loss': 41.684452056884766, 'step': 17301.0}\n",
            "INFO - {'loss': 36.78767395019531, 'step': 17350.0, 'steps_per_sec': 1.9671819046490022}\n",
            "INFO - {'loss': 45.340576171875, 'step': 17400.0, 'steps_per_sec': 2.919552758606154}\n"
          ],
          "name": "stderr"
        },
        {
          "output_type": "stream",
          "text": [
            "train_iter\n"
          ],
          "name": "stdout"
        },
        {
          "output_type": "stream",
          "text": [
            "INFO - {'loss': 41.19657516479492, 'step': 17401.0}\n"
          ],
          "name": "stderr"
        },
        {
          "output_type": "stream",
          "text": [
            "test_iter\n"
          ],
          "name": "stdout"
        },
        {
          "output_type": "stream",
          "text": [
            "INFO - {'loss': nan, 'step': 17401.0}\n",
            "INFO - {'loss': 39.07350540161133, 'step': 17450.0, 'steps_per_sec': 1.9033758348346026}\n",
            "INFO - {'loss': 40.66875457763672, 'step': 17500.0, 'steps_per_sec': 2.90059845368506}\n"
          ],
          "name": "stderr"
        },
        {
          "output_type": "stream",
          "text": [
            "train_iter\n"
          ],
          "name": "stdout"
        },
        {
          "output_type": "stream",
          "text": [
            "INFO - {'loss': 40.6585807800293, 'step': 17501.0}\n"
          ],
          "name": "stderr"
        },
        {
          "output_type": "stream",
          "text": [
            "test_iter\n"
          ],
          "name": "stdout"
        },
        {
          "output_type": "stream",
          "text": [
            "INFO - {'loss': nan, 'step': 17501.0}\n",
            "INFO - {'loss': 41.4144401550293, 'step': 17550.0, 'steps_per_sec': 1.9133193402612247}\n",
            "INFO - {'loss': 40.724693298339844, 'step': 17600.0, 'steps_per_sec': 2.9128187235806213}\n"
          ],
          "name": "stderr"
        },
        {
          "output_type": "stream",
          "text": [
            "train_iter\n"
          ],
          "name": "stdout"
        },
        {
          "output_type": "stream",
          "text": [
            "INFO - {'loss': 40.810386657714844, 'step': 17601.0}\n"
          ],
          "name": "stderr"
        },
        {
          "output_type": "stream",
          "text": [
            "test_iter\n"
          ],
          "name": "stdout"
        },
        {
          "output_type": "stream",
          "text": [
            "INFO - {'loss': nan, 'step': 17601.0}\n",
            "INFO - {'loss': 42.045589447021484, 'step': 17650.0, 'steps_per_sec': 1.9174281254743508}\n",
            "INFO - {'loss': 39.49049758911133, 'step': 17700.0, 'steps_per_sec': 2.910372707484334}\n"
          ],
          "name": "stderr"
        },
        {
          "output_type": "stream",
          "text": [
            "train_iter\n"
          ],
          "name": "stdout"
        },
        {
          "output_type": "stream",
          "text": [
            "INFO - {'loss': 41.67495346069336, 'step': 17701.0}\n"
          ],
          "name": "stderr"
        },
        {
          "output_type": "stream",
          "text": [
            "test_iter\n"
          ],
          "name": "stdout"
        },
        {
          "output_type": "stream",
          "text": [
            "INFO - {'loss': nan, 'step': 17701.0}\n",
            "INFO - {'loss': 41.28099822998047, 'step': 17750.0, 'steps_per_sec': 1.9024786983641702}\n",
            "INFO - {'loss': 40.02431869506836, 'step': 17800.0, 'steps_per_sec': 2.9067629455751898}\n"
          ],
          "name": "stderr"
        },
        {
          "output_type": "stream",
          "text": [
            "train_iter\n"
          ],
          "name": "stdout"
        },
        {
          "output_type": "stream",
          "text": [
            "INFO - {'loss': 39.61294174194336, 'step': 17801.0}\n"
          ],
          "name": "stderr"
        },
        {
          "output_type": "stream",
          "text": [
            "test_iter\n"
          ],
          "name": "stdout"
        },
        {
          "output_type": "stream",
          "text": [
            "INFO - {'loss': nan, 'step': 17801.0}\n",
            "INFO - {'loss': 38.449363708496094, 'step': 17850.0, 'steps_per_sec': 1.910325247331386}\n",
            "INFO - {'loss': 38.81242370605469, 'step': 17900.0, 'steps_per_sec': 2.9121769288791706}\n"
          ],
          "name": "stderr"
        },
        {
          "output_type": "stream",
          "text": [
            "train_iter\n"
          ],
          "name": "stdout"
        },
        {
          "output_type": "stream",
          "text": [
            "INFO - {'loss': 40.38430404663086, 'step': 17901.0}\n"
          ],
          "name": "stderr"
        },
        {
          "output_type": "stream",
          "text": [
            "test_iter\n"
          ],
          "name": "stdout"
        },
        {
          "output_type": "stream",
          "text": [
            "INFO - {'loss': nan, 'step': 17901.0}\n",
            "INFO - {'loss': 39.24571228027344, 'step': 17950.0, 'steps_per_sec': 1.9123570207527676}\n",
            "INFO - {'loss': 43.24168395996094, 'step': 18000.0, 'steps_per_sec': 2.9164038454579866}\n"
          ],
          "name": "stderr"
        },
        {
          "output_type": "stream",
          "text": [
            "train_iter\n"
          ],
          "name": "stdout"
        },
        {
          "output_type": "stream",
          "text": [
            "INFO - {'loss': 43.129695892333984, 'step': 18001.0}\n"
          ],
          "name": "stderr"
        },
        {
          "output_type": "stream",
          "text": [
            "test_iter\n"
          ],
          "name": "stdout"
        },
        {
          "output_type": "stream",
          "text": [
            "INFO - {'loss': nan, 'step': 18001.0}\n",
            "INFO - {'loss': 40.78938293457031, 'step': 18050.0, 'steps_per_sec': 1.9165215146207153}\n",
            "INFO - {'loss': 40.80374526977539, 'step': 18100.0, 'steps_per_sec': 2.9143256880190194}\n"
          ],
          "name": "stderr"
        },
        {
          "output_type": "stream",
          "text": [
            "train_iter\n"
          ],
          "name": "stdout"
        },
        {
          "output_type": "stream",
          "text": [
            "INFO - {'loss': 41.09321594238281, 'step': 18101.0}\n"
          ],
          "name": "stderr"
        },
        {
          "output_type": "stream",
          "text": [
            "test_iter\n"
          ],
          "name": "stdout"
        },
        {
          "output_type": "stream",
          "text": [
            "INFO - {'loss': nan, 'step': 18101.0}\n",
            "INFO - {'loss': 41.356178283691406, 'step': 18150.0, 'steps_per_sec': 1.9056258366324608}\n",
            "INFO - {'loss': 38.41797637939453, 'step': 18200.0, 'steps_per_sec': 2.912882121565665}\n"
          ],
          "name": "stderr"
        },
        {
          "output_type": "stream",
          "text": [
            "train_iter\n"
          ],
          "name": "stdout"
        },
        {
          "output_type": "stream",
          "text": [
            "INFO - {'loss': 41.26268005371094, 'step': 18201.0}\n"
          ],
          "name": "stderr"
        },
        {
          "output_type": "stream",
          "text": [
            "test_iter\n"
          ],
          "name": "stdout"
        },
        {
          "output_type": "stream",
          "text": [
            "INFO - {'loss': 41.23065185546875, 'step': 18201.0}\n",
            "INFO - {'loss': 40.288909912109375, 'step': 18250.0, 'steps_per_sec': 1.9200840036751607}\n",
            "INFO - {'loss': 38.521522521972656, 'step': 18300.0, 'steps_per_sec': 2.9268303030949245}\n"
          ],
          "name": "stderr"
        },
        {
          "output_type": "stream",
          "text": [
            "train_iter\n"
          ],
          "name": "stdout"
        },
        {
          "output_type": "stream",
          "text": [
            "INFO - {'loss': 41.53717803955078, 'step': 18301.0}\n"
          ],
          "name": "stderr"
        },
        {
          "output_type": "stream",
          "text": [
            "test_iter\n"
          ],
          "name": "stdout"
        },
        {
          "output_type": "stream",
          "text": [
            "INFO - {'loss': 42.16228103637695, 'step': 18301.0}\n",
            "INFO - {'loss': 40.77967834472656, 'step': 18350.0, 'steps_per_sec': 1.910065235885887}\n",
            "INFO - {'loss': 36.47528076171875, 'step': 18400.0, 'steps_per_sec': 2.8962113947949644}\n"
          ],
          "name": "stderr"
        },
        {
          "output_type": "stream",
          "text": [
            "train_iter\n"
          ],
          "name": "stdout"
        },
        {
          "output_type": "stream",
          "text": [
            "INFO - {'loss': 37.37288284301758, 'step': 18401.0}\n"
          ],
          "name": "stderr"
        },
        {
          "output_type": "stream",
          "text": [
            "test_iter\n"
          ],
          "name": "stdout"
        },
        {
          "output_type": "stream",
          "text": [
            "INFO - {'loss': 44.191898345947266, 'step': 18401.0}\n",
            "INFO - {'loss': 34.20391845703125, 'step': 18450.0, 'steps_per_sec': 1.904416170843008}\n",
            "INFO - {'loss': 33.27986145019531, 'step': 18500.0, 'steps_per_sec': 2.890615965326149}\n"
          ],
          "name": "stderr"
        },
        {
          "output_type": "stream",
          "text": [
            "train_iter\n"
          ],
          "name": "stdout"
        },
        {
          "output_type": "stream",
          "text": [
            "INFO - {'loss': nan, 'step': 18501.0}\n"
          ],
          "name": "stderr"
        },
        {
          "output_type": "stream",
          "text": [
            "test_iter\n"
          ],
          "name": "stdout"
        },
        {
          "output_type": "stream",
          "text": [
            "INFO - {'loss': 48.08893585205078, 'step': 18501.0}\n",
            "INFO - {'loss': 37.58485412597656, 'step': 18550.0, 'steps_per_sec': 1.9117822650769936}\n",
            "INFO - {'loss': 36.97368621826172, 'step': 18600.0, 'steps_per_sec': 2.8963397517987737}\n"
          ],
          "name": "stderr"
        },
        {
          "output_type": "stream",
          "text": [
            "train_iter\n"
          ],
          "name": "stdout"
        },
        {
          "output_type": "stream",
          "text": [
            "INFO - {'loss': 40.467567443847656, 'step': 18601.0}\n"
          ],
          "name": "stderr"
        },
        {
          "output_type": "stream",
          "text": [
            "test_iter\n"
          ],
          "name": "stdout"
        },
        {
          "output_type": "stream",
          "text": [
            "INFO - {'loss': 47.18693923950195, 'step': 18601.0}\n",
            "INFO - {'loss': 42.45964431762695, 'step': 18650.0, 'steps_per_sec': 1.9093238509059258}\n",
            "INFO - {'loss': 42.761898040771484, 'step': 18700.0, 'steps_per_sec': 2.9095444356859215}\n"
          ],
          "name": "stderr"
        },
        {
          "output_type": "stream",
          "text": [
            "train_iter\n"
          ],
          "name": "stdout"
        },
        {
          "output_type": "stream",
          "text": [
            "INFO - {'loss': 41.651390075683594, 'step': 18701.0}\n"
          ],
          "name": "stderr"
        },
        {
          "output_type": "stream",
          "text": [
            "test_iter\n"
          ],
          "name": "stdout"
        },
        {
          "output_type": "stream",
          "text": [
            "INFO - {'loss': 45.83909606933594, 'step': 18701.0}\n",
            "INFO - {'loss': 39.322784423828125, 'step': 18750.0, 'steps_per_sec': 1.915355286810287}\n",
            "INFO - {'loss': 42.010414123535156, 'step': 18800.0, 'steps_per_sec': 2.922427736854136}\n"
          ],
          "name": "stderr"
        },
        {
          "output_type": "stream",
          "text": [
            "train_iter\n"
          ],
          "name": "stdout"
        },
        {
          "output_type": "stream",
          "text": [
            "INFO - {'loss': 42.76984405517578, 'step': 18801.0}\n"
          ],
          "name": "stderr"
        },
        {
          "output_type": "stream",
          "text": [
            "test_iter\n"
          ],
          "name": "stdout"
        },
        {
          "output_type": "stream",
          "text": [
            "INFO - {'loss': 47.05295181274414, 'step': 18801.0}\n",
            "INFO - {'loss': 41.35422134399414, 'step': 18850.0, 'steps_per_sec': 1.919697592559722}\n",
            "INFO - {'loss': 42.17014694213867, 'step': 18900.0, 'steps_per_sec': 2.926625263153899}\n"
          ],
          "name": "stderr"
        },
        {
          "output_type": "stream",
          "text": [
            "train_iter\n"
          ],
          "name": "stdout"
        },
        {
          "output_type": "stream",
          "text": [
            "INFO - {'loss': 42.25792694091797, 'step': 18901.0}\n"
          ],
          "name": "stderr"
        },
        {
          "output_type": "stream",
          "text": [
            "test_iter\n"
          ],
          "name": "stdout"
        },
        {
          "output_type": "stream",
          "text": [
            "INFO - {'loss': 47.01776123046875, 'step': 18901.0}\n",
            "INFO - {'loss': 42.726802825927734, 'step': 18950.0, 'steps_per_sec': 1.9210155974702727}\n",
            "INFO - {'loss': 43.12165832519531, 'step': 19000.0, 'steps_per_sec': 2.908743463828804}\n"
          ],
          "name": "stderr"
        },
        {
          "output_type": "stream",
          "text": [
            "train_iter\n"
          ],
          "name": "stdout"
        },
        {
          "output_type": "stream",
          "text": [
            "INFO - {'loss': 41.16087341308594, 'step': 19001.0}\n"
          ],
          "name": "stderr"
        },
        {
          "output_type": "stream",
          "text": [
            "test_iter\n"
          ],
          "name": "stdout"
        },
        {
          "output_type": "stream",
          "text": [
            "INFO - {'loss': 46.991859436035156, 'step': 19001.0}\n",
            "INFO - {'loss': 41.3813362121582, 'step': 19050.0, 'steps_per_sec': 1.9088130610947298}\n",
            "INFO - {'loss': 42.05210876464844, 'step': 19100.0, 'steps_per_sec': 2.921270148634234}\n"
          ],
          "name": "stderr"
        },
        {
          "output_type": "stream",
          "text": [
            "train_iter\n"
          ],
          "name": "stdout"
        },
        {
          "output_type": "stream",
          "text": [
            "INFO - {'loss': 41.22451400756836, 'step': 19101.0}\n"
          ],
          "name": "stderr"
        },
        {
          "output_type": "stream",
          "text": [
            "test_iter\n"
          ],
          "name": "stdout"
        },
        {
          "output_type": "stream",
          "text": [
            "INFO - {'loss': 46.43549728393555, 'step': 19101.0}\n",
            "INFO - {'loss': 42.0894889831543, 'step': 19150.0, 'steps_per_sec': 1.9217803915925187}\n",
            "INFO - {'loss': 42.318519592285156, 'step': 19200.0, 'steps_per_sec': 2.931232019201323}\n"
          ],
          "name": "stderr"
        },
        {
          "output_type": "stream",
          "text": [
            "train_iter\n"
          ],
          "name": "stdout"
        },
        {
          "output_type": "stream",
          "text": [
            "INFO - {'loss': 41.69666290283203, 'step': 19201.0}\n"
          ],
          "name": "stderr"
        },
        {
          "output_type": "stream",
          "text": [
            "test_iter\n"
          ],
          "name": "stdout"
        },
        {
          "output_type": "stream",
          "text": [
            "INFO - {'loss': 46.66495895385742, 'step': 19201.0}\n",
            "INFO - {'loss': 41.25827407836914, 'step': 19250.0, 'steps_per_sec': 1.922970892612959}\n",
            "INFO - {'loss': 41.74840545654297, 'step': 19300.0, 'steps_per_sec': 2.9246910926544296}\n"
          ],
          "name": "stderr"
        },
        {
          "output_type": "stream",
          "text": [
            "train_iter\n"
          ],
          "name": "stdout"
        },
        {
          "output_type": "stream",
          "text": [
            "INFO - {'loss': 41.13829040527344, 'step': 19301.0}\n"
          ],
          "name": "stderr"
        },
        {
          "output_type": "stream",
          "text": [
            "test_iter\n"
          ],
          "name": "stdout"
        },
        {
          "output_type": "stream",
          "text": [
            "INFO - {'loss': 46.71882629394531, 'step': 19301.0}\n",
            "INFO - {'loss': 41.3035888671875, 'step': 19350.0, 'steps_per_sec': 1.913275317213702}\n",
            "INFO - {'loss': 41.78777313232422, 'step': 19400.0, 'steps_per_sec': 2.9192956635718437}\n"
          ],
          "name": "stderr"
        },
        {
          "output_type": "stream",
          "text": [
            "train_iter\n"
          ],
          "name": "stdout"
        },
        {
          "output_type": "stream",
          "text": [
            "INFO - {'loss': 40.98308563232422, 'step': 19401.0}\n"
          ],
          "name": "stderr"
        },
        {
          "output_type": "stream",
          "text": [
            "test_iter\n"
          ],
          "name": "stdout"
        },
        {
          "output_type": "stream",
          "text": [
            "INFO - {'loss': 46.82111740112305, 'step': 19401.0}\n",
            "INFO - {'loss': 39.47578430175781, 'step': 19450.0, 'steps_per_sec': 1.911769455600613}\n",
            "INFO - {'loss': 37.71338653564453, 'step': 19500.0, 'steps_per_sec': 2.9110993324473795}\n"
          ],
          "name": "stderr"
        },
        {
          "output_type": "stream",
          "text": [
            "train_iter\n"
          ],
          "name": "stdout"
        },
        {
          "output_type": "stream",
          "text": [
            "INFO - {'loss': 38.57942581176758, 'step': 19501.0}\n"
          ],
          "name": "stderr"
        },
        {
          "output_type": "stream",
          "text": [
            "test_iter\n"
          ],
          "name": "stdout"
        },
        {
          "output_type": "stream",
          "text": [
            "INFO - {'loss': 47.153221130371094, 'step': 19501.0}\n",
            "INFO - {'loss': 35.93336868286133, 'step': 19550.0, 'steps_per_sec': 1.9131220378576765}\n",
            "INFO - {'loss': 34.38880920410156, 'step': 19600.0, 'steps_per_sec': 2.9036839207619525}\n"
          ],
          "name": "stderr"
        },
        {
          "output_type": "stream",
          "text": [
            "train_iter\n"
          ],
          "name": "stdout"
        },
        {
          "output_type": "stream",
          "text": [
            "INFO - {'loss': 39.51255416870117, 'step': 19601.0}\n"
          ],
          "name": "stderr"
        },
        {
          "output_type": "stream",
          "text": [
            "test_iter\n"
          ],
          "name": "stdout"
        },
        {
          "output_type": "stream",
          "text": [
            "INFO - {'loss': 46.52235412597656, 'step': 19601.0}\n",
            "INFO - {'loss': 40.592899322509766, 'step': 19650.0, 'steps_per_sec': 1.9076481239394933}\n",
            "INFO - {'loss': 41.35010528564453, 'step': 19700.0, 'steps_per_sec': 2.911998480371887}\n"
          ],
          "name": "stderr"
        },
        {
          "output_type": "stream",
          "text": [
            "train_iter\n"
          ],
          "name": "stdout"
        },
        {
          "output_type": "stream",
          "text": [
            "INFO - {'loss': 40.56490707397461, 'step': 19701.0}\n"
          ],
          "name": "stderr"
        },
        {
          "output_type": "stream",
          "text": [
            "test_iter\n"
          ],
          "name": "stdout"
        },
        {
          "output_type": "stream",
          "text": [
            "INFO - {'loss': 45.95043182373047, 'step': 19701.0}\n",
            "INFO - {'loss': 40.16008758544922, 'step': 19750.0, 'steps_per_sec': 1.9158388153991144}\n",
            "INFO - {'loss': 40.94047546386719, 'step': 19800.0, 'steps_per_sec': 2.9083556868946703}\n"
          ],
          "name": "stderr"
        },
        {
          "output_type": "stream",
          "text": [
            "train_iter\n"
          ],
          "name": "stdout"
        },
        {
          "output_type": "stream",
          "text": [
            "INFO - {'loss': 40.86149215698242, 'step': 19801.0}\n"
          ],
          "name": "stderr"
        },
        {
          "output_type": "stream",
          "text": [
            "test_iter\n"
          ],
          "name": "stdout"
        },
        {
          "output_type": "stream",
          "text": [
            "INFO - {'loss': 45.967044830322266, 'step': 19801.0}\n",
            "INFO - {'loss': 41.4194221496582, 'step': 19850.0, 'steps_per_sec': 1.9089725492894758}\n",
            "INFO - {'loss': 40.60634231567383, 'step': 19900.0, 'steps_per_sec': 2.9207545039205955}\n"
          ],
          "name": "stderr"
        },
        {
          "output_type": "stream",
          "text": [
            "train_iter\n"
          ],
          "name": "stdout"
        },
        {
          "output_type": "stream",
          "text": [
            "INFO - {'loss': 42.43143844604492, 'step': 19901.0}\n"
          ],
          "name": "stderr"
        },
        {
          "output_type": "stream",
          "text": [
            "test_iter\n"
          ],
          "name": "stdout"
        },
        {
          "output_type": "stream",
          "text": [
            "INFO - {'loss': 43.76084518432617, 'step': 19901.0}\n",
            "INFO - {'loss': 45.437870025634766, 'step': 19950.0, 'steps_per_sec': 1.921011603021762}\n",
            "INFO - {'loss': 40.503318786621094, 'step': 20000.0, 'steps_per_sec': 2.928194222749448}\n"
          ],
          "name": "stderr"
        },
        {
          "output_type": "stream",
          "text": [
            "train_iter\n"
          ],
          "name": "stdout"
        },
        {
          "output_type": "stream",
          "text": [
            "INFO - {'loss': 42.364505767822266, 'step': 20001.0}\n"
          ],
          "name": "stderr"
        },
        {
          "output_type": "stream",
          "text": [
            "test_iter\n"
          ],
          "name": "stdout"
        },
        {
          "output_type": "stream",
          "text": [
            "INFO - {'loss': 44.10487747192383, 'step': 20001.0}\n",
            "INFO - {'loss': 42.79786682128906, 'step': 20050.0, 'steps_per_sec': 1.9187082212582147}\n",
            "INFO - {'loss': 43.37002944946289, 'step': 20100.0, 'steps_per_sec': 2.9277331881104227}\n"
          ],
          "name": "stderr"
        },
        {
          "output_type": "stream",
          "text": [
            "train_iter\n"
          ],
          "name": "stdout"
        },
        {
          "output_type": "stream",
          "text": [
            "INFO - {'loss': 42.415985107421875, 'step': 20101.0}\n"
          ],
          "name": "stderr"
        },
        {
          "output_type": "stream",
          "text": [
            "test_iter\n"
          ],
          "name": "stdout"
        },
        {
          "output_type": "stream",
          "text": [
            "INFO - {'loss': nan, 'step': 20101.0}\n",
            "INFO - {'loss': 40.3133544921875, 'step': 20150.0, 'steps_per_sec': 1.9215385209121723}\n",
            "INFO - {'loss': 46.90106964111328, 'step': 20200.0, 'steps_per_sec': 2.922486381566476}\n"
          ],
          "name": "stderr"
        },
        {
          "output_type": "stream",
          "text": [
            "train_iter\n"
          ],
          "name": "stdout"
        },
        {
          "output_type": "stream",
          "text": [
            "INFO - {'loss': 42.76802062988281, 'step': 20201.0}\n"
          ],
          "name": "stderr"
        },
        {
          "output_type": "stream",
          "text": [
            "test_iter\n"
          ],
          "name": "stdout"
        },
        {
          "output_type": "stream",
          "text": [
            "INFO - {'loss': nan, 'step': 20201.0}\n",
            "INFO - {'loss': 43.45377731323242, 'step': 20250.0, 'steps_per_sec': 1.9213580556049095}\n",
            "INFO - {'loss': 38.47665023803711, 'step': 20300.0, 'steps_per_sec': 2.924937226846947}\n"
          ],
          "name": "stderr"
        },
        {
          "output_type": "stream",
          "text": [
            "train_iter\n"
          ],
          "name": "stdout"
        },
        {
          "output_type": "stream",
          "text": [
            "INFO - {'loss': 41.57777786254883, 'step': 20301.0}\n"
          ],
          "name": "stderr"
        },
        {
          "output_type": "stream",
          "text": [
            "test_iter\n"
          ],
          "name": "stdout"
        },
        {
          "output_type": "stream",
          "text": [
            "INFO - {'loss': nan, 'step': 20301.0}\n",
            "INFO - {'loss': 42.597232818603516, 'step': 20350.0, 'steps_per_sec': 1.9215336615836058}\n",
            "INFO - {'loss': 40.17606735229492, 'step': 20400.0, 'steps_per_sec': 2.928100843129997}\n"
          ],
          "name": "stderr"
        },
        {
          "output_type": "stream",
          "text": [
            "train_iter\n"
          ],
          "name": "stdout"
        },
        {
          "output_type": "stream",
          "text": [
            "INFO - {'loss': 40.60966873168945, 'step': 20401.0}\n"
          ],
          "name": "stderr"
        },
        {
          "output_type": "stream",
          "text": [
            "test_iter\n"
          ],
          "name": "stdout"
        },
        {
          "output_type": "stream",
          "text": [
            "INFO - {'loss': 40.98851013183594, 'step': 20401.0}\n",
            "INFO - {'loss': 40.9414176940918, 'step': 20450.0, 'steps_per_sec': 1.9180748541179775}\n",
            "INFO - {'loss': 39.51613998413086, 'step': 20500.0, 'steps_per_sec': 2.9268896556743664}\n"
          ],
          "name": "stderr"
        },
        {
          "output_type": "stream",
          "text": [
            "train_iter\n"
          ],
          "name": "stdout"
        },
        {
          "output_type": "stream",
          "text": [
            "INFO - {'loss': 40.90962219238281, 'step': 20501.0}\n"
          ],
          "name": "stderr"
        },
        {
          "output_type": "stream",
          "text": [
            "test_iter\n"
          ],
          "name": "stdout"
        },
        {
          "output_type": "stream",
          "text": [
            "INFO - {'loss': 43.36404800415039, 'step': 20501.0}\n",
            "INFO - {'loss': 40.49219512939453, 'step': 20550.0, 'steps_per_sec': 1.9164977652669488}\n",
            "INFO - {'loss': 39.49372100830078, 'step': 20600.0, 'steps_per_sec': 2.916834786290229}\n"
          ],
          "name": "stderr"
        },
        {
          "output_type": "stream",
          "text": [
            "train_iter\n"
          ],
          "name": "stdout"
        },
        {
          "output_type": "stream",
          "text": [
            "INFO - {'loss': 40.040626525878906, 'step': 20601.0}\n"
          ],
          "name": "stderr"
        },
        {
          "output_type": "stream",
          "text": [
            "test_iter\n"
          ],
          "name": "stdout"
        },
        {
          "output_type": "stream",
          "text": [
            "INFO - {'loss': 44.36292266845703, 'step': 20601.0}\n",
            "INFO - {'loss': 42.180179595947266, 'step': 20650.0, 'steps_per_sec': 1.916985936257223}\n",
            "INFO - {'loss': 41.46327209472656, 'step': 20700.0, 'steps_per_sec': 2.9351941273947637}\n"
          ],
          "name": "stderr"
        },
        {
          "output_type": "stream",
          "text": [
            "train_iter\n"
          ],
          "name": "stdout"
        },
        {
          "output_type": "stream",
          "text": [
            "INFO - {'loss': 42.492271423339844, 'step': 20701.0}\n"
          ],
          "name": "stderr"
        },
        {
          "output_type": "stream",
          "text": [
            "test_iter\n"
          ],
          "name": "stdout"
        },
        {
          "output_type": "stream",
          "text": [
            "INFO - {'loss': 44.97247314453125, 'step': 20701.0}\n",
            "INFO - {'loss': 38.90230941772461, 'step': 20750.0, 'steps_per_sec': 1.9218635002687894}\n",
            "INFO - {'loss': 43.39259338378906, 'step': 20800.0, 'steps_per_sec': 2.9242811921077516}\n"
          ],
          "name": "stderr"
        },
        {
          "output_type": "stream",
          "text": [
            "train_iter\n"
          ],
          "name": "stdout"
        },
        {
          "output_type": "stream",
          "text": [
            "INFO - {'loss': 42.92169952392578, 'step': 20801.0}\n"
          ],
          "name": "stderr"
        },
        {
          "output_type": "stream",
          "text": [
            "test_iter\n"
          ],
          "name": "stdout"
        },
        {
          "output_type": "stream",
          "text": [
            "INFO - {'loss': 44.67962646484375, 'step': 20801.0}\n",
            "INFO - {'loss': 43.899959564208984, 'step': 20850.0, 'steps_per_sec': 1.920274146560212}\n",
            "INFO - {'loss': 42.41630554199219, 'step': 20900.0, 'steps_per_sec': 2.9279547347830372}\n"
          ],
          "name": "stderr"
        },
        {
          "output_type": "stream",
          "text": [
            "train_iter\n"
          ],
          "name": "stdout"
        },
        {
          "output_type": "stream",
          "text": [
            "INFO - {'loss': 40.53318405151367, 'step': 20901.0}\n"
          ],
          "name": "stderr"
        },
        {
          "output_type": "stream",
          "text": [
            "test_iter\n"
          ],
          "name": "stdout"
        },
        {
          "output_type": "stream",
          "text": [
            "INFO - {'loss': 44.62976837158203, 'step': 20901.0}\n",
            "INFO - {'loss': 37.466888427734375, 'step': 20950.0, 'steps_per_sec': 1.9197950023586043}\n",
            "INFO - {'loss': 36.434730529785156, 'step': 21000.0, 'steps_per_sec': 2.9183935070019458}\n"
          ],
          "name": "stderr"
        },
        {
          "output_type": "stream",
          "text": [
            "train_iter\n"
          ],
          "name": "stdout"
        },
        {
          "output_type": "stream",
          "text": [
            "INFO - {'loss': 36.377986907958984, 'step': 21001.0}\n"
          ],
          "name": "stderr"
        },
        {
          "output_type": "stream",
          "text": [
            "test_iter\n"
          ],
          "name": "stdout"
        },
        {
          "output_type": "stream",
          "text": [
            "INFO - {'loss': 45.65694046020508, 'step': 21001.0}\n",
            "INFO - {'loss': 36.14432144165039, 'step': 21050.0, 'steps_per_sec': 1.9089488476473762}\n",
            "INFO - {'loss': 35.82806396484375, 'step': 21100.0, 'steps_per_sec': 2.9102259802230273}\n"
          ],
          "name": "stderr"
        },
        {
          "output_type": "stream",
          "text": [
            "train_iter\n"
          ],
          "name": "stdout"
        },
        {
          "output_type": "stream",
          "text": [
            "INFO - {'loss': nan, 'step': 21101.0}\n"
          ],
          "name": "stderr"
        },
        {
          "output_type": "stream",
          "text": [
            "test_iter\n"
          ],
          "name": "stdout"
        },
        {
          "output_type": "stream",
          "text": [
            "INFO - {'loss': 46.53196716308594, 'step': 21101.0}\n",
            "INFO - {'loss': 35.92496871948242, 'step': 21150.0, 'steps_per_sec': 1.9120563418549066}\n",
            "INFO - {'loss': 34.96533966064453, 'step': 21200.0, 'steps_per_sec': 2.9361348609984415}\n"
          ],
          "name": "stderr"
        },
        {
          "output_type": "stream",
          "text": [
            "train_iter\n"
          ],
          "name": "stdout"
        },
        {
          "output_type": "stream",
          "text": [
            "INFO - {'loss': nan, 'step': 21201.0}\n"
          ],
          "name": "stderr"
        },
        {
          "output_type": "stream",
          "text": [
            "test_iter\n"
          ],
          "name": "stdout"
        },
        {
          "output_type": "stream",
          "text": [
            "INFO - {'loss': 46.59914016723633, 'step': 21201.0}\n",
            "INFO - {'loss': 33.52456283569336, 'step': 21250.0, 'steps_per_sec': 1.940349073383004}\n",
            "INFO - {'loss': nan, 'step': 21300.0, 'steps_per_sec': 3.002116388755543}\n"
          ],
          "name": "stderr"
        },
        {
          "output_type": "stream",
          "text": [
            "train_iter\n"
          ],
          "name": "stdout"
        },
        {
          "output_type": "stream",
          "text": [
            "INFO - {'loss': nan, 'step': 21301.0}\n"
          ],
          "name": "stderr"
        },
        {
          "output_type": "stream",
          "text": [
            "test_iter\n"
          ],
          "name": "stdout"
        },
        {
          "output_type": "stream",
          "text": [
            "INFO - {'loss': 45.44104766845703, 'step': 21301.0}\n",
            "INFO - {'loss': 44.26787567138672, 'step': 21350.0, 'steps_per_sec': 1.932466579689551}\n",
            "INFO - {'loss': 41.353389739990234, 'step': 21400.0, 'steps_per_sec': 2.9075660115222774}\n"
          ],
          "name": "stderr"
        },
        {
          "output_type": "stream",
          "text": [
            "train_iter\n"
          ],
          "name": "stdout"
        },
        {
          "output_type": "stream",
          "text": [
            "INFO - {'loss': 39.9012336730957, 'step': 21401.0}\n"
          ],
          "name": "stderr"
        },
        {
          "output_type": "stream",
          "text": [
            "test_iter\n"
          ],
          "name": "stdout"
        },
        {
          "output_type": "stream",
          "text": [
            "INFO - {'loss': 42.43821716308594, 'step': 21401.0}\n",
            "INFO - {'loss': 39.10565948486328, 'step': 21450.0, 'steps_per_sec': 1.9082028943256142}\n",
            "INFO - {'loss': 36.897945404052734, 'step': 21500.0, 'steps_per_sec': 2.9107801723143023}\n"
          ],
          "name": "stderr"
        },
        {
          "output_type": "stream",
          "text": [
            "train_iter\n"
          ],
          "name": "stdout"
        },
        {
          "output_type": "stream",
          "text": [
            "INFO - {'loss': 40.321868896484375, 'step': 21501.0}\n"
          ],
          "name": "stderr"
        },
        {
          "output_type": "stream",
          "text": [
            "test_iter\n"
          ],
          "name": "stdout"
        },
        {
          "output_type": "stream",
          "text": [
            "INFO - {'loss': 41.019203186035156, 'step': 21501.0}\n",
            "INFO - {'loss': 40.57760238647461, 'step': 21550.0, 'steps_per_sec': 1.9153461204275042}\n",
            "INFO - {'loss': 39.455265045166016, 'step': 21600.0, 'steps_per_sec': 2.914508512798525}\n"
          ],
          "name": "stderr"
        },
        {
          "output_type": "stream",
          "text": [
            "train_iter\n"
          ],
          "name": "stdout"
        },
        {
          "output_type": "stream",
          "text": [
            "INFO - {'loss': 40.20537185668945, 'step': 21601.0}\n"
          ],
          "name": "stderr"
        },
        {
          "output_type": "stream",
          "text": [
            "test_iter\n"
          ],
          "name": "stdout"
        },
        {
          "output_type": "stream",
          "text": [
            "INFO - {'loss': nan, 'step': 21601.0}\n",
            "INFO - {'loss': 40.97883605957031, 'step': 21650.0, 'steps_per_sec': 1.9078209028979083}\n",
            "INFO - {'loss': 42.26662826538086, 'step': 21700.0, 'steps_per_sec': 2.9138132609770757}\n"
          ],
          "name": "stderr"
        },
        {
          "output_type": "stream",
          "text": [
            "train_iter\n"
          ],
          "name": "stdout"
        },
        {
          "output_type": "stream",
          "text": [
            "INFO - {'loss': 40.58469772338867, 'step': 21701.0}\n"
          ],
          "name": "stderr"
        },
        {
          "output_type": "stream",
          "text": [
            "test_iter\n"
          ],
          "name": "stdout"
        },
        {
          "output_type": "stream",
          "text": [
            "INFO - {'loss': nan, 'step': 21701.0}\n",
            "INFO - {'loss': 39.59839630126953, 'step': 21750.0, 'steps_per_sec': 1.9173884359667661}\n",
            "INFO - {'loss': 39.37158966064453, 'step': 21800.0, 'steps_per_sec': 2.9230525869781716}\n"
          ],
          "name": "stderr"
        },
        {
          "output_type": "stream",
          "text": [
            "train_iter\n"
          ],
          "name": "stdout"
        },
        {
          "output_type": "stream",
          "text": [
            "INFO - {'loss': 39.66136169433594, 'step': 21801.0}\n"
          ],
          "name": "stderr"
        },
        {
          "output_type": "stream",
          "text": [
            "test_iter\n"
          ],
          "name": "stdout"
        },
        {
          "output_type": "stream",
          "text": [
            "INFO - {'loss': nan, 'step': 21801.0}\n",
            "INFO - {'loss': 43.32321548461914, 'step': 21850.0, 'steps_per_sec': 1.9204036375724198}\n",
            "INFO - {'loss': 37.371849060058594, 'step': 21900.0, 'steps_per_sec': 2.9092723108331464}\n"
          ],
          "name": "stderr"
        },
        {
          "output_type": "stream",
          "text": [
            "train_iter\n"
          ],
          "name": "stdout"
        },
        {
          "output_type": "stream",
          "text": [
            "INFO - {'loss': 39.25570297241211, 'step': 21901.0}\n"
          ],
          "name": "stderr"
        },
        {
          "output_type": "stream",
          "text": [
            "test_iter\n"
          ],
          "name": "stdout"
        },
        {
          "output_type": "stream",
          "text": [
            "INFO - {'loss': nan, 'step': 21901.0}\n",
            "INFO - {'loss': 43.426456451416016, 'step': 21950.0, 'steps_per_sec': 1.9072979243354358}\n",
            "INFO - {'loss': 39.40165328979492, 'step': 22000.0, 'steps_per_sec': 2.917864383820091}\n"
          ],
          "name": "stderr"
        },
        {
          "output_type": "stream",
          "text": [
            "train_iter\n"
          ],
          "name": "stdout"
        },
        {
          "output_type": "stream",
          "text": [
            "INFO - {'loss': 42.086639404296875, 'step': 22001.0}\n"
          ],
          "name": "stderr"
        },
        {
          "output_type": "stream",
          "text": [
            "test_iter\n"
          ],
          "name": "stdout"
        },
        {
          "output_type": "stream",
          "text": [
            "INFO - {'loss': nan, 'step': 22001.0}\n",
            "INFO - {'loss': 41.648773193359375, 'step': 22050.0, 'steps_per_sec': 1.9211184206440204}\n",
            "INFO - {'loss': 38.29205322265625, 'step': 22100.0, 'steps_per_sec': 2.9305015347057464}\n"
          ],
          "name": "stderr"
        },
        {
          "output_type": "stream",
          "text": [
            "train_iter\n"
          ],
          "name": "stdout"
        },
        {
          "output_type": "stream",
          "text": [
            "INFO - {'loss': 41.01571273803711, 'step': 22101.0}\n"
          ],
          "name": "stderr"
        },
        {
          "output_type": "stream",
          "text": [
            "test_iter\n"
          ],
          "name": "stdout"
        },
        {
          "output_type": "stream",
          "text": [
            "INFO - {'loss': nan, 'step': 22101.0}\n",
            "INFO - {'loss': 40.47350311279297, 'step': 22150.0, 'steps_per_sec': 1.9148080815661903}\n",
            "INFO - {'loss': 39.764556884765625, 'step': 22200.0, 'steps_per_sec': 2.898943905713548}\n"
          ],
          "name": "stderr"
        },
        {
          "output_type": "stream",
          "text": [
            "train_iter\n"
          ],
          "name": "stdout"
        },
        {
          "output_type": "stream",
          "text": [
            "INFO - {'loss': 41.277793884277344, 'step': 22201.0}\n"
          ],
          "name": "stderr"
        },
        {
          "output_type": "stream",
          "text": [
            "test_iter\n"
          ],
          "name": "stdout"
        },
        {
          "output_type": "stream",
          "text": [
            "INFO - {'loss': nan, 'step': 22201.0}\n",
            "INFO - {'loss': 43.14330291748047, 'step': 22250.0, 'steps_per_sec': 1.9109275089204096}\n",
            "INFO - {'loss': 39.8452262878418, 'step': 22300.0, 'steps_per_sec': 2.9261247922839173}\n"
          ],
          "name": "stderr"
        },
        {
          "output_type": "stream",
          "text": [
            "train_iter\n"
          ],
          "name": "stdout"
        },
        {
          "output_type": "stream",
          "text": [
            "INFO - {'loss': 39.5527229309082, 'step': 22301.0}\n"
          ],
          "name": "stderr"
        },
        {
          "output_type": "stream",
          "text": [
            "test_iter\n"
          ],
          "name": "stdout"
        },
        {
          "output_type": "stream",
          "text": [
            "INFO - {'loss': nan, 'step': 22301.0}\n",
            "INFO - {'loss': 42.908241271972656, 'step': 22350.0, 'steps_per_sec': 1.9212036896932914}\n",
            "INFO - {'loss': 34.617733001708984, 'step': 22400.0, 'steps_per_sec': 2.9174379278337987}\n"
          ],
          "name": "stderr"
        },
        {
          "output_type": "stream",
          "text": [
            "train_iter\n"
          ],
          "name": "stdout"
        },
        {
          "output_type": "stream",
          "text": [
            "INFO - {'loss': 36.41728973388672, 'step': 22401.0}\n"
          ],
          "name": "stderr"
        },
        {
          "output_type": "stream",
          "text": [
            "test_iter\n"
          ],
          "name": "stdout"
        },
        {
          "output_type": "stream",
          "text": [
            "INFO - {'loss': 42.88593292236328, 'step': 22401.0}\n",
            "INFO - {'loss': 22.895252227783203, 'step': 22450.0, 'steps_per_sec': 1.9140894427409745}\n",
            "INFO - {'loss': 35.993228912353516, 'step': 22500.0, 'steps_per_sec': 2.9110274860198215}\n"
          ],
          "name": "stderr"
        },
        {
          "output_type": "stream",
          "text": [
            "train_iter\n"
          ],
          "name": "stdout"
        },
        {
          "output_type": "stream",
          "text": [
            "INFO - {'loss': nan, 'step': 22501.0}\n"
          ],
          "name": "stderr"
        },
        {
          "output_type": "stream",
          "text": [
            "test_iter\n"
          ],
          "name": "stdout"
        },
        {
          "output_type": "stream",
          "text": [
            "INFO - {'loss': 45.408748626708984, 'step': 22501.0}\n",
            "INFO - {'loss': 34.01613998413086, 'step': 22550.0, 'steps_per_sec': 1.9166692607305456}\n",
            "INFO - {'loss': 40.367713928222656, 'step': 22600.0, 'steps_per_sec': 2.897381748384433}\n"
          ],
          "name": "stderr"
        },
        {
          "output_type": "stream",
          "text": [
            "train_iter\n"
          ],
          "name": "stdout"
        },
        {
          "output_type": "stream",
          "text": [
            "INFO - {'loss': 40.454490661621094, 'step': 22601.0}\n"
          ],
          "name": "stderr"
        },
        {
          "output_type": "stream",
          "text": [
            "test_iter\n"
          ],
          "name": "stdout"
        },
        {
          "output_type": "stream",
          "text": [
            "INFO - {'loss': 43.99137496948242, 'step': 22601.0}\n",
            "INFO - {'loss': 41.999576568603516, 'step': 22650.0, 'steps_per_sec': 1.901722754323426}\n",
            "INFO - {'loss': 39.11642837524414, 'step': 22700.0, 'steps_per_sec': 2.9219394074095457}\n"
          ],
          "name": "stderr"
        },
        {
          "output_type": "stream",
          "text": [
            "train_iter\n"
          ],
          "name": "stdout"
        },
        {
          "output_type": "stream",
          "text": [
            "INFO - {'loss': 40.51814270019531, 'step': 22701.0}\n"
          ],
          "name": "stderr"
        },
        {
          "output_type": "stream",
          "text": [
            "test_iter\n"
          ],
          "name": "stdout"
        },
        {
          "output_type": "stream",
          "text": [
            "INFO - {'loss': 44.74755859375, 'step': 22701.0}\n",
            "INFO - {'loss': 42.62191390991211, 'step': 22750.0, 'steps_per_sec': 1.9228338973374826}\n",
            "INFO - {'loss': 40.09967041015625, 'step': 22800.0, 'steps_per_sec': 2.925188257859322}\n"
          ],
          "name": "stderr"
        },
        {
          "output_type": "stream",
          "text": [
            "train_iter\n"
          ],
          "name": "stdout"
        },
        {
          "output_type": "stream",
          "text": [
            "INFO - {'loss': 41.532352447509766, 'step': 22801.0}\n"
          ],
          "name": "stderr"
        },
        {
          "output_type": "stream",
          "text": [
            "test_iter\n"
          ],
          "name": "stdout"
        },
        {
          "output_type": "stream",
          "text": [
            "INFO - {'loss': 46.02338790893555, 'step': 22801.0}\n",
            "INFO - {'loss': 41.52369689941406, 'step': 22850.0, 'steps_per_sec': 1.906414920323541}\n",
            "INFO - {'loss': 39.99514389038086, 'step': 22900.0, 'steps_per_sec': 2.92809368863247}\n"
          ],
          "name": "stderr"
        },
        {
          "output_type": "stream",
          "text": [
            "train_iter\n"
          ],
          "name": "stdout"
        },
        {
          "output_type": "stream",
          "text": [
            "INFO - {'loss': 41.186614990234375, 'step': 22901.0}\n"
          ],
          "name": "stderr"
        },
        {
          "output_type": "stream",
          "text": [
            "test_iter\n"
          ],
          "name": "stdout"
        },
        {
          "output_type": "stream",
          "text": [
            "INFO - {'loss': 46.91051483154297, 'step': 22901.0}\n",
            "INFO - {'loss': 41.17698669433594, 'step': 22950.0, 'steps_per_sec': 1.919262681691217}\n",
            "INFO - {'loss': 36.8382453918457, 'step': 23000.0, 'steps_per_sec': 2.9291708544348944}\n"
          ],
          "name": "stderr"
        },
        {
          "output_type": "stream",
          "text": [
            "train_iter\n"
          ],
          "name": "stdout"
        },
        {
          "output_type": "stream",
          "text": [
            "INFO - {'loss': 40.5556526184082, 'step': 23001.0}\n"
          ],
          "name": "stderr"
        },
        {
          "output_type": "stream",
          "text": [
            "test_iter\n"
          ],
          "name": "stdout"
        },
        {
          "output_type": "stream",
          "text": [
            "INFO - {'loss': 48.16373825073242, 'step': 23001.0}\n",
            "INFO - {'loss': 40.30147933959961, 'step': 23050.0, 'steps_per_sec': 1.923761862074584}\n",
            "INFO - {'loss': 39.73712158203125, 'step': 23100.0, 'steps_per_sec': 2.929847463385848}\n"
          ],
          "name": "stderr"
        },
        {
          "output_type": "stream",
          "text": [
            "train_iter\n"
          ],
          "name": "stdout"
        },
        {
          "output_type": "stream",
          "text": [
            "INFO - {'loss': 41.10956573486328, 'step': 23101.0}\n"
          ],
          "name": "stderr"
        },
        {
          "output_type": "stream",
          "text": [
            "test_iter\n"
          ],
          "name": "stdout"
        },
        {
          "output_type": "stream",
          "text": [
            "INFO - {'loss': 47.45443344116211, 'step': 23101.0}\n",
            "INFO - {'loss': 42.243064880371094, 'step': 23150.0, 'steps_per_sec': 1.9219371399630427}\n",
            "INFO - {'loss': 39.77181625366211, 'step': 23200.0, 'steps_per_sec': 2.9385347092581795}\n"
          ],
          "name": "stderr"
        },
        {
          "output_type": "stream",
          "text": [
            "train_iter\n"
          ],
          "name": "stdout"
        },
        {
          "output_type": "stream",
          "text": [
            "INFO - {'loss': 41.22433090209961, 'step': 23201.0}\n"
          ],
          "name": "stderr"
        },
        {
          "output_type": "stream",
          "text": [
            "test_iter\n"
          ],
          "name": "stdout"
        },
        {
          "output_type": "stream",
          "text": [
            "INFO - {'loss': 47.72235870361328, 'step': 23201.0}\n",
            "INFO - {'loss': 40.51455307006836, 'step': 23250.0, 'steps_per_sec': 1.924694079109215}\n",
            "INFO - {'loss': 40.822975158691406, 'step': 23300.0, 'steps_per_sec': 2.9357812549324236}\n"
          ],
          "name": "stderr"
        },
        {
          "output_type": "stream",
          "text": [
            "train_iter\n"
          ],
          "name": "stdout"
        },
        {
          "output_type": "stream",
          "text": [
            "INFO - {'loss': 39.989707946777344, 'step': 23301.0}\n"
          ],
          "name": "stderr"
        },
        {
          "output_type": "stream",
          "text": [
            "test_iter\n"
          ],
          "name": "stdout"
        },
        {
          "output_type": "stream",
          "text": [
            "INFO - {'loss': 47.60911178588867, 'step': 23301.0}\n",
            "INFO - {'loss': 38.42839813232422, 'step': 23350.0, 'steps_per_sec': 1.9227737631056598}\n",
            "INFO - {'loss': 39.063995361328125, 'step': 23400.0, 'steps_per_sec': 2.9305181195530916}\n"
          ],
          "name": "stderr"
        },
        {
          "output_type": "stream",
          "text": [
            "train_iter\n"
          ],
          "name": "stdout"
        },
        {
          "output_type": "stream",
          "text": [
            "INFO - {'loss': 39.82366180419922, 'step': 23401.0}\n"
          ],
          "name": "stderr"
        },
        {
          "output_type": "stream",
          "text": [
            "test_iter\n"
          ],
          "name": "stdout"
        },
        {
          "output_type": "stream",
          "text": [
            "INFO - {'loss': 48.19722366333008, 'step': 23401.0}\n",
            "INFO - {'loss': 36.99193572998047, 'step': 23450.0, 'steps_per_sec': 0.8715609221272415}\n",
            "INFO - {'loss': 38.44414138793945, 'step': 23500.0, 'steps_per_sec': 2.8694797680489987}\n"
          ],
          "name": "stderr"
        },
        {
          "output_type": "stream",
          "text": [
            "train_iter\n"
          ],
          "name": "stdout"
        },
        {
          "output_type": "stream",
          "text": [
            "INFO - {'loss': 37.137176513671875, 'step': 23501.0}\n"
          ],
          "name": "stderr"
        },
        {
          "output_type": "stream",
          "text": [
            "test_iter\n"
          ],
          "name": "stdout"
        },
        {
          "output_type": "stream",
          "text": [
            "INFO - {'loss': 48.29514694213867, 'step': 23501.0}\n",
            "INFO - {'loss': 34.6380615234375, 'step': 23550.0, 'steps_per_sec': 1.8906799210822307}\n",
            "INFO - {'loss': 36.98284149169922, 'step': 23600.0, 'steps_per_sec': 2.9483862986764278}\n"
          ],
          "name": "stderr"
        },
        {
          "output_type": "stream",
          "text": [
            "train_iter\n"
          ],
          "name": "stdout"
        },
        {
          "output_type": "stream",
          "text": [
            "INFO - {'loss': 39.36252212524414, 'step': 23601.0}\n"
          ],
          "name": "stderr"
        },
        {
          "output_type": "stream",
          "text": [
            "test_iter\n"
          ],
          "name": "stdout"
        },
        {
          "output_type": "stream",
          "text": [
            "INFO - {'loss': 48.3383674621582, 'step': 23601.0}\n",
            "INFO - {'loss': 38.44740676879883, 'step': 23650.0, 'steps_per_sec': 1.9330405138229985}\n",
            "INFO - {'loss': 39.05673599243164, 'step': 23700.0, 'steps_per_sec': 2.9148775533682416}\n"
          ],
          "name": "stderr"
        },
        {
          "output_type": "stream",
          "text": [
            "train_iter\n"
          ],
          "name": "stdout"
        },
        {
          "output_type": "stream",
          "text": [
            "INFO - {'loss': 40.31170654296875, 'step': 23701.0}\n"
          ],
          "name": "stderr"
        },
        {
          "output_type": "stream",
          "text": [
            "test_iter\n"
          ],
          "name": "stdout"
        },
        {
          "output_type": "stream",
          "text": [
            "INFO - {'loss': 46.66582107543945, 'step': 23701.0}\n",
            "INFO - {'loss': 38.534393310546875, 'step': 23750.0, 'steps_per_sec': 1.9098303225542472}\n",
            "INFO - {'loss': 39.05093002319336, 'step': 23800.0, 'steps_per_sec': 2.915860564505284}\n"
          ],
          "name": "stderr"
        },
        {
          "output_type": "stream",
          "text": [
            "train_iter\n"
          ],
          "name": "stdout"
        },
        {
          "output_type": "stream",
          "text": [
            "INFO - {'loss': 40.88725662231445, 'step': 23801.0}\n"
          ],
          "name": "stderr"
        },
        {
          "output_type": "stream",
          "text": [
            "test_iter\n"
          ],
          "name": "stdout"
        },
        {
          "output_type": "stream",
          "text": [
            "INFO - {'loss': 46.85410690307617, 'step': 23801.0}\n",
            "INFO - {'loss': 40.94122314453125, 'step': 23850.0, 'steps_per_sec': 1.9160073571177123}\n",
            "INFO - {'loss': 42.37651062011719, 'step': 23900.0, 'steps_per_sec': 2.924019186756606}\n"
          ],
          "name": "stderr"
        },
        {
          "output_type": "stream",
          "text": [
            "train_iter\n"
          ],
          "name": "stdout"
        },
        {
          "output_type": "stream",
          "text": [
            "INFO - {'loss': 41.55406951904297, 'step': 23901.0}\n"
          ],
          "name": "stderr"
        },
        {
          "output_type": "stream",
          "text": [
            "test_iter\n"
          ],
          "name": "stdout"
        },
        {
          "output_type": "stream",
          "text": [
            "INFO - {'loss': 46.13594055175781, 'step': 23901.0}\n",
            "INFO - {'loss': 40.36967468261719, 'step': 23950.0, 'steps_per_sec': 1.918230454650689}\n",
            "INFO - {'loss': 41.444313049316406, 'step': 24000.0, 'steps_per_sec': 2.9332410690506934}\n"
          ],
          "name": "stderr"
        },
        {
          "output_type": "stream",
          "text": [
            "train_iter\n"
          ],
          "name": "stdout"
        },
        {
          "output_type": "stream",
          "text": [
            "INFO - {'loss': 41.94770431518555, 'step': 24001.0}\n"
          ],
          "name": "stderr"
        },
        {
          "output_type": "stream",
          "text": [
            "test_iter\n"
          ],
          "name": "stdout"
        },
        {
          "output_type": "stream",
          "text": [
            "INFO - {'loss': 45.63649368286133, 'step': 24001.0}\n",
            "INFO - {'loss': 42.035789489746094, 'step': 24050.0, 'steps_per_sec': 1.9271290719551073}\n",
            "INFO - {'loss': 40.336124420166016, 'step': 24100.0, 'steps_per_sec': 2.9253440468583554}\n"
          ],
          "name": "stderr"
        },
        {
          "output_type": "stream",
          "text": [
            "train_iter\n"
          ],
          "name": "stdout"
        },
        {
          "output_type": "stream",
          "text": [
            "INFO - {'loss': 42.220272064208984, 'step': 24101.0}\n"
          ],
          "name": "stderr"
        },
        {
          "output_type": "stream",
          "text": [
            "test_iter\n"
          ],
          "name": "stdout"
        },
        {
          "output_type": "stream",
          "text": [
            "INFO - {'loss': 45.41582107543945, 'step': 24101.0}\n",
            "INFO - {'loss': 37.79180908203125, 'step': 24150.0, 'steps_per_sec': 1.9256447931170892}\n",
            "INFO - {'loss': 40.643280029296875, 'step': 24200.0, 'steps_per_sec': 2.919111709509611}\n"
          ],
          "name": "stderr"
        },
        {
          "output_type": "stream",
          "text": [
            "train_iter\n"
          ],
          "name": "stdout"
        },
        {
          "output_type": "stream",
          "text": [
            "INFO - {'loss': 42.2487678527832, 'step': 24201.0}\n"
          ],
          "name": "stderr"
        },
        {
          "output_type": "stream",
          "text": [
            "test_iter\n"
          ],
          "name": "stdout"
        },
        {
          "output_type": "stream",
          "text": [
            "INFO - {'loss': 45.67638397216797, 'step': 24201.0}\n",
            "INFO - {'loss': 39.691307067871094, 'step': 24250.0, 'steps_per_sec': 1.9052808622430875}\n",
            "INFO - {'loss': 39.2471809387207, 'step': 24300.0, 'steps_per_sec': 2.9227146296434294}\n"
          ],
          "name": "stderr"
        },
        {
          "output_type": "stream",
          "text": [
            "train_iter\n"
          ],
          "name": "stdout"
        },
        {
          "output_type": "stream",
          "text": [
            "INFO - {'loss': 41.17073059082031, 'step': 24301.0}\n"
          ],
          "name": "stderr"
        },
        {
          "output_type": "stream",
          "text": [
            "test_iter\n"
          ],
          "name": "stdout"
        },
        {
          "output_type": "stream",
          "text": [
            "INFO - {'loss': 45.8360595703125, 'step': 24301.0}\n",
            "INFO - {'loss': 42.44489288330078, 'step': 24350.0, 'steps_per_sec': 1.924165464731507}\n",
            "INFO - {'loss': 38.26909637451172, 'step': 24400.0, 'steps_per_sec': 2.928627223863736}\n"
          ],
          "name": "stderr"
        },
        {
          "output_type": "stream",
          "text": [
            "train_iter\n"
          ],
          "name": "stdout"
        },
        {
          "output_type": "stream",
          "text": [
            "INFO - {'loss': 40.640750885009766, 'step': 24401.0}\n"
          ],
          "name": "stderr"
        },
        {
          "output_type": "stream",
          "text": [
            "test_iter\n"
          ],
          "name": "stdout"
        },
        {
          "output_type": "stream",
          "text": [
            "INFO - {'loss': 45.60036087036133, 'step': 24401.0}\n",
            "INFO - {'loss': 40.85562515258789, 'step': 24450.0, 'steps_per_sec': 1.91359483578171}\n",
            "INFO - {'loss': 37.603206634521484, 'step': 24500.0, 'steps_per_sec': 2.9173845179935602}\n"
          ],
          "name": "stderr"
        },
        {
          "output_type": "stream",
          "text": [
            "train_iter\n"
          ],
          "name": "stdout"
        },
        {
          "output_type": "stream",
          "text": [
            "INFO - {'loss': 39.42362976074219, 'step': 24501.0}\n"
          ],
          "name": "stderr"
        },
        {
          "output_type": "stream",
          "text": [
            "test_iter\n"
          ],
          "name": "stdout"
        },
        {
          "output_type": "stream",
          "text": [
            "INFO - {'loss': 45.493446350097656, 'step': 24501.0}\n",
            "INFO - {'loss': 36.225345611572266, 'step': 24550.0, 'steps_per_sec': 1.9209108850615368}\n",
            "INFO - {'loss': 38.13823699951172, 'step': 24600.0, 'steps_per_sec': 2.927924484736951}\n"
          ],
          "name": "stderr"
        },
        {
          "output_type": "stream",
          "text": [
            "train_iter\n"
          ],
          "name": "stdout"
        },
        {
          "output_type": "stream",
          "text": [
            "INFO - {'loss': 39.592124938964844, 'step': 24601.0}\n"
          ],
          "name": "stderr"
        },
        {
          "output_type": "stream",
          "text": [
            "test_iter\n"
          ],
          "name": "stdout"
        },
        {
          "output_type": "stream",
          "text": [
            "INFO - {'loss': 46.13507080078125, 'step': 24601.0}\n",
            "INFO - {'loss': 39.57352066040039, 'step': 24650.0, 'steps_per_sec': 1.9234329944875856}\n",
            "INFO - {'loss': 42.18068313598633, 'step': 24700.0, 'steps_per_sec': 2.9398936124428925}\n"
          ],
          "name": "stderr"
        },
        {
          "output_type": "stream",
          "text": [
            "train_iter\n"
          ],
          "name": "stdout"
        },
        {
          "output_type": "stream",
          "text": [
            "INFO - {'loss': 41.905189514160156, 'step': 24701.0}\n"
          ],
          "name": "stderr"
        },
        {
          "output_type": "stream",
          "text": [
            "test_iter\n"
          ],
          "name": "stdout"
        },
        {
          "output_type": "stream",
          "text": [
            "INFO - {'loss': 46.82098388671875, 'step': 24701.0}\n",
            "INFO - {'loss': 38.64860916137695, 'step': 24750.0, 'steps_per_sec': 1.9268700078033039}\n",
            "INFO - {'loss': 40.03831481933594, 'step': 24800.0, 'steps_per_sec': 2.9338318480807737}\n"
          ],
          "name": "stderr"
        },
        {
          "output_type": "stream",
          "text": [
            "train_iter\n"
          ],
          "name": "stdout"
        },
        {
          "output_type": "stream",
          "text": [
            "INFO - {'loss': 41.88892364501953, 'step': 24801.0}\n"
          ],
          "name": "stderr"
        },
        {
          "output_type": "stream",
          "text": [
            "test_iter\n"
          ],
          "name": "stdout"
        },
        {
          "output_type": "stream",
          "text": [
            "INFO - {'loss': 47.08338928222656, 'step': 24801.0}\n",
            "INFO - {'loss': 39.82289123535156, 'step': 24850.0, 'steps_per_sec': 1.9215866753697757}\n",
            "INFO - {'loss': 35.96775817871094, 'step': 24900.0, 'steps_per_sec': 2.9211973923969543}\n"
          ],
          "name": "stderr"
        },
        {
          "output_type": "stream",
          "text": [
            "train_iter\n"
          ],
          "name": "stdout"
        },
        {
          "output_type": "stream",
          "text": [
            "INFO - {'loss': 38.85508346557617, 'step': 24901.0}\n"
          ],
          "name": "stderr"
        },
        {
          "output_type": "stream",
          "text": [
            "test_iter\n"
          ],
          "name": "stdout"
        },
        {
          "output_type": "stream",
          "text": [
            "INFO - {'loss': 47.60152816772461, 'step': 24901.0}\n",
            "INFO - {'loss': 36.656463623046875, 'step': 24950.0, 'steps_per_sec': 1.9086334320523732}\n",
            "INFO - {'loss': 34.100650787353516, 'step': 25000.0, 'steps_per_sec': 2.9061166883551834}\n"
          ],
          "name": "stderr"
        },
        {
          "output_type": "stream",
          "text": [
            "train_iter\n"
          ],
          "name": "stdout"
        },
        {
          "output_type": "stream",
          "text": [
            "INFO - {'loss': 35.94518280029297, 'step': 25001.0}\n"
          ],
          "name": "stderr"
        },
        {
          "output_type": "stream",
          "text": [
            "test_iter\n"
          ],
          "name": "stdout"
        },
        {
          "output_type": "stream",
          "text": [
            "INFO - {'loss': 47.4718017578125, 'step': 25001.0}\n",
            "INFO - {'loss': 31.100330352783203, 'step': 25050.0, 'steps_per_sec': 1.9042867518320872}\n",
            "INFO - {'loss': 29.925443649291992, 'step': 25100.0, 'steps_per_sec': 2.9108783089269874}\n"
          ],
          "name": "stderr"
        },
        {
          "output_type": "stream",
          "text": [
            "train_iter\n"
          ],
          "name": "stdout"
        },
        {
          "output_type": "stream",
          "text": [
            "INFO - {'loss': nan, 'step': 25101.0}\n"
          ],
          "name": "stderr"
        },
        {
          "output_type": "stream",
          "text": [
            "test_iter\n"
          ],
          "name": "stdout"
        },
        {
          "output_type": "stream",
          "text": [
            "INFO - {'loss': 50.41371536254883, 'step': 25101.0}\n",
            "INFO - {'loss': 42.5836296081543, 'step': 25150.0, 'steps_per_sec': 1.923524255923624}\n",
            "INFO - {'loss': nan, 'step': 25200.0, 'steps_per_sec': 2.967587953632174}\n"
          ],
          "name": "stderr"
        },
        {
          "output_type": "stream",
          "text": [
            "train_iter\n"
          ],
          "name": "stdout"
        },
        {
          "output_type": "stream",
          "text": [
            "INFO - {'loss': nan, 'step': 25201.0}\n"
          ],
          "name": "stderr"
        },
        {
          "output_type": "stream",
          "text": [
            "test_iter\n"
          ],
          "name": "stdout"
        },
        {
          "output_type": "stream",
          "text": [
            "INFO - {'loss': 48.71920394897461, 'step': 25201.0}\n",
            "INFO - {'loss': nan, 'step': 25250.0, 'steps_per_sec': 1.9444617597479432}\n",
            "INFO - {'loss': nan, 'step': 25300.0, 'steps_per_sec': 3.0526840522254406}\n"
          ],
          "name": "stderr"
        },
        {
          "output_type": "stream",
          "text": [
            "train_iter\n"
          ],
          "name": "stdout"
        },
        {
          "output_type": "stream",
          "text": [
            "INFO - {'loss': nan, 'step': 25301.0}\n"
          ],
          "name": "stderr"
        },
        {
          "output_type": "stream",
          "text": [
            "test_iter\n"
          ],
          "name": "stdout"
        },
        {
          "output_type": "stream",
          "text": [
            "INFO - {'loss': 52.25316619873047, 'step': 25301.0}\n",
            "INFO - {'loss': 38.15925979614258, 'step': 25350.0, 'steps_per_sec': 1.9196894564858722}\n",
            "INFO - {'loss': 39.95501708984375, 'step': 25400.0, 'steps_per_sec': 2.912042029009918}\n"
          ],
          "name": "stderr"
        },
        {
          "output_type": "stream",
          "text": [
            "train_iter\n"
          ],
          "name": "stdout"
        },
        {
          "output_type": "stream",
          "text": [
            "INFO - {'loss': 39.23122787475586, 'step': 25401.0}\n"
          ],
          "name": "stderr"
        },
        {
          "output_type": "stream",
          "text": [
            "test_iter\n"
          ],
          "name": "stdout"
        },
        {
          "output_type": "stream",
          "text": [
            "INFO - {'loss': 46.52110290527344, 'step': 25401.0}\n",
            "INFO - {'loss': 41.2427864074707, 'step': 25450.0, 'steps_per_sec': 1.9123187441070748}\n",
            "INFO - {'loss': 39.27867889404297, 'step': 25500.0, 'steps_per_sec': 2.917748035754946}\n"
          ],
          "name": "stderr"
        },
        {
          "output_type": "stream",
          "text": [
            "train_iter\n"
          ],
          "name": "stdout"
        },
        {
          "output_type": "stream",
          "text": [
            "INFO - {'loss': 40.707115173339844, 'step': 25501.0}\n"
          ],
          "name": "stderr"
        },
        {
          "output_type": "stream",
          "text": [
            "test_iter\n"
          ],
          "name": "stdout"
        },
        {
          "output_type": "stream",
          "text": [
            "INFO - {'loss': 47.49415969848633, 'step': 25501.0}\n",
            "INFO - {'loss': 38.09395217895508, 'step': 25550.0, 'steps_per_sec': 1.9152913863533716}\n",
            "INFO - {'loss': 37.10112380981445, 'step': 25600.0, 'steps_per_sec': 2.921468212076811}\n"
          ],
          "name": "stderr"
        },
        {
          "output_type": "stream",
          "text": [
            "train_iter\n"
          ],
          "name": "stdout"
        },
        {
          "output_type": "stream",
          "text": [
            "INFO - {'loss': 40.010704040527344, 'step': 25601.0}\n"
          ],
          "name": "stderr"
        },
        {
          "output_type": "stream",
          "text": [
            "test_iter\n"
          ],
          "name": "stdout"
        },
        {
          "output_type": "stream",
          "text": [
            "INFO - {'loss': 47.6807746887207, 'step': 25601.0}\n",
            "INFO - {'loss': 43.15898513793945, 'step': 25650.0, 'steps_per_sec': 1.9173608786709382}\n",
            "INFO - {'loss': 38.067039489746094, 'step': 25700.0, 'steps_per_sec': 2.918487202630562}\n"
          ],
          "name": "stderr"
        },
        {
          "output_type": "stream",
          "text": [
            "train_iter\n"
          ],
          "name": "stdout"
        },
        {
          "output_type": "stream",
          "text": [
            "INFO - {'loss': 38.90036392211914, 'step': 25701.0}\n"
          ],
          "name": "stderr"
        },
        {
          "output_type": "stream",
          "text": [
            "test_iter\n"
          ],
          "name": "stdout"
        },
        {
          "output_type": "stream",
          "text": [
            "INFO - {'loss': 47.03551483154297, 'step': 25701.0}\n",
            "INFO - {'loss': 37.64447784423828, 'step': 25750.0, 'steps_per_sec': 1.9119071795407903}\n",
            "INFO - {'loss': 38.22211456298828, 'step': 25800.0, 'steps_per_sec': 2.915931879369036}\n"
          ],
          "name": "stderr"
        },
        {
          "output_type": "stream",
          "text": [
            "train_iter\n"
          ],
          "name": "stdout"
        },
        {
          "output_type": "stream",
          "text": [
            "INFO - {'loss': 38.83699417114258, 'step': 25801.0}\n"
          ],
          "name": "stderr"
        },
        {
          "output_type": "stream",
          "text": [
            "test_iter\n"
          ],
          "name": "stdout"
        },
        {
          "output_type": "stream",
          "text": [
            "INFO - {'loss': 47.23811721801758, 'step': 25801.0}\n",
            "INFO - {'loss': 39.42454147338867, 'step': 25850.0, 'steps_per_sec': 1.9150985912982328}\n",
            "INFO - {'loss': 37.362640380859375, 'step': 25900.0, 'steps_per_sec': 2.924924947709424}\n"
          ],
          "name": "stderr"
        },
        {
          "output_type": "stream",
          "text": [
            "train_iter\n"
          ],
          "name": "stdout"
        },
        {
          "output_type": "stream",
          "text": [
            "INFO - {'loss': 39.241477966308594, 'step': 25901.0}\n"
          ],
          "name": "stderr"
        },
        {
          "output_type": "stream",
          "text": [
            "test_iter\n"
          ],
          "name": "stdout"
        },
        {
          "output_type": "stream",
          "text": [
            "INFO - {'loss': 47.03261947631836, 'step': 25901.0}\n",
            "INFO - {'loss': 42.63985061645508, 'step': 25950.0, 'steps_per_sec': 1.9084240522845175}\n",
            "INFO - {'loss': 39.02207946777344, 'step': 26000.0, 'steps_per_sec': 2.914897040983762}\n"
          ],
          "name": "stderr"
        },
        {
          "output_type": "stream",
          "text": [
            "train_iter\n"
          ],
          "name": "stdout"
        },
        {
          "output_type": "stream",
          "text": [
            "INFO - {'loss': 41.55815505981445, 'step': 26001.0}\n"
          ],
          "name": "stderr"
        },
        {
          "output_type": "stream",
          "text": [
            "test_iter\n"
          ],
          "name": "stdout"
        },
        {
          "output_type": "stream",
          "text": [
            "INFO - {'loss': 46.42033767700195, 'step': 26001.0}\n",
            "INFO - {'loss': 46.18662643432617, 'step': 26050.0, 'steps_per_sec': 1.9141768494726406}\n",
            "INFO - {'loss': 42.38400650024414, 'step': 26100.0, 'steps_per_sec': 2.922912277941145}\n"
          ],
          "name": "stderr"
        },
        {
          "output_type": "stream",
          "text": [
            "train_iter\n"
          ],
          "name": "stdout"
        },
        {
          "output_type": "stream",
          "text": [
            "INFO - {'loss': 41.127742767333984, 'step': 26101.0}\n"
          ],
          "name": "stderr"
        },
        {
          "output_type": "stream",
          "text": [
            "test_iter\n"
          ],
          "name": "stdout"
        },
        {
          "output_type": "stream",
          "text": [
            "INFO - {'loss': 45.803279876708984, 'step': 26101.0}\n",
            "INFO - {'loss': 41.036773681640625, 'step': 26150.0, 'steps_per_sec': 1.9159501696840557}\n",
            "INFO - {'loss': 38.35914993286133, 'step': 26200.0, 'steps_per_sec': 2.907078001465937}\n"
          ],
          "name": "stderr"
        },
        {
          "output_type": "stream",
          "text": [
            "train_iter\n"
          ],
          "name": "stdout"
        },
        {
          "output_type": "stream",
          "text": [
            "INFO - {'loss': 40.56740951538086, 'step': 26201.0}\n"
          ],
          "name": "stderr"
        },
        {
          "output_type": "stream",
          "text": [
            "test_iter\n"
          ],
          "name": "stdout"
        },
        {
          "output_type": "stream",
          "text": [
            "INFO - {'loss': 44.86993408203125, 'step': 26201.0}\n",
            "INFO - {'loss': 38.48478698730469, 'step': 26250.0, 'steps_per_sec': 1.9081982758380664}\n",
            "INFO - {'loss': 39.31330871582031, 'step': 26300.0, 'steps_per_sec': 2.9234036630227602}\n"
          ],
          "name": "stderr"
        },
        {
          "output_type": "stream",
          "text": [
            "train_iter\n"
          ],
          "name": "stdout"
        },
        {
          "output_type": "stream",
          "text": [
            "INFO - {'loss': 37.86347961425781, 'step': 26301.0}\n"
          ],
          "name": "stderr"
        },
        {
          "output_type": "stream",
          "text": [
            "test_iter\n"
          ],
          "name": "stdout"
        },
        {
          "output_type": "stream",
          "text": [
            "INFO - {'loss': 44.191566467285156, 'step': 26301.0}\n",
            "INFO - {'loss': 37.5032958984375, 'step': 26350.0, 'steps_per_sec': 1.9195352882860726}\n",
            "INFO - {'loss': 36.959312438964844, 'step': 26400.0, 'steps_per_sec': 2.9188083802003337}\n"
          ],
          "name": "stderr"
        },
        {
          "output_type": "stream",
          "text": [
            "train_iter\n"
          ],
          "name": "stdout"
        },
        {
          "output_type": "stream",
          "text": [
            "INFO - {'loss': 36.43817138671875, 'step': 26401.0}\n"
          ],
          "name": "stderr"
        },
        {
          "output_type": "stream",
          "text": [
            "test_iter\n"
          ],
          "name": "stdout"
        },
        {
          "output_type": "stream",
          "text": [
            "INFO - {'loss': 43.29566192626953, 'step': 26401.0}\n",
            "INFO - {'loss': 35.01448440551758, 'step': 26450.0, 'steps_per_sec': 1.9111939905480126}\n",
            "INFO - {'loss': 36.43014144897461, 'step': 26500.0, 'steps_per_sec': 2.912952441129324}\n"
          ],
          "name": "stderr"
        },
        {
          "output_type": "stream",
          "text": [
            "train_iter\n"
          ],
          "name": "stdout"
        },
        {
          "output_type": "stream",
          "text": [
            "INFO - {'loss': nan, 'step': 26501.0}\n"
          ],
          "name": "stderr"
        },
        {
          "output_type": "stream",
          "text": [
            "test_iter\n"
          ],
          "name": "stdout"
        },
        {
          "output_type": "stream",
          "text": [
            "INFO - {'loss': 41.87353515625, 'step': 26501.0}\n",
            "INFO - {'loss': 35.2639274597168, 'step': 26550.0, 'steps_per_sec': 1.9092060349661628}\n",
            "INFO - {'loss': 41.256656646728516, 'step': 26600.0, 'steps_per_sec': 2.907400501811178}\n"
          ],
          "name": "stderr"
        },
        {
          "output_type": "stream",
          "text": [
            "train_iter\n"
          ],
          "name": "stdout"
        },
        {
          "output_type": "stream",
          "text": [
            "INFO - {'loss': 39.9106559753418, 'step': 26601.0}\n"
          ],
          "name": "stderr"
        },
        {
          "output_type": "stream",
          "text": [
            "test_iter\n"
          ],
          "name": "stdout"
        },
        {
          "output_type": "stream",
          "text": [
            "INFO - {'loss': nan, 'step': 26601.0}\n",
            "INFO - {'loss': 42.18146896362305, 'step': 26650.0, 'steps_per_sec': 1.9078845835503542}\n",
            "INFO - {'loss': 38.637062072753906, 'step': 26700.0, 'steps_per_sec': 2.9250491716455267}\n"
          ],
          "name": "stderr"
        },
        {
          "output_type": "stream",
          "text": [
            "train_iter\n"
          ],
          "name": "stdout"
        },
        {
          "output_type": "stream",
          "text": [
            "INFO - {'loss': 40.63864517211914, 'step': 26701.0}\n"
          ],
          "name": "stderr"
        },
        {
          "output_type": "stream",
          "text": [
            "test_iter\n"
          ],
          "name": "stdout"
        },
        {
          "output_type": "stream",
          "text": [
            "INFO - {'loss': nan, 'step': 26701.0}\n",
            "INFO - {'loss': 39.51149368286133, 'step': 26750.0, 'steps_per_sec': 1.93083580836666}\n",
            "INFO - {'loss': 39.54267501831055, 'step': 26800.0, 'steps_per_sec': 2.9163262620537096}\n"
          ],
          "name": "stderr"
        },
        {
          "output_type": "stream",
          "text": [
            "train_iter\n"
          ],
          "name": "stdout"
        },
        {
          "output_type": "stream",
          "text": [
            "INFO - {'loss': 41.38949966430664, 'step': 26801.0}\n"
          ],
          "name": "stderr"
        },
        {
          "output_type": "stream",
          "text": [
            "test_iter\n"
          ],
          "name": "stdout"
        },
        {
          "output_type": "stream",
          "text": [
            "INFO - {'loss': 41.56584548950195, 'step': 26801.0}\n",
            "INFO - {'loss': 41.69296646118164, 'step': 26850.0, 'steps_per_sec': 1.9090961757521467}\n",
            "INFO - {'loss': 39.25646209716797, 'step': 26900.0, 'steps_per_sec': 2.931117961972696}\n"
          ],
          "name": "stderr"
        },
        {
          "output_type": "stream",
          "text": [
            "train_iter\n"
          ],
          "name": "stdout"
        },
        {
          "output_type": "stream",
          "text": [
            "INFO - {'loss': 40.359764099121094, 'step': 26901.0}\n"
          ],
          "name": "stderr"
        },
        {
          "output_type": "stream",
          "text": [
            "test_iter\n"
          ],
          "name": "stdout"
        },
        {
          "output_type": "stream",
          "text": [
            "INFO - {'loss': nan, 'step': 26901.0}\n",
            "INFO - {'loss': 38.171783447265625, 'step': 26950.0, 'steps_per_sec': 1.9274555377794804}\n",
            "INFO - {'loss': 41.651004791259766, 'step': 27000.0, 'steps_per_sec': 2.9229864640551546}\n"
          ],
          "name": "stderr"
        },
        {
          "output_type": "stream",
          "text": [
            "train_iter\n"
          ],
          "name": "stdout"
        },
        {
          "output_type": "stream",
          "text": [
            "INFO - {'loss': 40.76750183105469, 'step': 27001.0}\n"
          ],
          "name": "stderr"
        },
        {
          "output_type": "stream",
          "text": [
            "test_iter\n"
          ],
          "name": "stdout"
        },
        {
          "output_type": "stream",
          "text": [
            "INFO - {'loss': 46.38166809082031, 'step': 27001.0}\n",
            "INFO - {'loss': 39.220054626464844, 'step': 27050.0, 'steps_per_sec': 1.9098727435742267}\n",
            "INFO - {'loss': 41.6934928894043, 'step': 27100.0, 'steps_per_sec': 2.9059539609424863}\n"
          ],
          "name": "stderr"
        },
        {
          "output_type": "stream",
          "text": [
            "train_iter\n"
          ],
          "name": "stdout"
        },
        {
          "output_type": "stream",
          "text": [
            "INFO - {'loss': 40.46786880493164, 'step': 27101.0}\n"
          ],
          "name": "stderr"
        },
        {
          "output_type": "stream",
          "text": [
            "test_iter\n"
          ],
          "name": "stdout"
        },
        {
          "output_type": "stream",
          "text": [
            "INFO - {'loss': 45.58386993408203, 'step': 27101.0}\n",
            "INFO - {'loss': 39.15972137451172, 'step': 27150.0, 'steps_per_sec': 1.9160389018156054}\n",
            "INFO - {'loss': 39.597023010253906, 'step': 27200.0, 'steps_per_sec': 2.9310100172760523}\n"
          ],
          "name": "stderr"
        },
        {
          "output_type": "stream",
          "text": [
            "train_iter\n"
          ],
          "name": "stdout"
        },
        {
          "output_type": "stream",
          "text": [
            "INFO - {'loss': 40.292476654052734, 'step': 27201.0}\n"
          ],
          "name": "stderr"
        },
        {
          "output_type": "stream",
          "text": [
            "test_iter\n"
          ],
          "name": "stdout"
        },
        {
          "output_type": "stream",
          "text": [
            "INFO - {'loss': 45.56531524658203, 'step': 27201.0}\n",
            "INFO - {'loss': 39.529075622558594, 'step': 27250.0, 'steps_per_sec': 1.917924400534079}\n",
            "INFO - {'loss': 41.94788360595703, 'step': 27300.0, 'steps_per_sec': 2.9171316594996255}\n"
          ],
          "name": "stderr"
        },
        {
          "output_type": "stream",
          "text": [
            "train_iter\n"
          ],
          "name": "stdout"
        },
        {
          "output_type": "stream",
          "text": [
            "INFO - {'loss': 39.809322357177734, 'step': 27301.0}\n"
          ],
          "name": "stderr"
        },
        {
          "output_type": "stream",
          "text": [
            "test_iter\n"
          ],
          "name": "stdout"
        },
        {
          "output_type": "stream",
          "text": [
            "INFO - {'loss': 46.02558898925781, 'step': 27301.0}\n",
            "INFO - {'loss': 38.25231170654297, 'step': 27350.0, 'steps_per_sec': 1.9206354602479805}\n",
            "INFO - {'loss': 39.169403076171875, 'step': 27400.0, 'steps_per_sec': 2.928400095969716}\n"
          ],
          "name": "stderr"
        },
        {
          "output_type": "stream",
          "text": [
            "train_iter\n"
          ],
          "name": "stdout"
        },
        {
          "output_type": "stream",
          "text": [
            "INFO - {'loss': 38.34149932861328, 'step': 27401.0}\n"
          ],
          "name": "stderr"
        },
        {
          "output_type": "stream",
          "text": [
            "test_iter\n"
          ],
          "name": "stdout"
        },
        {
          "output_type": "stream",
          "text": [
            "INFO - {'loss': 46.81755447387695, 'step': 27401.0}\n",
            "INFO - {'loss': 38.019615173339844, 'step': 27450.0, 'steps_per_sec': 1.900307317317474}\n",
            "INFO - {'loss': 40.50468826293945, 'step': 27500.0, 'steps_per_sec': 2.905974940117629}\n"
          ],
          "name": "stderr"
        },
        {
          "output_type": "stream",
          "text": [
            "train_iter\n"
          ],
          "name": "stdout"
        },
        {
          "output_type": "stream",
          "text": [
            "INFO - {'loss': nan, 'step': 27501.0}\n"
          ],
          "name": "stderr"
        },
        {
          "output_type": "stream",
          "text": [
            "test_iter\n"
          ],
          "name": "stdout"
        },
        {
          "output_type": "stream",
          "text": [
            "INFO - {'loss': 46.90465545654297, 'step': 27501.0}\n",
            "INFO - {'loss': 35.985050201416016, 'step': 27550.0, 'steps_per_sec': 1.9105526413666853}\n",
            "INFO - {'loss': 38.153934478759766, 'step': 27600.0, 'steps_per_sec': 2.918619532062713}\n"
          ],
          "name": "stderr"
        },
        {
          "output_type": "stream",
          "text": [
            "train_iter\n"
          ],
          "name": "stdout"
        },
        {
          "output_type": "stream",
          "text": [
            "INFO - {'loss': 38.402915954589844, 'step': 27601.0}\n"
          ],
          "name": "stderr"
        },
        {
          "output_type": "stream",
          "text": [
            "test_iter\n"
          ],
          "name": "stdout"
        },
        {
          "output_type": "stream",
          "text": [
            "INFO - {'loss': 47.99298858642578, 'step': 27601.0}\n",
            "INFO - {'loss': 36.591453552246094, 'step': 27650.0, 'steps_per_sec': 1.9177590112754868}\n",
            "INFO - {'loss': 40.33780288696289, 'step': 27700.0, 'steps_per_sec': 2.9242010280003816}\n"
          ],
          "name": "stderr"
        },
        {
          "output_type": "stream",
          "text": [
            "train_iter\n"
          ],
          "name": "stdout"
        },
        {
          "output_type": "stream",
          "text": [
            "INFO - {'loss': 39.72968292236328, 'step': 27701.0}\n"
          ],
          "name": "stderr"
        },
        {
          "output_type": "stream",
          "text": [
            "test_iter\n"
          ],
          "name": "stdout"
        },
        {
          "output_type": "stream",
          "text": [
            "INFO - {'loss': 46.609676361083984, 'step': 27701.0}\n"
          ],
          "name": "stderr"
        }
      ]
    },
    {
      "cell_type": "code",
      "metadata": {
        "id": "9xxDhL34VykN"
      },
      "source": [
        ""
      ],
      "execution_count": null,
      "outputs": []
    },
    {
      "cell_type": "code",
      "metadata": {
        "id": "Dg1jSuwEWHys"
      },
      "source": [
        "# tick_iter = iter(tfds.as_numpy(tfd_ticks))\n",
        "# tick_iter = iter(tfd_ticks)\n"
      ],
      "execution_count": null,
      "outputs": []
    },
    {
      "cell_type": "code",
      "metadata": {
        "id": "IFaesQ7vWNDL"
      },
      "source": [
        "# rng = jax.random.PRNGKey(428)\n",
        "# rng, init_rng = jax.random.split(rng)\n",
        "# cpc_model.init(init_rng, next(train_iter))\n",
        "# cpc_model."
      ],
      "execution_count": null,
      "outputs": []
    },
    {
      "cell_type": "markdown",
      "metadata": {
        "id": "2JV9e6D8SgSS"
      },
      "source": [
        "## Train Model"
      ]
    },
    {
      "cell_type": "code",
      "metadata": {
        "id": "cmELshrOSf0N"
      },
      "source": [
        "down_sampling_factor = 5 # 5 minute window"
      ],
      "execution_count": null,
      "outputs": []
    },
    {
      "cell_type": "markdown",
      "metadata": {
        "id": "zrVU-ZD-Sflg"
      },
      "source": [
        "## Evaluate Model"
      ]
    },
    {
      "cell_type": "code",
      "metadata": {
        "id": "i0AFqSNOR-E7"
      },
      "source": [
        ""
      ],
      "execution_count": null,
      "outputs": []
    }
  ]
}